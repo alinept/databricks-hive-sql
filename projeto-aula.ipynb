{
 "cells": [
  {
   "cell_type": "markdown",
   "metadata": {
    "application/vnd.databricks.v1+cell": {
     "cellMetadata": {},
     "inputWidgets": {},
     "nuid": "97105dbf-1fef-4180-8554-61d1103b3083",
     "showTitle": false,
     "title": ""
    }
   },
   "source": [
    "# Utilizando o Databricks"
   ]
  },
  {
   "cell_type": "markdown",
   "metadata": {
    "application/vnd.databricks.v1+cell": {
     "cellMetadata": {},
     "inputWidgets": {},
     "nuid": "0f425e78-8e38-40f9-9cbc-4293a1246512",
     "showTitle": false,
     "title": ""
    }
   },
   "source": [
    "## Criando tabela no notebook"
   ]
  },
  {
   "cell_type": "code",
   "execution_count": 0,
   "metadata": {
    "application/vnd.databricks.v1+cell": {
     "cellMetadata": {
      "byteLimit": 2048000,
      "rowLimit": 10000
     },
     "inputWidgets": {},
     "nuid": "8e2c2aa0-df83-43f2-8a54-a371c3065455",
     "showTitle": false,
     "title": ""
    }
   },
   "outputs": [],
   "source": [
    "dbutils.fs.rm('/user/hive/warehouse/data_csv', recurse=True)\n",
    "\n",
    "# Para este procedimento funcionar o arquivo data.csv deve estar carregado no DBFS no endereço especificado na variável `file_location`\n",
    "file_location = '/FileStore/tables/data.csv'\n",
    "file_type = 'csv'\n",
    "infer_schema = 'true'\n",
    "first_row_is_header = 'true'\n",
    "delimiter = ';'\n",
    "\n",
    "df = spark\\\n",
    "    .read\\\n",
    "    .format(file_type)\\\n",
    "    .option('inferSchema', infer_schema)\\\n",
    "    .option('header', first_row_is_header)\\\n",
    "    .option('sep', delimiter)\\\n",
    "    .load(file_location)\n",
    "\n",
    "table_name = 'data_csv'\n",
    "\n",
    "df.write.format('parquet').saveAsTable(table_name)"
   ]
  },
  {
   "cell_type": "markdown",
   "metadata": {
    "application/vnd.databricks.v1+cell": {
     "cellMetadata": {},
     "inputWidgets": {},
     "nuid": "dddf1c4a-52b6-4ac1-9f5b-bd9d8c4800a5",
     "showTitle": false,
     "title": ""
    }
   },
   "source": [
    "# Databricks Utilities"
   ]
  },
  {
   "cell_type": "markdown",
   "metadata": {
    "application/vnd.databricks.v1+cell": {
     "cellMetadata": {},
     "inputWidgets": {},
     "nuid": "84762e36-bd4a-48f8-a114-965f2acdb663",
     "showTitle": false,
     "title": ""
    }
   },
   "source": [
    "## Comandos Databricks Utilities - `dbutils`"
   ]
  },
  {
   "cell_type": "code",
   "execution_count": 0,
   "metadata": {
    "application/vnd.databricks.v1+cell": {
     "cellMetadata": {
      "byteLimit": 2048000,
      "rowLimit": 10000
     },
     "inputWidgets": {},
     "nuid": "a04ff4cd-5367-4522-b40b-171020429a66",
     "showTitle": false,
     "title": ""
    }
   },
   "outputs": [
    {
     "output_type": "display_data",
     "data": {
      "text/html": [
       "<div class = \"ansiout\">\n",
       "This module provides various utilities for users to interact with the rest of Databricks.\n",
       "  <h3></h3><b>credentials: DatabricksCredentialUtils</b> -> Utilities for interacting with credentials within notebooks<br /><b>data: DataUtils</b> -> Utilities for understanding and interacting with datasets (EXPERIMENTAL)<br /><b>fs: DbfsUtils</b> -> Manipulates the Databricks filesystem (DBFS) from the console<br /><b>jobs: JobsUtils</b> -> Utilities for leveraging jobs features<br /><b>library: LibraryUtils</b> -> Utilities for session isolated libraries<br /><b>meta: MetaUtils</b> -> Methods to hook into the compiler (EXPERIMENTAL)<br /><b>notebook: NotebookUtils</b> -> Utilities for the control flow of a notebook (EXPERIMENTAL)<br /><b>preview: Preview</b> -> Utilities under preview category<br /><b>secrets: SecretUtils</b> -> Provides utilities for leveraging secrets within notebooks<br /><b>widgets: WidgetsUtils</b> -> Methods to create and get bound value of input widgets inside notebooks<br /><br /></div>"
      ]
     },
     "metadata": {
      "application/vnd.databricks.v1+output": {
       "addedWidgets": {},
       "arguments": {},
       "data": "<div class = \"ansiout\">\nThis module provides various utilities for users to interact with the rest of Databricks.\n  <h3></h3><b>credentials: DatabricksCredentialUtils</b> -> Utilities for interacting with credentials within notebooks<br /><b>data: DataUtils</b> -> Utilities for understanding and interacting with datasets (EXPERIMENTAL)<br /><b>fs: DbfsUtils</b> -> Manipulates the Databricks filesystem (DBFS) from the console<br /><b>jobs: JobsUtils</b> -> Utilities for leveraging jobs features<br /><b>library: LibraryUtils</b> -> Utilities for session isolated libraries<br /><b>meta: MetaUtils</b> -> Methods to hook into the compiler (EXPERIMENTAL)<br /><b>notebook: NotebookUtils</b> -> Utilities for the control flow of a notebook (EXPERIMENTAL)<br /><b>preview: Preview</b> -> Utilities under preview category<br /><b>secrets: SecretUtils</b> -> Provides utilities for leveraging secrets within notebooks<br /><b>widgets: WidgetsUtils</b> -> Methods to create and get bound value of input widgets inside notebooks<br /><br /></div>",
       "datasetInfos": [],
       "metadata": {},
       "removedWidgets": [],
       "textData": null,
       "type": "htmlSandbox"
      }
     },
     "output_type": "display_data"
    }
   ],
   "source": [
    "dbutils.help()"
   ]
  },
  {
   "cell_type": "code",
   "execution_count": 0,
   "metadata": {
    "application/vnd.databricks.v1+cell": {
     "cellMetadata": {
      "byteLimit": 2048000,
      "rowLimit": 10000
     },
     "inputWidgets": {},
     "nuid": "7f4eefb5-fd2f-4722-9000-c945c4a3555b",
     "showTitle": false,
     "title": ""
    }
   },
   "outputs": [
    {
     "output_type": "display_data",
     "data": {
      "text/html": [
       "<div class = \"ansiout\"><b>dbutils.fs</b> provides utilities for working with FileSystems. Most methods in\n",
       "this package can take either a DBFS path (e.g., \"/foo\" or \"dbfs:/foo\"), or\n",
       "another FileSystem URI.\n",
       "\n",
       "For more info about a method, use <b>dbutils.fs.help(\"methodName\")</b>.\n",
       "\n",
       "In notebooks, you can also use the %fs shorthand to access DBFS. The %fs shorthand maps\n",
       "straightforwardly onto dbutils calls. For example, \"%fs head --maxBytes=10000 /file/path\"\n",
       "translates into \"dbutils.fs.head(\"/file/path\", maxBytes = 10000)\".\n",
       "    <h3>mount</h3><b>mount(source: String, mountPoint: String, encryptionType: String = \"\", owner: String = null, extraConfigs: Map = Map.empty[String, String]): boolean</b> -> Mounts the given source directory into DBFS at the given mount point<br /><b>mounts: Seq</b> -> Displays information about what is mounted within DBFS<br /><b>refreshMounts: boolean</b> -> Forces all machines in this cluster to refresh their mount cache, ensuring they receive the most recent information<br /><b>unmount(mountPoint: String): boolean</b> -> Deletes a DBFS mount point<br /><b>updateMount(source: String, mountPoint: String, encryptionType: String = \"\", owner: String = null, extraConfigs: Map = Map.empty[String, String]): boolean</b> -> Similar to mount(), but updates an existing mount point (if present) instead of creating a new one<br /><br /><h3>fsutils</h3><b>cp(from: String, to: String, recurse: boolean = false): boolean</b> -> Copies a file or directory, possibly across FileSystems<br /><b>head(file: String, maxBytes: int = 65536): String</b> -> Returns up to the first 'maxBytes' bytes of the given file as a String encoded in UTF-8<br /><b>ls(dir: String): Seq</b> -> Lists the contents of a directory<br /><b>mkdirs(dir: String): boolean</b> -> Creates the given directory if it does not exist, also creating any necessary parent directories<br /><b>mv(from: String, to: String, recurse: boolean = false): boolean</b> -> Moves a file or directory, possibly across FileSystems<br /><b>put(file: String, contents: String, overwrite: boolean = false): boolean</b> -> Writes the given String out to a file, encoded in UTF-8<br /><b>rm(dir: String, recurse: boolean = false): boolean</b> -> Removes a file or directory<br /><br /></div>"
      ]
     },
     "metadata": {
      "application/vnd.databricks.v1+output": {
       "addedWidgets": {},
       "arguments": {},
       "data": "<div class = \"ansiout\"><b>dbutils.fs</b> provides utilities for working with FileSystems. Most methods in\nthis package can take either a DBFS path (e.g., \"/foo\" or \"dbfs:/foo\"), or\nanother FileSystem URI.\n\nFor more info about a method, use <b>dbutils.fs.help(\"methodName\")</b>.\n\nIn notebooks, you can also use the %fs shorthand to access DBFS. The %fs shorthand maps\nstraightforwardly onto dbutils calls. For example, \"%fs head --maxBytes=10000 /file/path\"\ntranslates into \"dbutils.fs.head(\"/file/path\", maxBytes = 10000)\".\n    <h3>mount</h3><b>mount(source: String, mountPoint: String, encryptionType: String = \"\", owner: String = null, extraConfigs: Map = Map.empty[String, String]): boolean</b> -> Mounts the given source directory into DBFS at the given mount point<br /><b>mounts: Seq</b> -> Displays information about what is mounted within DBFS<br /><b>refreshMounts: boolean</b> -> Forces all machines in this cluster to refresh their mount cache, ensuring they receive the most recent information<br /><b>unmount(mountPoint: String): boolean</b> -> Deletes a DBFS mount point<br /><b>updateMount(source: String, mountPoint: String, encryptionType: String = \"\", owner: String = null, extraConfigs: Map = Map.empty[String, String]): boolean</b> -> Similar to mount(), but updates an existing mount point (if present) instead of creating a new one<br /><br /><h3>fsutils</h3><b>cp(from: String, to: String, recurse: boolean = false): boolean</b> -> Copies a file or directory, possibly across FileSystems<br /><b>head(file: String, maxBytes: int = 65536): String</b> -> Returns up to the first 'maxBytes' bytes of the given file as a String encoded in UTF-8<br /><b>ls(dir: String): Seq</b> -> Lists the contents of a directory<br /><b>mkdirs(dir: String): boolean</b> -> Creates the given directory if it does not exist, also creating any necessary parent directories<br /><b>mv(from: String, to: String, recurse: boolean = false): boolean</b> -> Moves a file or directory, possibly across FileSystems<br /><b>put(file: String, contents: String, overwrite: boolean = false): boolean</b> -> Writes the given String out to a file, encoded in UTF-8<br /><b>rm(dir: String, recurse: boolean = false): boolean</b> -> Removes a file or directory<br /><br /></div>",
       "datasetInfos": [],
       "metadata": {},
       "removedWidgets": [],
       "textData": null,
       "type": "htmlSandbox"
      }
     },
     "output_type": "display_data"
    }
   ],
   "source": [
    "dbutils.fs.help()"
   ]
  },
  {
   "cell_type": "markdown",
   "metadata": {
    "application/vnd.databricks.v1+cell": {
     "cellMetadata": {},
     "inputWidgets": {},
     "nuid": "33d95024-1d74-46ae-a619-25301532151d",
     "showTitle": false,
     "title": ""
    }
   },
   "source": [
    "## Manipulando arquivos"
   ]
  },
  {
   "cell_type": "markdown",
   "metadata": {
    "application/vnd.databricks.v1+cell": {
     "cellMetadata": {},
     "inputWidgets": {},
     "nuid": "a92d35b7-a4e4-45bd-b54f-f698496b580e",
     "showTitle": false,
     "title": ""
    }
   },
   "source": [
    "### Listar todos os arquivos dentro de uma pasta"
   ]
  },
  {
   "cell_type": "code",
   "execution_count": 0,
   "metadata": {
    "application/vnd.databricks.v1+cell": {
     "cellMetadata": {
      "byteLimit": 2048000,
      "rowLimit": 10000
     },
     "inputWidgets": {},
     "nuid": "a8b54f9c-2fcf-426c-b3fa-6ea859b06f77",
     "showTitle": false,
     "title": ""
    }
   },
   "outputs": [
    {
     "output_type": "stream",
     "name": "stdout",
     "output_type": "stream",
     "text": [
      "Out[4]: [FileInfo(path='dbfs:/FileStore/', name='FileStore/', size=0, modificationTime=0),\n FileInfo(path='dbfs:/databricks-datasets/', name='databricks-datasets/', size=0, modificationTime=0),\n FileInfo(path='dbfs:/databricks-results/', name='databricks-results/', size=0, modificationTime=0),\n FileInfo(path='dbfs:/user/', name='user/', size=0, modificationTime=0)]"
     ]
    }
   ],
   "source": [
    "dbutils.fs.ls('/')"
   ]
  },
  {
   "cell_type": "code",
   "execution_count": 0,
   "metadata": {
    "application/vnd.databricks.v1+cell": {
     "cellMetadata": {
      "byteLimit": 2048000,
      "rowLimit": 10000
     },
     "inputWidgets": {},
     "nuid": "49929ae6-67ce-4699-9606-670bef4b87a2",
     "showTitle": false,
     "title": ""
    }
   },
   "outputs": [
    {
     "output_type": "stream",
     "name": "stdout",
     "output_type": "stream",
     "text": [
      "dbfs:/FileStore/\ndbfs:/databricks-datasets/\ndbfs:/databricks-results/\ndbfs:/user/\n"
     ]
    }
   ],
   "source": [
    "for item in dbutils.fs.ls('/'):\n",
    "    print(item.path)"
   ]
  },
  {
   "cell_type": "markdown",
   "metadata": {
    "application/vnd.databricks.v1+cell": {
     "cellMetadata": {},
     "inputWidgets": {},
     "nuid": "88173729-efac-42ad-a688-6508b377d96e",
     "showTitle": false,
     "title": ""
    }
   },
   "source": [
    "### Acessando os arquivos carregados no DBFS"
   ]
  },
  {
   "cell_type": "code",
   "execution_count": 0,
   "metadata": {
    "application/vnd.databricks.v1+cell": {
     "cellMetadata": {
      "byteLimit": 2048000,
      "rowLimit": 10000
     },
     "inputWidgets": {},
     "nuid": "f7bc4321-b6ea-4703-a089-d0367a27a79f",
     "showTitle": false,
     "title": ""
    }
   },
   "outputs": [
    {
     "output_type": "stream",
     "name": "stdout",
     "output_type": "stream",
     "text": [
      "Out[6]: [FileInfo(path='dbfs:/FileStore/tables/', name='tables/', size=0, modificationTime=0)]"
     ]
    }
   ],
   "source": [
    "dbutils.fs.ls('/FileStore/')"
   ]
  },
  {
   "cell_type": "code",
   "execution_count": 0,
   "metadata": {
    "application/vnd.databricks.v1+cell": {
     "cellMetadata": {
      "byteLimit": 2048000,
      "rowLimit": 10000
     },
     "inputWidgets": {},
     "nuid": "8ff4c895-260e-4059-8a05-5a9dd613346c",
     "showTitle": false,
     "title": ""
    }
   },
   "outputs": [
    {
     "output_type": "stream",
     "name": "stdout",
     "output_type": "stream",
     "text": [
      "Out[7]: [FileInfo(path='dbfs:/FileStore/tables/data.csv', name='data.csv', size=2781, modificationTime=1711565743000)]"
     ]
    }
   ],
   "source": [
    "dbutils.fs.ls('/FileStore/tables/')"
   ]
  },
  {
   "cell_type": "code",
   "execution_count": 0,
   "metadata": {
    "application/vnd.databricks.v1+cell": {
     "cellMetadata": {
      "byteLimit": 2048000,
      "rowLimit": 10000
     },
     "inputWidgets": {},
     "nuid": "e86afef3-84a8-4c5e-9d9e-04be7b4e0b1c",
     "showTitle": false,
     "title": ""
    }
   },
   "outputs": [
    {
     "output_type": "display_data",
     "data": {
      "text/html": [
       "<style scoped>\n",
       "  .table-result-container {\n",
       "    max-height: 300px;\n",
       "    overflow: auto;\n",
       "  }\n",
       "  table, th, td {\n",
       "    border: 1px solid black;\n",
       "    border-collapse: collapse;\n",
       "  }\n",
       "  th, td {\n",
       "    padding: 5px;\n",
       "  }\n",
       "  th {\n",
       "    text-align: left;\n",
       "  }\n",
       "</style><div class='table-result-container'><table class='table-result'><thead style='background-color: white'><tr><th>path</th><th>name</th><th>size</th><th>modificationTime</th></tr></thead><tbody><tr><td>dbfs:/FileStore/tables/data.csv</td><td>data.csv</td><td>2781</td><td>1711565743000</td></tr></tbody></table></div>"
      ]
     },
     "metadata": {
      "application/vnd.databricks.v1+output": {
       "addedWidgets": {},
       "aggData": [],
       "aggError": "",
       "aggOverflow": false,
       "aggSchema": [],
       "aggSeriesLimitReached": false,
       "aggType": "",
       "arguments": {},
       "columnCustomDisplayInfos": {},
       "data": [
        [
         "dbfs:/FileStore/tables/data.csv",
         "data.csv",
         2781,
         1711565743000
        ]
       ],
       "datasetInfos": [],
       "dbfsResultPath": null,
       "isJsonSchema": true,
       "metadata": {},
       "overflow": false,
       "plotOptions": {
        "customPlotOptions": {},
        "displayType": "table",
        "pivotAggregation": null,
        "pivotColumns": null,
        "xColumns": null,
        "yColumns": null
       },
       "removedWidgets": [],
       "schema": [
        {
         "metadata": "{}",
         "name": "path",
         "type": "\"string\""
        },
        {
         "metadata": "{}",
         "name": "name",
         "type": "\"string\""
        },
        {
         "metadata": "{}",
         "name": "size",
         "type": "\"long\""
        },
        {
         "metadata": "{}",
         "name": "modificationTime",
         "type": "\"long\""
        }
       ],
       "type": "table"
      }
     },
     "output_type": "display_data"
    }
   ],
   "source": [
    "display(dbutils.fs.ls('/FileStore/tables/'))"
   ]
  },
  {
   "cell_type": "markdown",
   "metadata": {
    "application/vnd.databricks.v1+cell": {
     "cellMetadata": {},
     "inputWidgets": {},
     "nuid": "681da077-f322-4b1d-aa93-712b9cb4455d",
     "showTitle": false,
     "title": ""
    }
   },
   "source": [
    "### Listando as primeiras linhas de um arquivo"
   ]
  },
  {
   "cell_type": "code",
   "execution_count": 0,
   "metadata": {
    "application/vnd.databricks.v1+cell": {
     "cellMetadata": {
      "byteLimit": 2048000,
      "rowLimit": 10000
     },
     "inputWidgets": {},
     "nuid": "b048a89c-c992-4437-a3ef-b55e8412e1cd",
     "showTitle": false,
     "title": ""
    }
   },
   "outputs": [
    {
     "output_type": "stream",
     "name": "stdout",
     "output_type": "stream",
     "text": [
      "Out[9]: 'Nomes;Idades;Peso;Altura;IMC\\r\\nAaron;39;53;1.93;14.2\\r\\nAdam;46;100;1.58;40.1\\r\\nAdrian;24;110;1.57;44.6\\r\\nAlec;39;57;1.83;17.0\\r\\nAlexander;32;89;1.54;37.5\\r\\nAlfred;58;116;1.53;49.6\\r\\nAndrew;59;60;1.58;24.0\\r\\nAnthony;22;57;1.50;25.3\\r\\nArthur;20;114;1.87;32.6\\r\\nAsher;40;91;1.76;29.4\\r\\nBarnabay;25;69;1.64;25.7\\r\\nBenedict;37;115;1.72;38.9\\r\\nBenjamin;41;76;1.85;22.2\\r\\nBradley;42;54;1.91;14.8\\r\\nBrandon;45;115;1.60;44.9\\r\\nBrian;52;52;1.68;18.4\\r\\nBrice;43;81;1.60;31.6\\r\\nBruce;41;53;1.61;20.4\\r\\nCaleb;36;102;1.72;34.5\\r\\nCameron;60;104;1.87;29.7\\r\\nCharles;32;90;1.74;29.7\\r\\nChristopher;57;75;1.99;18.9\\r\\nClinton;44;61;1.95;16.0\\r\\nColin;37;81;1.57;32.9\\r\\nConnor;32;111;1.71;38.0\\r\\nDamian;28;116;1.96;30.2\\r\\nDaniel;27;103;1.88;29.1\\r\\nDavid;43;74;1.60;28.9\\r\\nDeclan;36;114;1.93;30.6\\r\\nDexter;57;80;1.75;26.1\\r\\nDominic;22;77;1.62;29.3\\r\\nDonald;51;75;1.66;27.2\\r\\nDouglas;28;93;1.99;23.5\\r\\nDuncan;27;99;1.78;31.2\\r\\nDustin;25;100;1.87;28.6\\r\\nDylan;39;117;1.94;31.1\\r\\nEdgard;47;75;1.86;21.7\\r\\nEdward;48;117;1.53;50.0\\r\\nEli;24;52;1.70;18.0\\r\\nElias;54;58;1.70;20.1\\r\\nEric;39;106;1.71;36.3\\r\\nEthan;32;89;1.82;26.9\\r\\nEvan;65;107;1.95;28.1\\r\\nEzra;53;51;1.57;20.7\\r\\nForrest;40;58;1.57;23.5\\r\\nFrank;34;79;1.63;29.7\\r\\nFrederick;23;56;1.56;23.0\\r\\nGeorge;28;84;1.57;34.1\\r\\nGilbert;42;98;2.00;24.5\\r\\nGraham;20;51;1.61;19.7\\r\\nHank;44;71;1.75;23.2\\r\\nHarold;49;74;1.63;27.9\\r\\nHarry;32;89;1.96;23.2\\r\\nHarvey;43;120;1.54;50.6\\r\\nHenry;25;78;1.93;20.9\\r\\nIan;19;77;1.56;31.6\\r\\nJack;59;81;1.79;25.3\\r\\nJackson;64;114;1.83;34.0\\r\\nJacob;65;95;2.00;23.8\\r\\nJames;18;89;1.53;38.0\\r\\nJohn;54;60;1.98;15.3\\r\\nJonathan;55;96;1.53;41.0\\r\\nJordan;55;90;1.68;31.9\\r\\nJoseph;62;88;1.50;39.1\\r\\nJoshua;59;116;1.52;50.2\\r\\nJude;53;79;1.59;31.2\\r\\nJulian;64;51;1.62;19.4\\r\\nJustin;36;114;1.52;49.3\\r\\nKenneth;61;101;1.80;31.2\\r\\nKevin;35;87;1.95;22.9\\r\\nKyle;26;115;1.51;50.4\\r\\nLewis;18;97;1.88;27.4\\r\\nLiam;62;86;1.82;26.0\\r\\nLogan;35;74;1.64;27.5\\r\\nLuke;43;86;1.76;27.8\\r\\nMalcolm;46;107;1.52;46.3\\r\\nMark;47;95;1.87;27.2\\r\\nMartin;61;50;1.94;13.3\\r\\nMatthew;29;61;1.90;16.9\\r\\nMaximiliam;56;98;1.85;28.6\\r\\nMichael;65;77;1.57;31.2\\r\\nMilo;52;115;1.99;29.0\\r\\nNathaniel;37;100;1.99;25.3\\r\\nNeil;23;95;1.60;37.1\\r\\nNicholas;41;109;1.58;43.7\\r\\nNoah;19;73;1.93;19.6\\r\\nOliver;57;102;1.71;34.9\\r\\nOscar;21;99;1.76;32.0\\r\\nOwen;33;68;1.82;20.5\\r\\nPatrick;64;52;1.82;15.7\\r\\nPaul;39;93;1.59;36.8\\r\\nPeter;65;110;1.75;35.9\\r\\nQuincy;53;73;1.78;23.0\\r\\nRalph;60;62;1.84;18.3\\r\\nRichard;54;58;1.98;14.8\\r\\nRobert;41;85;1.56;34.9\\r\\nRobin;31;114;1.61;44.0\\r\\nRoger;58;77;1.68;27.3\\r\\nRussell;24;108;1.64;40.2\\r\\nRyan;42;74;1.58;29.6\\r\\nRyder;64;58;1.52;25.1\\r\\nSamuel;23;104;1.82;31.4\\r\\nScott;59;53;1.67;19.0\\r\\nSean;54;73;1.61;28.2\\r\\nSebastian;39;102;1.99;25.8\\r\\nStephen;21;74;1.61;28.5\\r\\nSteven;45;93;1.97;24.0\\r\\nStuart;59;70;1.93;18.8\\r\\nThomas;32;120;1.56;49.3\\r\\nTyler;26;95;1.62;36.2\\r\\nVincent;36;109;1.57;44.2\\r\\nWalter;44;108;1.90;29.9\\r\\nWilliam;23;108;1.63;40.6\\r\\nWyatt;51;83;1.98;21.2\\r\\n'"
     ]
    }
   ],
   "source": [
    "dbutils.fs.head('/FileStore/tables/data.csv')"
   ]
  },
  {
   "cell_type": "markdown",
   "metadata": {
    "application/vnd.databricks.v1+cell": {
     "cellMetadata": {},
     "inputWidgets": {},
     "nuid": "fb56ac53-2e28-4a66-a065-693667c83e59",
     "showTitle": false,
     "title": ""
    }
   },
   "source": [
    "### Removendo arquivos"
   ]
  },
  {
   "cell_type": "code",
   "execution_count": 0,
   "metadata": {
    "application/vnd.databricks.v1+cell": {
     "cellMetadata": {},
     "inputWidgets": {},
     "nuid": "8ed5ab5c-f3dc-48c6-90eb-82d287d4032a",
     "showTitle": false,
     "title": ""
    }
   },
   "outputs": [],
   "source": [
    "dbutils.fs.rm('/FileStore/tables/data.csv')"
   ]
  },
  {
   "cell_type": "code",
   "execution_count": 0,
   "metadata": {
    "application/vnd.databricks.v1+cell": {
     "cellMetadata": {
      "byteLimit": 2048000,
      "rowLimit": 10000
     },
     "inputWidgets": {},
     "nuid": "b433ca63-234a-4fc8-b448-22175c95a9f9",
     "showTitle": false,
     "title": ""
    }
   },
   "outputs": [
    {
     "output_type": "stream",
     "name": "stdout",
     "output_type": "stream",
     "text": [
      "Out[10]: [FileInfo(path='dbfs:/FileStore/tables/data.csv', name='data.csv', size=2781, modificationTime=1711565743000)]"
     ]
    }
   ],
   "source": [
    "dbutils.fs.ls('/FileStore/tables')"
   ]
  },
  {
   "cell_type": "markdown",
   "metadata": {
    "application/vnd.databricks.v1+cell": {
     "cellMetadata": {},
     "inputWidgets": {},
     "nuid": "bdb21bbc-cd75-4171-8359-772332a26bc0",
     "showTitle": false,
     "title": ""
    }
   },
   "source": [
    "## Databricks Datasets\n",
    "##### [Wine Quality Data Set](http://archive.ics.uci.edu/ml/datasets/wine+quality)"
   ]
  },
  {
   "cell_type": "code",
   "execution_count": 0,
   "metadata": {
    "application/vnd.databricks.v1+cell": {
     "cellMetadata": {
      "byteLimit": 2048000,
      "rowLimit": 10000
     },
     "inputWidgets": {},
     "nuid": "7dfd7ed4-84c5-499d-aff7-516358d3e6f1",
     "showTitle": false,
     "title": ""
    }
   },
   "outputs": [
    {
     "output_type": "stream",
     "name": "stdout",
     "output_type": "stream",
     "text": [
      "dbfs:/FileStore/\ndbfs:/databricks-datasets/\ndbfs:/databricks-results/\ndbfs:/user/\n"
     ]
    }
   ],
   "source": [
    "for item in dbutils.fs.ls('/'): print(item.path)"
   ]
  },
  {
   "cell_type": "code",
   "execution_count": 0,
   "metadata": {
    "application/vnd.databricks.v1+cell": {
     "cellMetadata": {
      "byteLimit": 2048000,
      "rowLimit": 10000
     },
     "inputWidgets": {},
     "nuid": "24c72ec7-f990-414a-b464-2ded73943a3b",
     "showTitle": false,
     "title": ""
    }
   },
   "outputs": [
    {
     "output_type": "display_data",
     "data": {
      "text/html": [
       "<style scoped>\n",
       "  .table-result-container {\n",
       "    max-height: 300px;\n",
       "    overflow: auto;\n",
       "  }\n",
       "  table, th, td {\n",
       "    border: 1px solid black;\n",
       "    border-collapse: collapse;\n",
       "  }\n",
       "  th, td {\n",
       "    padding: 5px;\n",
       "  }\n",
       "  th {\n",
       "    text-align: left;\n",
       "  }\n",
       "</style><div class='table-result-container'><table class='table-result'><thead style='background-color: white'><tr><th>path</th><th>name</th><th>size</th><th>modificationTime</th></tr></thead><tbody><tr><td>dbfs:/databricks-datasets/COVID/</td><td>COVID/</td><td>0</td><td>0</td></tr><tr><td>dbfs:/databricks-datasets/README.md</td><td>README.md</td><td>976</td><td>1532468253000</td></tr><tr><td>dbfs:/databricks-datasets/Rdatasets/</td><td>Rdatasets/</td><td>0</td><td>0</td></tr><tr><td>dbfs:/databricks-datasets/SPARK_README.md</td><td>SPARK_README.md</td><td>3359</td><td>1455043490000</td></tr><tr><td>dbfs:/databricks-datasets/adult/</td><td>adult/</td><td>0</td><td>0</td></tr><tr><td>dbfs:/databricks-datasets/airlines/</td><td>airlines/</td><td>0</td><td>0</td></tr><tr><td>dbfs:/databricks-datasets/amazon/</td><td>amazon/</td><td>0</td><td>0</td></tr><tr><td>dbfs:/databricks-datasets/asa/</td><td>asa/</td><td>0</td><td>0</td></tr><tr><td>dbfs:/databricks-datasets/atlas_higgs/</td><td>atlas_higgs/</td><td>0</td><td>0</td></tr><tr><td>dbfs:/databricks-datasets/bikeSharing/</td><td>bikeSharing/</td><td>0</td><td>0</td></tr><tr><td>dbfs:/databricks-datasets/cctvVideos/</td><td>cctvVideos/</td><td>0</td><td>0</td></tr><tr><td>dbfs:/databricks-datasets/credit-card-fraud/</td><td>credit-card-fraud/</td><td>0</td><td>0</td></tr><tr><td>dbfs:/databricks-datasets/cs100/</td><td>cs100/</td><td>0</td><td>0</td></tr><tr><td>dbfs:/databricks-datasets/cs110x/</td><td>cs110x/</td><td>0</td><td>0</td></tr><tr><td>dbfs:/databricks-datasets/cs190/</td><td>cs190/</td><td>0</td><td>0</td></tr><tr><td>dbfs:/databricks-datasets/data.gov/</td><td>data.gov/</td><td>0</td><td>0</td></tr><tr><td>dbfs:/databricks-datasets/definitive-guide/</td><td>definitive-guide/</td><td>0</td><td>0</td></tr><tr><td>dbfs:/databricks-datasets/delta-sharing/</td><td>delta-sharing/</td><td>0</td><td>0</td></tr><tr><td>dbfs:/databricks-datasets/flights/</td><td>flights/</td><td>0</td><td>0</td></tr><tr><td>dbfs:/databricks-datasets/flower_photos/</td><td>flower_photos/</td><td>0</td><td>0</td></tr><tr><td>dbfs:/databricks-datasets/flowers/</td><td>flowers/</td><td>0</td><td>0</td></tr><tr><td>dbfs:/databricks-datasets/genomics/</td><td>genomics/</td><td>0</td><td>0</td></tr><tr><td>dbfs:/databricks-datasets/hail/</td><td>hail/</td><td>0</td><td>0</td></tr><tr><td>dbfs:/databricks-datasets/identifying-campaign-effectiveness/</td><td>identifying-campaign-effectiveness/</td><td>0</td><td>0</td></tr><tr><td>dbfs:/databricks-datasets/iot/</td><td>iot/</td><td>0</td><td>0</td></tr><tr><td>dbfs:/databricks-datasets/iot-stream/</td><td>iot-stream/</td><td>0</td><td>0</td></tr><tr><td>dbfs:/databricks-datasets/learning-spark/</td><td>learning-spark/</td><td>0</td><td>0</td></tr><tr><td>dbfs:/databricks-datasets/learning-spark-v2/</td><td>learning-spark-v2/</td><td>0</td><td>0</td></tr><tr><td>dbfs:/databricks-datasets/lending-club-loan-stats/</td><td>lending-club-loan-stats/</td><td>0</td><td>0</td></tr><tr><td>dbfs:/databricks-datasets/med-images/</td><td>med-images/</td><td>0</td><td>0</td></tr><tr><td>dbfs:/databricks-datasets/media/</td><td>media/</td><td>0</td><td>0</td></tr><tr><td>dbfs:/databricks-datasets/mnist-digits/</td><td>mnist-digits/</td><td>0</td><td>0</td></tr><tr><td>dbfs:/databricks-datasets/news20.binary/</td><td>news20.binary/</td><td>0</td><td>0</td></tr><tr><td>dbfs:/databricks-datasets/nyctaxi/</td><td>nyctaxi/</td><td>0</td><td>0</td></tr><tr><td>dbfs:/databricks-datasets/nyctaxi-with-zipcodes/</td><td>nyctaxi-with-zipcodes/</td><td>0</td><td>0</td></tr><tr><td>dbfs:/databricks-datasets/online_retail/</td><td>online_retail/</td><td>0</td><td>0</td></tr><tr><td>dbfs:/databricks-datasets/overlap-join/</td><td>overlap-join/</td><td>0</td><td>0</td></tr><tr><td>dbfs:/databricks-datasets/power-plant/</td><td>power-plant/</td><td>0</td><td>0</td></tr><tr><td>dbfs:/databricks-datasets/retail-org/</td><td>retail-org/</td><td>0</td><td>0</td></tr><tr><td>dbfs:/databricks-datasets/rwe/</td><td>rwe/</td><td>0</td><td>0</td></tr><tr><td>dbfs:/databricks-datasets/sai-summit-2019-sf/</td><td>sai-summit-2019-sf/</td><td>0</td><td>0</td></tr><tr><td>dbfs:/databricks-datasets/sample_logs/</td><td>sample_logs/</td><td>0</td><td>0</td></tr><tr><td>dbfs:/databricks-datasets/samples/</td><td>samples/</td><td>0</td><td>0</td></tr><tr><td>dbfs:/databricks-datasets/sfo_customer_survey/</td><td>sfo_customer_survey/</td><td>0</td><td>0</td></tr><tr><td>dbfs:/databricks-datasets/sms_spam_collection/</td><td>sms_spam_collection/</td><td>0</td><td>0</td></tr><tr><td>dbfs:/databricks-datasets/songs/</td><td>songs/</td><td>0</td><td>0</td></tr><tr><td>dbfs:/databricks-datasets/structured-streaming/</td><td>structured-streaming/</td><td>0</td><td>0</td></tr><tr><td>dbfs:/databricks-datasets/timeseries/</td><td>timeseries/</td><td>0</td><td>0</td></tr><tr><td>dbfs:/databricks-datasets/tpch/</td><td>tpch/</td><td>0</td><td>0</td></tr><tr><td>dbfs:/databricks-datasets/travel_recommendations_realtime/</td><td>travel_recommendations_realtime/</td><td>0</td><td>0</td></tr><tr><td>dbfs:/databricks-datasets/warmup/</td><td>warmup/</td><td>0</td><td>0</td></tr><tr><td>dbfs:/databricks-datasets/weather/</td><td>weather/</td><td>0</td><td>0</td></tr><tr><td>dbfs:/databricks-datasets/wiki/</td><td>wiki/</td><td>0</td><td>0</td></tr><tr><td>dbfs:/databricks-datasets/wikipedia-datasets/</td><td>wikipedia-datasets/</td><td>0</td><td>0</td></tr><tr><td>dbfs:/databricks-datasets/wine-quality/</td><td>wine-quality/</td><td>0</td><td>0</td></tr></tbody></table></div>"
      ]
     },
     "metadata": {
      "application/vnd.databricks.v1+output": {
       "addedWidgets": {},
       "aggData": [],
       "aggError": "",
       "aggOverflow": false,
       "aggSchema": [],
       "aggSeriesLimitReached": false,
       "aggType": "",
       "arguments": {},
       "columnCustomDisplayInfos": {},
       "data": [
        [
         "dbfs:/databricks-datasets/COVID/",
         "COVID/",
         0,
         0
        ],
        [
         "dbfs:/databricks-datasets/README.md",
         "README.md",
         976,
         1532468253000
        ],
        [
         "dbfs:/databricks-datasets/Rdatasets/",
         "Rdatasets/",
         0,
         0
        ],
        [
         "dbfs:/databricks-datasets/SPARK_README.md",
         "SPARK_README.md",
         3359,
         1455043490000
        ],
        [
         "dbfs:/databricks-datasets/adult/",
         "adult/",
         0,
         0
        ],
        [
         "dbfs:/databricks-datasets/airlines/",
         "airlines/",
         0,
         0
        ],
        [
         "dbfs:/databricks-datasets/amazon/",
         "amazon/",
         0,
         0
        ],
        [
         "dbfs:/databricks-datasets/asa/",
         "asa/",
         0,
         0
        ],
        [
         "dbfs:/databricks-datasets/atlas_higgs/",
         "atlas_higgs/",
         0,
         0
        ],
        [
         "dbfs:/databricks-datasets/bikeSharing/",
         "bikeSharing/",
         0,
         0
        ],
        [
         "dbfs:/databricks-datasets/cctvVideos/",
         "cctvVideos/",
         0,
         0
        ],
        [
         "dbfs:/databricks-datasets/credit-card-fraud/",
         "credit-card-fraud/",
         0,
         0
        ],
        [
         "dbfs:/databricks-datasets/cs100/",
         "cs100/",
         0,
         0
        ],
        [
         "dbfs:/databricks-datasets/cs110x/",
         "cs110x/",
         0,
         0
        ],
        [
         "dbfs:/databricks-datasets/cs190/",
         "cs190/",
         0,
         0
        ],
        [
         "dbfs:/databricks-datasets/data.gov/",
         "data.gov/",
         0,
         0
        ],
        [
         "dbfs:/databricks-datasets/definitive-guide/",
         "definitive-guide/",
         0,
         0
        ],
        [
         "dbfs:/databricks-datasets/delta-sharing/",
         "delta-sharing/",
         0,
         0
        ],
        [
         "dbfs:/databricks-datasets/flights/",
         "flights/",
         0,
         0
        ],
        [
         "dbfs:/databricks-datasets/flower_photos/",
         "flower_photos/",
         0,
         0
        ],
        [
         "dbfs:/databricks-datasets/flowers/",
         "flowers/",
         0,
         0
        ],
        [
         "dbfs:/databricks-datasets/genomics/",
         "genomics/",
         0,
         0
        ],
        [
         "dbfs:/databricks-datasets/hail/",
         "hail/",
         0,
         0
        ],
        [
         "dbfs:/databricks-datasets/identifying-campaign-effectiveness/",
         "identifying-campaign-effectiveness/",
         0,
         0
        ],
        [
         "dbfs:/databricks-datasets/iot/",
         "iot/",
         0,
         0
        ],
        [
         "dbfs:/databricks-datasets/iot-stream/",
         "iot-stream/",
         0,
         0
        ],
        [
         "dbfs:/databricks-datasets/learning-spark/",
         "learning-spark/",
         0,
         0
        ],
        [
         "dbfs:/databricks-datasets/learning-spark-v2/",
         "learning-spark-v2/",
         0,
         0
        ],
        [
         "dbfs:/databricks-datasets/lending-club-loan-stats/",
         "lending-club-loan-stats/",
         0,
         0
        ],
        [
         "dbfs:/databricks-datasets/med-images/",
         "med-images/",
         0,
         0
        ],
        [
         "dbfs:/databricks-datasets/media/",
         "media/",
         0,
         0
        ],
        [
         "dbfs:/databricks-datasets/mnist-digits/",
         "mnist-digits/",
         0,
         0
        ],
        [
         "dbfs:/databricks-datasets/news20.binary/",
         "news20.binary/",
         0,
         0
        ],
        [
         "dbfs:/databricks-datasets/nyctaxi/",
         "nyctaxi/",
         0,
         0
        ],
        [
         "dbfs:/databricks-datasets/nyctaxi-with-zipcodes/",
         "nyctaxi-with-zipcodes/",
         0,
         0
        ],
        [
         "dbfs:/databricks-datasets/online_retail/",
         "online_retail/",
         0,
         0
        ],
        [
         "dbfs:/databricks-datasets/overlap-join/",
         "overlap-join/",
         0,
         0
        ],
        [
         "dbfs:/databricks-datasets/power-plant/",
         "power-plant/",
         0,
         0
        ],
        [
         "dbfs:/databricks-datasets/retail-org/",
         "retail-org/",
         0,
         0
        ],
        [
         "dbfs:/databricks-datasets/rwe/",
         "rwe/",
         0,
         0
        ],
        [
         "dbfs:/databricks-datasets/sai-summit-2019-sf/",
         "sai-summit-2019-sf/",
         0,
         0
        ],
        [
         "dbfs:/databricks-datasets/sample_logs/",
         "sample_logs/",
         0,
         0
        ],
        [
         "dbfs:/databricks-datasets/samples/",
         "samples/",
         0,
         0
        ],
        [
         "dbfs:/databricks-datasets/sfo_customer_survey/",
         "sfo_customer_survey/",
         0,
         0
        ],
        [
         "dbfs:/databricks-datasets/sms_spam_collection/",
         "sms_spam_collection/",
         0,
         0
        ],
        [
         "dbfs:/databricks-datasets/songs/",
         "songs/",
         0,
         0
        ],
        [
         "dbfs:/databricks-datasets/structured-streaming/",
         "structured-streaming/",
         0,
         0
        ],
        [
         "dbfs:/databricks-datasets/timeseries/",
         "timeseries/",
         0,
         0
        ],
        [
         "dbfs:/databricks-datasets/tpch/",
         "tpch/",
         0,
         0
        ],
        [
         "dbfs:/databricks-datasets/travel_recommendations_realtime/",
         "travel_recommendations_realtime/",
         0,
         0
        ],
        [
         "dbfs:/databricks-datasets/warmup/",
         "warmup/",
         0,
         0
        ],
        [
         "dbfs:/databricks-datasets/weather/",
         "weather/",
         0,
         0
        ],
        [
         "dbfs:/databricks-datasets/wiki/",
         "wiki/",
         0,
         0
        ],
        [
         "dbfs:/databricks-datasets/wikipedia-datasets/",
         "wikipedia-datasets/",
         0,
         0
        ],
        [
         "dbfs:/databricks-datasets/wine-quality/",
         "wine-quality/",
         0,
         0
        ]
       ],
       "datasetInfos": [],
       "dbfsResultPath": null,
       "isJsonSchema": true,
       "metadata": {},
       "overflow": false,
       "plotOptions": {
        "customPlotOptions": {},
        "displayType": "table",
        "pivotAggregation": null,
        "pivotColumns": null,
        "xColumns": null,
        "yColumns": null
       },
       "removedWidgets": [],
       "schema": [
        {
         "metadata": "{}",
         "name": "path",
         "type": "\"string\""
        },
        {
         "metadata": "{}",
         "name": "name",
         "type": "\"string\""
        },
        {
         "metadata": "{}",
         "name": "size",
         "type": "\"long\""
        },
        {
         "metadata": "{}",
         "name": "modificationTime",
         "type": "\"long\""
        }
       ],
       "type": "table"
      }
     },
     "output_type": "display_data"
    }
   ],
   "source": [
    "display(dbutils.fs.ls('/databricks-datasets'))"
   ]
  },
  {
   "cell_type": "code",
   "execution_count": 0,
   "metadata": {
    "application/vnd.databricks.v1+cell": {
     "cellMetadata": {
      "byteLimit": 2048000,
      "rowLimit": 10000
     },
     "inputWidgets": {},
     "nuid": "327762d6-62f9-4176-9a01-5125f87efaf3",
     "showTitle": false,
     "title": ""
    }
   },
   "outputs": [
    {
     "output_type": "display_data",
     "data": {
      "text/html": [
       "<style scoped>\n",
       "  .table-result-container {\n",
       "    max-height: 300px;\n",
       "    overflow: auto;\n",
       "  }\n",
       "  table, th, td {\n",
       "    border: 1px solid black;\n",
       "    border-collapse: collapse;\n",
       "  }\n",
       "  th, td {\n",
       "    padding: 5px;\n",
       "  }\n",
       "  th {\n",
       "    text-align: left;\n",
       "  }\n",
       "</style><div class='table-result-container'><table class='table-result'><thead style='background-color: white'><tr><th>path</th><th>name</th><th>size</th><th>modificationTime</th></tr></thead><tbody><tr><td>dbfs:/databricks-datasets/wine-quality/README.md</td><td>README.md</td><td>1066</td><td>1594262736000</td></tr><tr><td>dbfs:/databricks-datasets/wine-quality/winequality-red.csv</td><td>winequality-red.csv</td><td>84199</td><td>1594262736000</td></tr><tr><td>dbfs:/databricks-datasets/wine-quality/winequality-white.csv</td><td>winequality-white.csv</td><td>264426</td><td>1594262736000</td></tr></tbody></table></div>"
      ]
     },
     "metadata": {
      "application/vnd.databricks.v1+output": {
       "addedWidgets": {},
       "aggData": [],
       "aggError": "",
       "aggOverflow": false,
       "aggSchema": [],
       "aggSeriesLimitReached": false,
       "aggType": "",
       "arguments": {},
       "columnCustomDisplayInfos": {},
       "data": [
        [
         "dbfs:/databricks-datasets/wine-quality/README.md",
         "README.md",
         1066,
         1594262736000
        ],
        [
         "dbfs:/databricks-datasets/wine-quality/winequality-red.csv",
         "winequality-red.csv",
         84199,
         1594262736000
        ],
        [
         "dbfs:/databricks-datasets/wine-quality/winequality-white.csv",
         "winequality-white.csv",
         264426,
         1594262736000
        ]
       ],
       "datasetInfos": [],
       "dbfsResultPath": null,
       "isJsonSchema": true,
       "metadata": {},
       "overflow": false,
       "plotOptions": {
        "customPlotOptions": {},
        "displayType": "table",
        "pivotAggregation": null,
        "pivotColumns": null,
        "xColumns": null,
        "yColumns": null
       },
       "removedWidgets": [],
       "schema": [
        {
         "metadata": "{}",
         "name": "path",
         "type": "\"string\""
        },
        {
         "metadata": "{}",
         "name": "name",
         "type": "\"string\""
        },
        {
         "metadata": "{}",
         "name": "size",
         "type": "\"long\""
        },
        {
         "metadata": "{}",
         "name": "modificationTime",
         "type": "\"long\""
        }
       ],
       "type": "table"
      }
     },
     "output_type": "display_data"
    }
   ],
   "source": [
    "display(dbutils.fs.ls('/databricks-datasets/wine-quality'))"
   ]
  },
  {
   "cell_type": "code",
   "execution_count": 0,
   "metadata": {
    "application/vnd.databricks.v1+cell": {
     "cellMetadata": {
      "byteLimit": 2048000,
      "rowLimit": 10000
     },
     "inputWidgets": {},
     "nuid": "cd3aaefb-b44c-4f6c-87be-eeb2e5829a63",
     "showTitle": false,
     "title": ""
    }
   },
   "outputs": [
    {
     "output_type": "stream",
     "name": "stdout",
     "output_type": "stream",
     "text": [
      "Out[14]: 'Wine Quality Data Set\\n==========================================\\nTwo datasets related to red and white variants of the Portuguese \"Vinho Verde\" wine.\\n\\nProvenance\\n==========================================\\nThis data set was obtained from http://archive.ics.uci.edu/ml/datasets/wine+quality.\\nThe source of the data is:\\nPaulo Cortez, University of Minho, Guimarães, Portugal, http://www3.dsi.uminho.pt/pcortez\\nA. Cerdeira, F. Almeida, T. Matos and J. Reis, Viticulture Commission of the Vinho Verde Region(CVRVV), Porto, Portugal. @2009\\n\\nLicense and/or Citation\\n=========================================\\nExample:\\nThis data set is licensed under the following license: See citations.\\n\\nApplicable citations:\\nCortez, Paulo (2009). UCI Machine Learning Repository [http://archive.ics.uci.edu/ml]. Irvine, CA: University of California, School of Information and Computer Science.\\n\\nP. Cortez, A. Cerdeira, F. Almeida, T. Matos and J. Reis.\\nModeling wine preferences by data mining from physicochemical properties. In Decision Support Systems, Elsevier, 47(4):547-553, 2009.\\n'"
     ]
    }
   ],
   "source": [
    "dbutils.fs.head(\"/databricks-datasets/wine-quality/README.md\")"
   ]
  },
  {
   "cell_type": "code",
   "execution_count": 0,
   "metadata": {
    "application/vnd.databricks.v1+cell": {
     "cellMetadata": {
      "byteLimit": 2048000,
      "rowLimit": 10000
     },
     "inputWidgets": {},
     "nuid": "ca7be0c5-dd65-442c-9b73-90f64215b758",
     "showTitle": false,
     "title": ""
    }
   },
   "outputs": [
    {
     "output_type": "stream",
     "name": "stdout",
     "output_type": "stream",
     "text": [
      "[Truncated to first 65536 bytes]\nOut[15]: '\"fixed acidity\";\"volatile acidity\";\"citric acid\";\"residual sugar\";\"chlorides\";\"free sulfur dioxide\";\"total sulfur dioxide\";\"density\";\"pH\";\"sulphates\";\"alcohol\";\"quality\"\\n7.4;0.7;0;1.9;0.076;11;34;0.9978;3.51;0.56;9.4;5\\n7.8;0.88;0;2.6;0.098;25;67;0.9968;3.2;0.68;9.8;5\\n7.8;0.76;0.04;2.3;0.092;15;54;0.997;3.26;0.65;9.8;5\\n11.2;0.28;0.56;1.9;0.075;17;60;0.998;3.16;0.58;9.8;6\\n7.4;0.7;0;1.9;0.076;11;34;0.9978;3.51;0.56;9.4;5\\n7.4;0.66;0;1.8;0.075;13;40;0.9978;3.51;0.56;9.4;5\\n7.9;0.6;0.06;1.6;0.069;15;59;0.9964;3.3;0.46;9.4;5\\n7.3;0.65;0;1.2;0.065;15;21;0.9946;3.39;0.47;10;7\\n7.8;0.58;0.02;2;0.073;9;18;0.9968;3.36;0.57;9.5;7\\n7.5;0.5;0.36;6.1;0.071;17;102;0.9978;3.35;0.8;10.5;5\\n6.7;0.58;0.08;1.8;0.097;15;65;0.9959;3.28;0.54;9.2;5\\n7.5;0.5;0.36;6.1;0.071;17;102;0.9978;3.35;0.8;10.5;5\\n5.6;0.615;0;1.6;0.089;16;59;0.9943;3.58;0.52;9.9;5\\n7.8;0.61;0.29;1.6;0.114;9;29;0.9974;3.26;1.56;9.1;5\\n8.9;0.62;0.18;3.8;0.176;52;145;0.9986;3.16;0.88;9.2;5\\n8.9;0.62;0.19;3.9;0.17;51;148;0.9986;3.17;0.93;9.2;5\\n8.5;0.28;0.56;1.8;0.092;35;103;0.9969;3.3;0.75;10.5;7\\n8.1;0.56;0.28;1.7;0.368;16;56;0.9968;3.11;1.28;9.3;5\\n7.4;0.59;0.08;4.4;0.086;6;29;0.9974;3.38;0.5;9;4\\n7.9;0.32;0.51;1.8;0.341;17;56;0.9969;3.04;1.08;9.2;6\\n8.9;0.22;0.48;1.8;0.077;29;60;0.9968;3.39;0.53;9.4;6\\n7.6;0.39;0.31;2.3;0.082;23;71;0.9982;3.52;0.65;9.7;5\\n7.9;0.43;0.21;1.6;0.106;10;37;0.9966;3.17;0.91;9.5;5\\n8.5;0.49;0.11;2.3;0.084;9;67;0.9968;3.17;0.53;9.4;5\\n6.9;0.4;0.14;2.4;0.085;21;40;0.9968;3.43;0.63;9.7;6\\n6.3;0.39;0.16;1.4;0.08;11;23;0.9955;3.34;0.56;9.3;5\\n7.6;0.41;0.24;1.8;0.08;4;11;0.9962;3.28;0.59;9.5;5\\n7.9;0.43;0.21;1.6;0.106;10;37;0.9966;3.17;0.91;9.5;5\\n7.1;0.71;0;1.9;0.08;14;35;0.9972;3.47;0.55;9.4;5\\n7.8;0.645;0;2;0.082;8;16;0.9964;3.38;0.59;9.8;6\\n6.7;0.675;0.07;2.4;0.089;17;82;0.9958;3.35;0.54;10.1;5\\n6.9;0.685;0;2.5;0.105;22;37;0.9966;3.46;0.57;10.6;6\\n8.3;0.655;0.12;2.3;0.083;15;113;0.9966;3.17;0.66;9.8;5\\n6.9;0.605;0.12;10.7;0.073;40;83;0.9993;3.45;0.52;9.4;6\\n5.2;0.32;0.25;1.8;0.103;13;50;0.9957;3.38;0.55;9.2;5\\n7.8;0.645;0;5.5;0.086;5;18;0.9986;3.4;0.55;9.6;6\\n7.8;0.6;0.14;2.4;0.086;3;15;0.9975;3.42;0.6;10.8;6\\n8.1;0.38;0.28;2.1;0.066;13;30;0.9968;3.23;0.73;9.7;7\\n5.7;1.13;0.09;1.5;0.172;7;19;0.994;3.5;0.48;9.8;4\\n7.3;0.45;0.36;5.9;0.074;12;87;0.9978;3.33;0.83;10.5;5\\n7.3;0.45;0.36;5.9;0.074;12;87;0.9978;3.33;0.83;10.5;5\\n8.8;0.61;0.3;2.8;0.088;17;46;0.9976;3.26;0.51;9.3;4\\n7.5;0.49;0.2;2.6;0.332;8;14;0.9968;3.21;0.9;10.5;6\\n8.1;0.66;0.22;2.2;0.069;9;23;0.9968;3.3;1.2;10.3;5\\n6.8;0.67;0.02;1.8;0.05;5;11;0.9962;3.48;0.52;9.5;5\\n4.6;0.52;0.15;2.1;0.054;8;65;0.9934;3.9;0.56;13.1;4\\n7.7;0.935;0.43;2.2;0.114;22;114;0.997;3.25;0.73;9.2;5\\n8.7;0.29;0.52;1.6;0.113;12;37;0.9969;3.25;0.58;9.5;5\\n6.4;0.4;0.23;1.6;0.066;5;12;0.9958;3.34;0.56;9.2;5\\n5.6;0.31;0.37;1.4;0.074;12;96;0.9954;3.32;0.58;9.2;5\\n8.8;0.66;0.26;1.7;0.074;4;23;0.9971;3.15;0.74;9.2;5\\n6.6;0.52;0.04;2.2;0.069;8;15;0.9956;3.4;0.63;9.4;6\\n6.6;0.5;0.04;2.1;0.068;6;14;0.9955;3.39;0.64;9.4;6\\n8.6;0.38;0.36;3;0.081;30;119;0.997;3.2;0.56;9.4;5\\n7.6;0.51;0.15;2.8;0.11;33;73;0.9955;3.17;0.63;10.2;6\\n7.7;0.62;0.04;3.8;0.084;25;45;0.9978;3.34;0.53;9.5;5\\n10.2;0.42;0.57;3.4;0.07;4;10;0.9971;3.04;0.63;9.6;5\\n7.5;0.63;0.12;5.1;0.111;50;110;0.9983;3.26;0.77;9.4;5\\n7.8;0.59;0.18;2.3;0.076;17;54;0.9975;3.43;0.59;10;5\\n7.3;0.39;0.31;2.4;0.074;9;46;0.9962;3.41;0.54;9.4;6\\n8.8;0.4;0.4;2.2;0.079;19;52;0.998;3.44;0.64;9.2;5\\n7.7;0.69;0.49;1.8;0.115;20;112;0.9968;3.21;0.71;9.3;5\\n7.5;0.52;0.16;1.9;0.085;12;35;0.9968;3.38;0.62;9.5;7\\n7;0.735;0.05;2;0.081;13;54;0.9966;3.39;0.57;9.8;5\\n7.2;0.725;0.05;4.65;0.086;4;11;0.9962;3.41;0.39;10.9;5\\n7.2;0.725;0.05;4.65;0.086;4;11;0.9962;3.41;0.39;10.9;5\\n7.5;0.52;0.11;1.5;0.079;11;39;0.9968;3.42;0.58;9.6;5\\n6.6;0.705;0.07;1.6;0.076;6;15;0.9962;3.44;0.58;10.7;5\\n9.3;0.32;0.57;2;0.074;27;65;0.9969;3.28;0.79;10.7;5\\n8;0.705;0.05;1.9;0.074;8;19;0.9962;3.34;0.95;10.5;6\\n7.7;0.63;0.08;1.9;0.076;15;27;0.9967;3.32;0.54;9.5;6\\n7.7;0.67;0.23;2.1;0.088;17;96;0.9962;3.32;0.48;9.5;5\\n7.7;0.69;0.22;1.9;0.084;18;94;0.9961;3.31;0.48;9.5;5\\n8.3;0.675;0.26;2.1;0.084;11;43;0.9976;3.31;0.53;9.2;4\\n9.7;0.32;0.54;2.5;0.094;28;83;0.9984;3.28;0.82;9.6;5\\n8.8;0.41;0.64;2.2;0.093;9;42;0.9986;3.54;0.66;10.5;5\\n8.8;0.41;0.64;2.2;0.093;9;42;0.9986;3.54;0.66;10.5;5\\n6.8;0.785;0;2.4;0.104;14;30;0.9966;3.52;0.55;10.7;6\\n6.7;0.75;0.12;2;0.086;12;80;0.9958;3.38;0.52;10.1;5\\n8.3;0.625;0.2;1.5;0.08;27;119;0.9972;3.16;1.12;9.1;4\\n6.2;0.45;0.2;1.6;0.069;3;15;0.9958;3.41;0.56;9.2;5\\n7.8;0.43;0.7;1.9;0.464;22;67;0.9974;3.13;1.28;9.4;5\\n7.4;0.5;0.47;2;0.086;21;73;0.997;3.36;0.57;9.1;5\\n7.3;0.67;0.26;1.8;0.401;16;51;0.9969;3.16;1.14;9.4;5\\n6.3;0.3;0.48;1.8;0.069;18;61;0.9959;3.44;0.78;10.3;6\\n6.9;0.55;0.15;2.2;0.076;19;40;0.9961;3.41;0.59;10.1;5\\n8.6;0.49;0.28;1.9;0.11;20;136;0.9972;2.93;1.95;9.9;6\\n7.7;0.49;0.26;1.9;0.062;9;31;0.9966;3.39;0.64;9.6;5\\n9.3;0.39;0.44;2.1;0.107;34;125;0.9978;3.14;1.22;9.5;5\\n7;0.62;0.08;1.8;0.076;8;24;0.9978;3.48;0.53;9;5\\n7.9;0.52;0.26;1.9;0.079;42;140;0.9964;3.23;0.54;9.5;5\\n8.6;0.49;0.28;1.9;0.11;20;136;0.9972;2.93;1.95;9.9;6\\n8.6;0.49;0.29;2;0.11;19;133;0.9972;2.93;1.98;9.8;5\\n7.7;0.49;0.26;1.9;0.062;9;31;0.9966;3.39;0.64;9.6;5\\n5;1.02;0.04;1.4;0.045;41;85;0.9938;3.75;0.48;10.5;4\\n4.7;0.6;0.17;2.3;0.058;17;106;0.9932;3.85;0.6;12.9;6\\n6.8;0.775;0;3;0.102;8;23;0.9965;3.45;0.56;10.7;5\\n7;0.5;0.25;2;0.07;3;22;0.9963;3.25;0.63;9.2;5\\n7.6;0.9;0.06;2.5;0.079;5;10;0.9967;3.39;0.56;9.8;5\\n8.1;0.545;0.18;1.9;0.08;13;35;0.9972;3.3;0.59;9;6\\n8.3;0.61;0.3;2.1;0.084;11;50;0.9972;3.4;0.61;10.2;6\\n7.8;0.5;0.3;1.9;0.075;8;22;0.9959;3.31;0.56;10.4;6\\n8.1;0.545;0.18;1.9;0.08;13;35;0.9972;3.3;0.59;9;6\\n8.1;0.575;0.22;2.1;0.077;12;65;0.9967;3.29;0.51;9.2;5\\n7.2;0.49;0.24;2.2;0.07;5;36;0.996;3.33;0.48;9.4;5\\n8.1;0.575;0.22;2.1;0.077;12;65;0.9967;3.29;0.51;9.2;5\\n7.8;0.41;0.68;1.7;0.467;18;69;0.9973;3.08;1.31;9.3;5\\n6.2;0.63;0.31;1.7;0.088;15;64;0.9969;3.46;0.79;9.3;5\\n8;0.33;0.53;2.5;0.091;18;80;0.9976;3.37;0.8;9.6;6\\n8.1;0.785;0.52;2;0.122;37;153;0.9969;3.21;0.69;9.3;5\\n7.8;0.56;0.19;1.8;0.104;12;47;0.9964;3.19;0.93;9.5;5\\n8.4;0.62;0.09;2.2;0.084;11;108;0.9964;3.15;0.66;9.8;5\\n8.4;0.6;0.1;2.2;0.085;14;111;0.9964;3.15;0.66;9.8;5\\n10.1;0.31;0.44;2.3;0.08;22;46;0.9988;3.32;0.67;9.7;6\\n7.8;0.56;0.19;1.8;0.104;12;47;0.9964;3.19;0.93;9.5;5\\n9.4;0.4;0.31;2.2;0.09;13;62;0.9966;3.07;0.63;10.5;6\\n8.3;0.54;0.28;1.9;0.077;11;40;0.9978;3.39;0.61;10;6\\n7.8;0.56;0.12;2;0.082;7;28;0.997;3.37;0.5;9.4;6\\n8.8;0.55;0.04;2.2;0.119;14;56;0.9962;3.21;0.6;10.9;6\\n7;0.69;0.08;1.8;0.097;22;89;0.9959;3.34;0.54;9.2;6\\n7.3;1.07;0.09;1.7;0.178;10;89;0.9962;3.3;0.57;9;5\\n8.8;0.55;0.04;2.2;0.119;14;56;0.9962;3.21;0.6;10.9;6\\n7.3;0.695;0;2.5;0.075;3;13;0.998;3.49;0.52;9.2;5\\n8;0.71;0;2.6;0.08;11;34;0.9976;3.44;0.53;9.5;5\\n7.8;0.5;0.17;1.6;0.082;21;102;0.996;3.39;0.48;9.5;5\\n9;0.62;0.04;1.9;0.146;27;90;0.9984;3.16;0.7;9.4;5\\n8.2;1.33;0;1.7;0.081;3;12;0.9964;3.53;0.49;10.9;5\\n8.1;1.33;0;1.8;0.082;3;12;0.9964;3.54;0.48;10.9;5\\n8;0.59;0.16;1.8;0.065;3;16;0.9962;3.42;0.92;10.5;7\\n6.1;0.38;0.15;1.8;0.072;6;19;0.9955;3.42;0.57;9.4;5\\n8;0.745;0.56;2;0.118;30;134;0.9968;3.24;0.66;9.4;5\\n5.6;0.5;0.09;2.3;0.049;17;99;0.9937;3.63;0.63;13;5\\n5.6;0.5;0.09;2.3;0.049;17;99;0.9937;3.63;0.63;13;5\\n6.6;0.5;0.01;1.5;0.06;17;26;0.9952;3.4;0.58;9.8;6\\n7.9;1.04;0.05;2.2;0.084;13;29;0.9959;3.22;0.55;9.9;6\\n8.4;0.745;0.11;1.9;0.09;16;63;0.9965;3.19;0.82;9.6;5\\n8.3;0.715;0.15;1.8;0.089;10;52;0.9968;3.23;0.77;9.5;5\\n7.2;0.415;0.36;2;0.081;13;45;0.9972;3.48;0.64;9.2;5\\n7.8;0.56;0.19;2.1;0.081;15;105;0.9962;3.33;0.54;9.5;5\\n7.8;0.56;0.19;2;0.081;17;108;0.9962;3.32;0.54;9.5;5\\n8.4;0.745;0.11;1.9;0.09;16;63;0.9965;3.19;0.82;9.6;5\\n8.3;0.715;0.15;1.8;0.089;10;52;0.9968;3.23;0.77;9.5;5\\n5.2;0.34;0;1.8;0.05;27;63;0.9916;3.68;0.79;14;6\\n6.3;0.39;0.08;1.7;0.066;3;20;0.9954;3.34;0.58;9.4;5\\n5.2;0.34;0;1.8;0.05;27;63;0.9916;3.68;0.79;14;6\\n8.1;0.67;0.55;1.8;0.117;32;141;0.9968;3.17;0.62;9.4;5\\n5.8;0.68;0.02;1.8;0.087;21;94;0.9944;3.54;0.52;10;5\\n7.6;0.49;0.26;1.6;0.236;10;88;0.9968;3.11;0.8;9.3;5\\n6.9;0.49;0.1;2.3;0.074;12;30;0.9959;3.42;0.58;10.2;6\\n8.2;0.4;0.44;2.8;0.089;11;43;0.9975;3.53;0.61;10.5;6\\n7.3;0.33;0.47;2.1;0.077;5;11;0.9958;3.33;0.53;10.3;6\\n9.2;0.52;1;3.4;0.61;32;69;0.9996;2.74;2.0;9.4;4\\n7.5;0.6;0.03;1.8;0.095;25;99;0.995;3.35;0.54;10.1;5\\n7.5;0.6;0.03;1.8;0.095;25;99;0.995;3.35;0.54;10.1;5\\n7.1;0.43;0.42;5.5;0.07;29;129;0.9973;3.42;0.72;10.5;5\\n7.1;0.43;0.42;5.5;0.071;28;128;0.9973;3.42;0.71;10.5;5\\n7.1;0.43;0.42;5.5;0.07;29;129;0.9973;3.42;0.72;10.5;5\\n7.1;0.43;0.42;5.5;0.071;28;128;0.9973;3.42;0.71;10.5;5\\n7.1;0.68;0;2.2;0.073;12;22;0.9969;3.48;0.5;9.3;5\\n6.8;0.6;0.18;1.9;0.079;18;86;0.9968;3.59;0.57;9.3;6\\n7.6;0.95;0.03;2;0.09;7;20;0.9959;3.2;0.56;9.6;5\\n7.6;0.68;0.02;1.3;0.072;9;20;0.9965;3.17;1.08;9.2;4\\n7.8;0.53;0.04;1.7;0.076;17;31;0.9964;3.33;0.56;10;6\\n7.4;0.6;0.26;7.3;0.07;36;121;0.9982;3.37;0.49;9.4;5\\n7.3;0.59;0.26;7.2;0.07;35;121;0.9981;3.37;0.49;9.4;5\\n7.8;0.63;0.48;1.7;0.1;14;96;0.9961;3.19;0.62;9.5;5\\n6.8;0.64;0.1;2.1;0.085;18;101;0.9956;3.34;0.52;10.2;5\\n7.3;0.55;0.03;1.6;0.072;17;42;0.9956;3.37;0.48;9;4\\n6.8;0.63;0.07;2.1;0.089;11;44;0.9953;3.47;0.55;10.4;6\\n7.5;0.705;0.24;1.8;0.36;15;63;0.9964;3;1.59;9.5;5\\n7.9;0.885;0.03;1.8;0.058;4;8;0.9972;3.36;0.33;9.1;4\\n8;0.42;0.17;2;0.073;6;18;0.9972;3.29;0.61;9.2;6\\n8;0.42;0.17;2;0.073;6;18;0.9972;3.29;0.61;9.2;6\\n7.4;0.62;0.05;1.9;0.068;24;42;0.9961;3.42;0.57;11.5;6\\n7.3;0.38;0.21;2;0.08;7;35;0.9961;3.33;0.47;9.5;5\\n6.9;0.5;0.04;1.5;0.085;19;49;0.9958;3.35;0.78;9.5;5\\n7.3;0.38;0.21;2;0.08;7;35;0.9961;3.33;0.47;9.5;5\\n7.5;0.52;0.42;2.3;0.087;8;38;0.9972;3.58;0.61;10.5;6\\n7;0.805;0;2.5;0.068;7;20;0.9969;3.48;0.56;9.6;5\\n8.8;0.61;0.14;2.4;0.067;10;42;0.9969;3.19;0.59;9.5;5\\n8.8;0.61;0.14;2.4;0.067;10;42;0.9969;3.19;0.59;9.5;5\\n8.9;0.61;0.49;2;0.27;23;110;0.9972;3.12;1.02;9.3;5\\n7.2;0.73;0.02;2.5;0.076;16;42;0.9972;3.44;0.52;9.3;5\\n6.8;0.61;0.2;1.8;0.077;11;65;0.9971;3.54;0.58;9.3;5\\n6.7;0.62;0.21;1.9;0.079;8;62;0.997;3.52;0.58;9.3;6\\n8.9;0.31;0.57;2;0.111;26;85;0.9971;3.26;0.53;9.7;5\\n7.4;0.39;0.48;2;0.082;14;67;0.9972;3.34;0.55;9.2;5\\n7.7;0.705;0.1;2.6;0.084;9;26;0.9976;3.39;0.49;9.7;5\\n7.9;0.5;0.33;2;0.084;15;143;0.9968;3.2;0.55;9.5;5\\n7.9;0.49;0.32;1.9;0.082;17;144;0.9968;3.2;0.55;9.5;5\\n8.2;0.5;0.35;2.9;0.077;21;127;0.9976;3.23;0.62;9.4;5\\n6.4;0.37;0.25;1.9;0.074;21;49;0.9974;3.57;0.62;9.8;6\\n6.8;0.63;0.12;3.8;0.099;16;126;0.9969;3.28;0.61;9.5;5\\n7.6;0.55;0.21;2.2;0.071;7;28;0.9964;3.28;0.55;9.7;5\\n7.6;0.55;0.21;2.2;0.071;7;28;0.9964;3.28;0.55;9.7;5\\n7.8;0.59;0.33;2;0.074;24;120;0.9968;3.25;0.54;9.4;5\\n7.3;0.58;0.3;2.4;0.074;15;55;0.9968;3.46;0.59;10.2;5\\n11.5;0.3;0.6;2;0.067;12;27;0.9981;3.11;0.97;10.1;6\\n5.4;0.835;0.08;1.2;0.046;13;93;0.9924;3.57;0.85;13;7\\n6.9;1.09;0.06;2.1;0.061;12;31;0.9948;3.51;0.43;11.4;4\\n9.6;0.32;0.47;1.4;0.056;9;24;0.99695;3.22;0.82;10.3;7\\n8.8;0.37;0.48;2.1;0.097;39;145;0.9975;3.04;1.03;9.3;5\\n6.8;0.5;0.11;1.5;0.075;16;49;0.99545;3.36;0.79;9.5;5\\n7;0.42;0.35;1.6;0.088;16;39;0.9961;3.34;0.55;9.2;5\\n7;0.43;0.36;1.6;0.089;14;37;0.99615;3.34;0.56;9.2;6\\n12.8;0.3;0.74;2.6;0.095;9;28;0.9994;3.2;0.77;10.8;7\\n12.8;0.3;0.74;2.6;0.095;9;28;0.9994;3.2;0.77;10.8;7\\n7.8;0.57;0.31;1.8;0.069;26;120;0.99625;3.29;0.53;9.3;5\\n7.8;0.44;0.28;2.7;0.1;18;95;0.9966;3.22;0.67;9.4;5\\n11;0.3;0.58;2.1;0.054;7;19;0.998;3.31;0.88;10.5;7\\n9.7;0.53;0.6;2;0.039;5;19;0.99585;3.3;0.86;12.4;6\\n8;0.725;0.24;2.8;0.083;10;62;0.99685;3.35;0.56;10;6\\n11.6;0.44;0.64;2.1;0.059;5;15;0.998;3.21;0.67;10.2;6\\n8.2;0.57;0.26;2.2;0.06;28;65;0.9959;3.3;0.43;10.1;5\\n7.8;0.735;0.08;2.4;0.092;10;41;0.9974;3.24;0.71;9.8;6\\n7;0.49;0.49;5.6;0.06;26;121;0.9974;3.34;0.76;10.5;5\\n8.7;0.625;0.16;2;0.101;13;49;0.9962;3.14;0.57;11;5\\n8.1;0.725;0.22;2.2;0.072;11;41;0.9967;3.36;0.55;9.1;5\\n7.5;0.49;0.19;1.9;0.076;10;44;0.9957;3.39;0.54;9.7;5\\n7.8;0.53;0.33;2.4;0.08;24;144;0.99655;3.3;0.6;9.5;5\\n7.8;0.34;0.37;2;0.082;24;58;0.9964;3.34;0.59;9.4;6\\n7.4;0.53;0.26;2;0.101;16;72;0.9957;3.15;0.57;9.4;5\\n6.8;0.61;0.04;1.5;0.057;5;10;0.99525;3.42;0.6;9.5;5\\n8.6;0.645;0.25;2;0.083;8;28;0.99815;3.28;0.6;10;6\\n8.4;0.635;0.36;2;0.089;15;55;0.99745;3.31;0.57;10.4;4\\n7.7;0.43;0.25;2.6;0.073;29;63;0.99615;3.37;0.58;10.5;6\\n8.9;0.59;0.5;2;0.337;27;81;0.9964;3.04;1.61;9.5;6\\n9;0.82;0.14;2.6;0.089;9;23;0.9984;3.39;0.63;9.8;5\\n7.7;0.43;0.25;2.6;0.073;29;63;0.99615;3.37;0.58;10.5;6\\n6.9;0.52;0.25;2.6;0.081;10;37;0.99685;3.46;0.5;11;5\\n5.2;0.48;0.04;1.6;0.054;19;106;0.9927;3.54;0.62;12.2;7\\n8;0.38;0.06;1.8;0.078;12;49;0.99625;3.37;0.52;9.9;6\\n8.5;0.37;0.2;2.8;0.09;18;58;0.998;3.34;0.7;9.6;6\\n6.9;0.52;0.25;2.6;0.081;10;37;0.99685;3.46;0.5;11;5\\n8.2;1;0.09;2.3;0.065;7;37;0.99685;3.32;0.55;9;6\\n7.2;0.63;0;1.9;0.097;14;38;0.99675;3.37;0.58;9;6\\n7.2;0.63;0;1.9;0.097;14;38;0.99675;3.37;0.58;9;6\\n7.2;0.645;0;1.9;0.097;15;39;0.99675;3.37;0.58;9.2;6\\n7.2;0.63;0;1.9;0.097;14;38;0.99675;3.37;0.58;9;6\\n8.2;1;0.09;2.3;0.065;7;37;0.99685;3.32;0.55;9;6\\n8.9;0.635;0.37;1.7;0.263;5;62;0.9971;3;1.09;9.3;5\\n12;0.38;0.56;2.1;0.093;6;24;0.99925;3.14;0.71;10.9;6\\n7.7;0.58;0.1;1.8;0.102;28;109;0.99565;3.08;0.49;9.8;6\\n15;0.21;0.44;2.2;0.075;10;24;1.00005;3.07;0.84;9.2;7\\n15;0.21;0.44;2.2;0.075;10;24;1.00005;3.07;0.84;9.2;7\\n7.3;0.66;0;2;0.084;6;23;0.9983;3.61;0.96;9.9;6\\n7.1;0.68;0.07;1.9;0.075;16;51;0.99685;3.38;0.52;9.5;5\\n8.2;0.6;0.17;2.3;0.072;11;73;0.9963;3.2;0.45;9.3;5\\n7.7;0.53;0.06;1.7;0.074;9;39;0.99615;3.35;0.48;9.8;6\\n7.3;0.66;0;2;0.084;6;23;0.9983;3.61;0.96;9.9;6\\n10.8;0.32;0.44;1.6;0.063;16;37;0.9985;3.22;0.78;10;6\\n7.1;0.6;0;1.8;0.074;16;34;0.9972;3.47;0.7;9.9;6\\n11.1;0.35;0.48;3.1;0.09;5;21;0.9986;3.17;0.53;10.5;5\\n7.7;0.775;0.42;1.9;0.092;8;86;0.9959;3.23;0.59;9.5;5\\n7.1;0.6;0;1.8;0.074;16;34;0.9972;3.47;0.7;9.9;6\\n8;0.57;0.23;3.2;0.073;17;119;0.99675;3.26;0.57;9.3;5\\n9.4;0.34;0.37;2.2;0.075;5;13;0.998;3.22;0.62;9.2;5\\n6.6;0.695;0;2.1;0.075;12;56;0.9968;3.49;0.67;9.2;5\\n7.7;0.41;0.76;1.8;0.611;8;45;0.9968;3.06;1.26;9.4;5\\n10;0.31;0.47;2.6;0.085;14;33;0.99965;3.36;0.8;10.5;7\\n7.9;0.33;0.23;1.7;0.077;18;45;0.99625;3.29;0.65;9.3;5\\n7;0.975;0.04;2;0.087;12;67;0.99565;3.35;0.6;9.4;4\\n8;0.52;0.03;1.7;0.07;10;35;0.99575;3.34;0.57;10;5\\n7.9;0.37;0.23;1.8;0.077;23;49;0.9963;3.28;0.67;9.3;5\\n12.5;0.56;0.49;2.4;0.064;5;27;0.9999;3.08;0.87;10.9;5\\n11.8;0.26;0.52;1.8;0.071;6;10;0.9968;3.2;0.72;10.2;7\\n8.1;0.87;0;3.3;0.096;26;61;1.00025;3.6;0.72;9.8;4\\n7.9;0.35;0.46;3.6;0.078;15;37;0.9973;3.35;0.86;12.8;8\\n6.9;0.54;0.04;3;0.077;7;27;0.9987;3.69;0.91;9.4;6\\n11.5;0.18;0.51;4;0.104;4;23;0.9996;3.28;0.97;10.1;6\\n7.9;0.545;0.06;4;0.087;27;61;0.9965;3.36;0.67;10.7;6\\n11.5;0.18;0.51;4;0.104;4;23;0.9996;3.28;0.97;10.1;6\\n10.9;0.37;0.58;4;0.071;17;65;0.99935;3.22;0.78;10.1;5\\n8.4;0.715;0.2;2.4;0.076;10;38;0.99735;3.31;0.64;9.4;5\\n7.5;0.65;0.18;7;0.088;27;94;0.99915;3.38;0.77;9.4;5\\n7.9;0.545;0.06;4;0.087;27;61;0.9965;3.36;0.67;10.7;6\\n6.9;0.54;0.04;3;0.077;7;27;0.9987;3.69;0.91;9.4;6\\n11.5;0.18;0.51;4;0.104;4;23;0.9996;3.28;0.97;10.1;6\\n10.3;0.32;0.45;6.4;0.073;5;13;0.9976;3.23;0.82;12.6;8\\n8.9;0.4;0.32;5.6;0.087;10;47;0.9991;3.38;0.77;10.5;7\\n11.4;0.26;0.44;3.6;0.071;6;19;0.9986;3.12;0.82;9.3;6\\n7.7;0.27;0.68;3.5;0.358;5;10;0.9972;3.25;1.08;9.9;7\\n7.6;0.52;0.12;3;0.067;12;53;0.9971;3.36;0.57;9.1;5\\n8.9;0.4;0.32;5.6;0.087;10;47;0.9991;3.38;0.77;10.5;7\\n9.9;0.59;0.07;3.4;0.102;32;71;1.00015;3.31;0.71;9.8;5\\n9.9;0.59;0.07;3.4;0.102;32;71;1.00015;3.31;0.71;9.8;5\\n12;0.45;0.55;2;0.073;25;49;0.9997;3.1;0.76;10.3;6\\n7.5;0.4;0.12;3;0.092;29;53;0.9967;3.37;0.7;10.3;6\\n8.7;0.52;0.09;2.5;0.091;20;49;0.9976;3.34;0.86;10.6;7\\n11.6;0.42;0.53;3.3;0.105;33;98;1.001;3.2;0.95;9.2;5\\n8.7;0.52;0.09;2.5;0.091;20;49;0.9976;3.34;0.86;10.6;7\\n11;0.2;0.48;2;0.343;6;18;0.9979;3.3;0.71;10.5;5\\n10.4;0.55;0.23;2.7;0.091;18;48;0.9994;3.22;0.64;10.3;6\\n6.9;0.36;0.25;2.4;0.098;5;16;0.9964;3.41;0.6;10.1;6\\n13.3;0.34;0.52;3.2;0.094;17;53;1.0014;3.05;0.81;9.5;6\\n10.8;0.5;0.46;2.5;0.073;5;27;1.0001;3.05;0.64;9.5;5\\n10.6;0.83;0.37;2.6;0.086;26;70;0.9981;3.16;0.52;9.9;5\\n7.1;0.63;0.06;2;0.083;8;29;0.99855;3.67;0.73;9.6;5\\n7.2;0.65;0.02;2.3;0.094;5;31;0.9993;3.67;0.8;9.7;5\\n6.9;0.67;0.06;2.1;0.08;8;33;0.99845;3.68;0.71;9.6;5\\n7.5;0.53;0.06;2.6;0.086;20;44;0.9965;3.38;0.59;10.7;6\\n11.1;0.18;0.48;1.5;0.068;7;15;0.9973;3.22;0.64;10.1;6\\n8.3;0.705;0.12;2.6;0.092;12;28;0.9994;3.51;0.72;10;5\\n7.4;0.67;0.12;1.6;0.186;5;21;0.996;3.39;0.54;9.5;5\\n8.4;0.65;0.6;2.1;0.112;12;90;0.9973;3.2;0.52;9.2;5\\n10.3;0.53;0.48;2.5;0.063;6;25;0.9998;3.12;0.59;9.3;6\\n7.6;0.62;0.32;2.2;0.082;7;54;0.9966;3.36;0.52;9.4;5\\n10.3;0.41;0.42;2.4;0.213;6;14;0.9994;3.19;0.62;9.5;6\\n10.3;0.43;0.44;2.4;0.214;5;12;0.9994;3.19;0.63;9.5;6\\n7.4;0.29;0.38;1.7;0.062;9;30;0.9968;3.41;0.53;9.5;6\\n10.3;0.53;0.48;2.5;0.063;6;25;0.9998;3.12;0.59;9.3;6\\n7.9;0.53;0.24;2;0.072;15;105;0.996;3.27;0.54;9.4;6\\n9;0.46;0.31;2.8;0.093;19;98;0.99815;3.32;0.63;9.5;6\\n8.6;0.47;0.3;3;0.076;30;135;0.9976;3.3;0.53;9.4;5\\n7.4;0.36;0.29;2.6;0.087;26;72;0.99645;3.39;0.68;11;5\\n7.1;0.35;0.29;2.5;0.096;20;53;0.9962;3.42;0.65;11;6\\n9.6;0.56;0.23;3.4;0.102;37;92;0.9996;3.3;0.65;10.1;5\\n9.6;0.77;0.12;2.9;0.082;30;74;0.99865;3.3;0.64;10.4;6\\n9.8;0.66;0.39;3.2;0.083;21;59;0.9989;3.37;0.71;11.5;7\\n9.6;0.77;0.12;2.9;0.082;30;74;0.99865;3.3;0.64;10.4;6\\n9.8;0.66;0.39;3.2;0.083;21;59;0.9989;3.37;0.71;11.5;7\\n9.3;0.61;0.26;3.4;0.09;25;87;0.99975;3.24;0.62;9.7;5\\n7.8;0.62;0.05;2.3;0.079;6;18;0.99735;3.29;0.63;9.3;5\\n10.3;0.59;0.42;2.8;0.09;35;73;0.999;3.28;0.7;9.5;6\\n10;0.49;0.2;11;0.071;13;50;1.0015;3.16;0.69;9.2;6\\n10;0.49;0.2;11;0.071;13;50;1.0015;3.16;0.69;9.2;6\\n11.6;0.53;0.66;3.65;0.121;6;14;0.9978;3.05;0.74;11.5;7\\n10.3;0.44;0.5;4.5;0.107;5;13;0.998;3.28;0.83;11.5;5\\n13.4;0.27;0.62;2.6;0.082;6;21;1.0002;3.16;0.67;9.7;6\\n10.7;0.46;0.39;2;0.061;7;15;0.9981;3.18;0.62;9.5;5\\n10.2;0.36;0.64;2.9;0.122;10;41;0.998;3.23;0.66;12.5;6\\n10.2;0.36;0.64;2.9;0.122;10;41;0.998;3.23;0.66;12.5;6\\n8;0.58;0.28;3.2;0.066;21;114;0.9973;3.22;0.54;9.4;6\\n8.4;0.56;0.08;2.1;0.105;16;44;0.9958;3.13;0.52;11;5\\n7.9;0.65;0.01;2.5;0.078;17;38;0.9963;3.34;0.74;11.7;7\\n11.9;0.695;0.53;3.4;0.128;7;21;0.9992;3.17;0.84;12.2;7\\n8.9;0.43;0.45;1.9;0.052;6;16;0.9948;3.35;0.7;12.5;6\\n7.8;0.43;0.32;2.8;0.08;29;58;0.9974;3.31;0.64;10.3;5\\n12.4;0.49;0.58;3;0.103;28;99;1.0008;3.16;1;11.5;6\\n12.5;0.28;0.54;2.3;0.082;12;29;0.9997;3.11;1.36;9.8;7\\n12.2;0.34;0.5;2.4;0.066;10;21;1;3.12;1.18;9.2;6\\n10.6;0.42;0.48;2.7;0.065;5;18;0.9972;3.21;0.87;11.3;6\\n10.9;0.39;0.47;1.8;0.118;6;14;0.9982;3.3;0.75;9.8;6\\n10.9;0.39;0.47;1.8;0.118;6;14;0.9982;3.3;0.75;9.8;6\\n11.9;0.57;0.5;2.6;0.082;6;32;1.0006;3.12;0.78;10.7;6\\n7;0.685;0;1.9;0.067;40;63;0.9979;3.6;0.81;9.9;5\\n6.6;0.815;0.02;2.7;0.072;17;34;0.9955;3.58;0.89;12.3;7\\n13.8;0.49;0.67;3;0.093;6;15;0.9986;3.02;0.93;12;6\\n9.6;0.56;0.31;2.8;0.089;15;46;0.9979;3.11;0.92;10;6\\n9.1;0.785;0;2.6;0.093;11;28;0.9994;3.36;0.86;9.4;6\\n10.7;0.67;0.22;2.7;0.107;17;34;1.0004;3.28;0.98;9.9;6\\n9.1;0.795;0;2.6;0.096;11;26;0.9994;3.35;0.83;9.4;6\\n7.7;0.665;0;2.4;0.09;8;19;0.9974;3.27;0.73;9.3;5\\n13.5;0.53;0.79;4.8;0.12;23;77;1.0018;3.18;0.77;13;5\\n6.1;0.21;0.4;1.4;0.066;40.5;165;0.9912;3.25;0.59;11.9;6\\n6.7;0.75;0.01;2.4;0.078;17;32;0.9955;3.55;0.61;12.8;6\\n11.5;0.41;0.52;3;0.08;29;55;1.0001;3.26;0.88;11;5\\n10.5;0.42;0.66;2.95;0.116;12;29;0.997;3.24;0.75;11.7;7\\n11.9;0.43;0.66;3.1;0.109;10;23;1;3.15;0.85;10.4;7\\n12.6;0.38;0.66;2.6;0.088;10;41;1.001;3.17;0.68;9.8;6\\n8.2;0.7;0.23;2;0.099;14;81;0.9973;3.19;0.7;9.4;5\\n8.6;0.45;0.31;2.6;0.086;21;50;0.9982;3.37;0.91;9.9;6\\n11.9;0.58;0.66;2.5;0.072;6;37;0.9992;3.05;0.56;10;5\\n12.5;0.46;0.63;2;0.071;6;15;0.9988;2.99;0.87;10.2;5\\n12.8;0.615;0.66;5.8;0.083;7;42;1.0022;3.07;0.73;10;7\\n10;0.42;0.5;3.4;0.107;7;21;0.9979;3.26;0.93;11.8;6\\n12.8;0.615;0.66;5.8;0.083;7;42;1.0022;3.07;0.73;10;7\\n10.4;0.575;0.61;2.6;0.076;11;24;1;3.16;0.69;9;5\\n10.3;0.34;0.52;2.8;0.159;15;75;0.9998;3.18;0.64;9.4;5\\n9.4;0.27;0.53;2.4;0.074;6;18;0.9962;3.2;1.13;12;7\\n6.9;0.765;0.02;2.3;0.063;35;63;0.9975;3.57;0.78;9.9;5\\n7.9;0.24;0.4;1.6;0.056;11;25;0.9967;3.32;0.87;8.7;6\\n9.1;0.28;0.48;1.8;0.067;26;46;0.9967;3.32;1.04;10.6;6\\n7.4;0.55;0.22;2.2;0.106;12;72;0.9959;3.05;0.63;9.2;5\\n14;0.41;0.63;3.8;0.089;6;47;1.0014;3.01;0.81;10.8;6\\n11.5;0.54;0.71;4.4;0.124;6;15;0.9984;3.01;0.83;11.8;7\\n11.5;0.45;0.5;3;0.078;19;47;1.0003;3.26;1.11;11;6\\n9.4;0.27;0.53;2.4;0.074;6;18;0.9962;3.2;1.13;12;7\\n11.4;0.625;0.66;6.2;0.088;6;24;0.9988;3.11;0.99;13.3;6\\n8.3;0.42;0.38;2.5;0.094;24;60;0.9979;3.31;0.7;10.8;6\\n8.3;0.26;0.42;2;0.08;11;27;0.9974;3.21;0.8;9.4;6\\n13.7;0.415;0.68;2.9;0.085;17;43;1.0014;3.06;0.8;10;6\\n8.3;0.26;0.42;2;0.08;11;27;0.9974;3.21;0.8;9.4;6\\n8.3;0.26;0.42;2;0.08;11;27;0.9974;3.21;0.8;9.4;6\\n7.7;0.51;0.28;2.1;0.087;23;54;0.998;3.42;0.74;9.2;5\\n7.4;0.63;0.07;2.4;0.09;11;37;0.9979;3.43;0.76;9.7;6\\n7.8;0.54;0.26;2;0.088;23;48;0.9981;3.41;0.74;9.2;6\\n8.3;0.66;0.15;1.9;0.079;17;42;0.9972;3.31;0.54;9.6;6\\n7.8;0.46;0.26;1.9;0.088;23;53;0.9981;3.43;0.74;9.2;6\\n9.6;0.38;0.31;2.5;0.096;16;49;0.9982;3.19;0.7;10;7\\n5.6;0.85;0.05;1.4;0.045;12;88;0.9924;3.56;0.82;12.9;8\\n13.7;0.415;0.68;2.9;0.085;17;43;1.0014;3.06;0.8;10;6\\n9.5;0.37;0.52;2;0.082;6;26;0.998;3.18;0.51;9.5;5\\n8.4;0.665;0.61;2;0.112;13;95;0.997;3.16;0.54;9.1;5\\n12.7;0.6;0.65;2.3;0.063;6;25;0.9997;3.03;0.57;9.9;5\\n12;0.37;0.76;4.2;0.066;7;38;1.0004;3.22;0.6;13;7\\n6.6;0.735;0.02;7.9;0.122;68;124;0.9994;3.47;0.53;9.9;5\\n11.5;0.59;0.59;2.6;0.087;13;49;0.9988;3.18;0.65;11;6\\n11.5;0.59;0.59;2.6;0.087;13;49;0.9988;3.18;0.65;11;6\\n8.7;0.765;0.22;2.3;0.064;9;42;0.9963;3.1;0.55;9.4;5\\n6.6;0.735;0.02;7.9;0.122;68;124;0.9994;3.47;0.53;9.9;5\\n7.7;0.26;0.3;1.7;0.059;20;38;0.9949;3.29;0.47;10.8;6\\n12.2;0.48;0.54;2.6;0.085;19;64;1;3.1;0.61;10.5;6\\n11.4;0.6;0.49;2.7;0.085;10;41;0.9994;3.15;0.63;10.5;6\\n7.7;0.69;0.05;2.7;0.075;15;27;0.9974;3.26;0.61;9.1;5\\n8.7;0.31;0.46;1.4;0.059;11;25;0.9966;3.36;0.76;10.1;6\\n9.8;0.44;0.47;2.5;0.063;9;28;0.9981;3.24;0.65;10.8;6\\n12;0.39;0.66;3;0.093;12;30;0.9996;3.18;0.63;10.8;7\\n10.4;0.34;0.58;3.7;0.174;6;16;0.997;3.19;0.7;11.3;6\\n12.5;0.46;0.49;4.5;0.07;26;49;0.9981;3.05;0.57;9.6;4\\n9;0.43;0.34;2.5;0.08;26;86;0.9987;3.38;0.62;9.5;6\\n9.1;0.45;0.35;2.4;0.08;23;78;0.9987;3.38;0.62;9.5;5\\n7.1;0.735;0.16;1.9;0.1;15;77;0.9966;3.27;0.64;9.3;5\\n9.9;0.4;0.53;6.7;0.097;6;19;0.9986;3.27;0.82;11.7;7\\n8.8;0.52;0.34;2.7;0.087;24;122;0.9982;3.26;0.61;9.5;5\\n8.6;0.725;0.24;6.6;0.117;31;134;1.0014;3.32;1.07;9.3;5\\n10.6;0.48;0.64;2.2;0.111;6;20;0.997;3.26;0.66;11.7;6\\n7;0.58;0.12;1.9;0.091;34;124;0.9956;3.44;0.48;10.5;5\\n11.9;0.38;0.51;2;0.121;7;20;0.9996;3.24;0.76;10.4;6\\n6.8;0.77;0;1.8;0.066;34;52;0.9976;3.62;0.68;9.9;5\\n9.5;0.56;0.33;2.4;0.089;35;67;0.9972;3.28;0.73;11.8;7\\n6.6;0.84;0.03;2.3;0.059;32;48;0.9952;3.52;0.56;12.3;7\\n7.7;0.96;0.2;2;0.047;15;60;0.9955;3.36;0.44;10.9;5\\n10.5;0.24;0.47;2.1;0.066;6;24;0.9978;3.15;0.9;11;7\\n7.7;0.96;0.2;2;0.047;15;60;0.9955;3.36;0.44;10.9;5\\n6.6;0.84;0.03;2.3;0.059;32;48;0.9952;3.52;0.56;12.3;7\\n6.4;0.67;0.08;2.1;0.045;19;48;0.9949;3.49;0.49;11.4;6\\n9.5;0.78;0.22;1.9;0.077;6;32;0.9988;3.26;0.56;10.6;6\\n9.1;0.52;0.33;1.3;0.07;9;30;0.9978;3.24;0.6;9.3;5\\n12.8;0.84;0.63;2.4;0.088;13;35;0.9997;3.1;0.6;10.4;6\\n10.5;0.24;0.47;2.1;0.066;6;24;0.9978;3.15;0.9;11;7\\n7.8;0.55;0.35;2.2;0.074;21;66;0.9974;3.25;0.56;9.2;5\\n11.9;0.37;0.69;2.3;0.078;12;24;0.9958;3;0.65;12.8;6\\n12.3;0.39;0.63;2.3;0.091;6;18;1.0004;3.16;0.49;9.5;5\\n10.4;0.41;0.55;3.2;0.076;22;54;0.9996;3.15;0.89;9.9;6\\n12.3;0.39;0.63;2.3;0.091;6;18;1.0004;3.16;0.49;9.5;5\\n8;0.67;0.3;2;0.06;38;62;0.9958;3.26;0.56;10.2;6\\n11.1;0.45;0.73;3.2;0.066;6;22;0.9986;3.17;0.66;11.2;6\\n10.4;0.41;0.55;3.2;0.076;22;54;0.9996;3.15;0.89;9.9;6\\n7;0.62;0.18;1.5;0.062;7;50;0.9951;3.08;0.6;9.3;5\\n12.6;0.31;0.72;2.2;0.072;6;29;0.9987;2.88;0.82;9.8;8\\n11.9;0.4;0.65;2.15;0.068;7;27;0.9988;3.06;0.68;11.3;6\\n15.6;0.685;0.76;3.7;0.1;6;43;1.0032;2.95;0.68;11.2;7\\n10;0.44;0.49;2.7;0.077;11;19;0.9963;3.23;0.63;11.6;7\\n5.3;0.57;0.01;1.7;0.054;5;27;0.9934;3.57;0.84;12.5;7\\n9.5;0.735;0.1;2.1;0.079;6;31;0.9986;3.23;0.56;10.1;6\\n12.5;0.38;0.6;2.6;0.081;31;72;0.9996;3.1;0.73;10.5;5\\n9.3;0.48;0.29;2.1;0.127;6;16;0.9968;3.22;0.72;11.2;5\\n8.6;0.53;0.22;2;0.1;7;27;0.9967;3.2;0.56;10.2;6\\n11.9;0.39;0.69;2.8;0.095;17;35;0.9994;3.1;0.61;10.8;6\\n11.9;0.39;0.69;2.8;0.095;17;35;0.9994;3.1;0.61;10.8;6\\n8.4;0.37;0.53;1.8;0.413;9;26;0.9979;3.06;1.06;9.1;6\\n6.8;0.56;0.03;1.7;0.084;18;35;0.9968;3.44;0.63;10;6\\n10.4;0.33;0.63;2.8;0.084;5;22;0.9998;3.26;0.74;11.2;7\\n7;0.23;0.4;1.6;0.063;21;67;0.9952;3.5;0.63;11.1;5\\n11.3;0.62;0.67;5.2;0.086;6;19;0.9988;3.22;0.69;13.4;8\\n8.9;0.59;0.39;2.3;0.095;5;22;0.9986;3.37;0.58;10.3;5\\n9.2;0.63;0.21;2.7;0.097;29;65;0.9988;3.28;0.58;9.6;5\\n10.4;0.33;0.63;2.8;0.084;5;22;0.9998;3.26;0.74;11.2;7\\n11.6;0.58;0.66;2.2;0.074;10;47;1.0008;3.25;0.57;9;3\\n9.2;0.43;0.52;2.3;0.083;14;23;0.9976;3.35;0.61;11.3;6\\n8.3;0.615;0.22;2.6;0.087;6;19;0.9982;3.26;0.61;9.3;5\\n11;0.26;0.68;2.55;0.085;10;25;0.997;3.18;0.61;11.8;5\\n8.1;0.66;0.7;2.2;0.098;25;129;0.9972;3.08;0.53;9;5\\n11.5;0.315;0.54;2.1;0.084;5;15;0.9987;2.98;0.7;9.2;6\\n10;0.29;0.4;2.9;0.098;10;26;1.0006;3.48;0.91;9.7;5\\n10.3;0.5;0.42;2;0.069;21;51;0.9982;3.16;0.72;11.5;6\\n8.8;0.46;0.4\n\n*** WARNING: max output size exceeded, skipping output. ***\n\n66;0.65;9.8;5\\n7.1;0.59;0.01;2.5;0.077;20;85;0.99746;3.55;0.59;9.8;5\\n9.9;0.35;0.41;2.3;0.083;11;61;0.9982;3.21;0.5;9.5;5\\n9.9;0.35;0.41;2.3;0.083;11;61;0.9982;3.21;0.5;9.5;5\\n10;0.56;0.24;2.2;0.079;19;58;0.9991;3.18;0.56;10.1;6\\n10;0.56;0.24;2.2;0.079;19;58;0.9991;3.18;0.56;10.1;6\\n8.6;0.63;0.17;2.9;0.099;21;119;0.998;3.09;0.52;9.3;5\\n7.4;0.37;0.43;2.6;0.082;18;82;0.99708;3.33;0.68;9.7;6\\n8.8;0.64;0.17;2.9;0.084;25;130;0.99818;3.23;0.54;9.6;5\\n7.1;0.61;0.02;2.5;0.081;17;87;0.99745;3.48;0.6;9.7;6\\n7.7;0.6;0;2.6;0.055;7;13;0.99639;3.38;0.56;10.8;5\\n10.1;0.27;0.54;2.3;0.065;7;26;0.99531;3.17;0.53;12.5;6\\n10.8;0.89;0.3;2.6;0.132;7;60;0.99786;2.99;1.18;10.2;5\\n8.7;0.46;0.31;2.5;0.126;24;64;0.99746;3.1;0.74;9.6;5\\n9.3;0.37;0.44;1.6;0.038;21;42;0.99526;3.24;0.81;10.8;7\\n9.4;0.5;0.34;3.6;0.082;5;14;0.9987;3.29;0.52;10.7;6\\n9.4;0.5;0.34;3.6;0.082;5;14;0.9987;3.29;0.52;10.7;6\\n7.2;0.61;0.08;4;0.082;26;108;0.99641;3.25;0.51;9.4;5\\n8.6;0.55;0.09;3.3;0.068;8;17;0.99735;3.23;0.44;10;5\\n5.1;0.585;0;1.7;0.044;14;86;0.99264;3.56;0.94;12.9;7\\n7.7;0.56;0.08;2.5;0.114;14;46;0.9971;3.24;0.66;9.6;6\\n8.4;0.52;0.22;2.7;0.084;4;18;0.99682;3.26;0.57;9.9;6\\n8.2;0.28;0.4;2.4;0.052;4;10;0.99356;3.33;0.7;12.8;7\\n8.4;0.25;0.39;2;0.041;4;10;0.99386;3.27;0.71;12.5;7\\n8.2;0.28;0.4;2.4;0.052;4;10;0.99356;3.33;0.7;12.8;7\\n7.4;0.53;0.12;1.9;0.165;4;12;0.99702;3.26;0.86;9.2;5\\n7.6;0.48;0.31;2.8;0.07;4;15;0.99693;3.22;0.55;10.3;6\\n7.3;0.49;0.1;2.6;0.068;4;14;0.99562;3.3;0.47;10.5;5\\n12.9;0.5;0.55;2.8;0.072;7;24;1.00012;3.09;0.68;10.9;6\\n10.8;0.45;0.33;2.5;0.099;20;38;0.99818;3.24;0.71;10.8;5\\n6.9;0.39;0.24;2.1;0.102;4;7;0.99462;3.44;0.58;11.4;4\\n12.6;0.41;0.54;2.8;0.103;19;41;0.99939;3.21;0.76;11.3;6\\n10.8;0.45;0.33;2.5;0.099;20;38;0.99818;3.24;0.71;10.8;5\\n9.8;0.51;0.19;3.2;0.081;8;30;0.9984;3.23;0.58;10.5;6\\n10.8;0.29;0.42;1.6;0.084;19;27;0.99545;3.28;0.73;11.9;6\\n7.1;0.715;0;2.35;0.071;21;47;0.99632;3.29;0.45;9.4;5\\n9.1;0.66;0.15;3.2;0.097;9;59;0.99976;3.28;0.54;9.6;5\\n7;0.685;0;1.9;0.099;9;22;0.99606;3.34;0.6;9.7;5\\n4.9;0.42;0;2.1;0.048;16;42;0.99154;3.71;0.74;14;7\\n6.7;0.54;0.13;2;0.076;15;36;0.9973;3.61;0.64;9.8;5\\n6.7;0.54;0.13;2;0.076;15;36;0.9973;3.61;0.64;9.8;5\\n7.1;0.48;0.28;2.8;0.068;6;16;0.99682;3.24;0.53;10.3;5\\n7.1;0.46;0.14;2.8;0.076;15;37;0.99624;3.36;0.49;10.7;5\\n7.5;0.27;0.34;2.3;0.05;4;8;0.9951;3.4;0.64;11;7\\n7.1;0.46;0.14;2.8;0.076;15;37;0.99624;3.36;0.49;10.7;5\\n7.8;0.57;0.09;2.3;0.065;34;45;0.99417;3.46;0.74;12.7;8\\n5.9;0.61;0.08;2.1;0.071;16;24;0.99376;3.56;0.77;11.1;6\\n7.5;0.685;0.07;2.5;0.058;5;9;0.99632;3.38;0.55;10.9;4\\n5.9;0.61;0.08;2.1;0.071;16;24;0.99376;3.56;0.77;11.1;6\\n10.4;0.44;0.42;1.5;0.145;34;48;0.99832;3.38;0.86;9.9;3\\n11.6;0.47;0.44;1.6;0.147;36;51;0.99836;3.38;0.86;9.9;4\\n8.8;0.685;0.26;1.6;0.088;16;23;0.99694;3.32;0.47;9.4;5\\n7.6;0.665;0.1;1.5;0.066;27;55;0.99655;3.39;0.51;9.3;5\\n6.7;0.28;0.28;2.4;0.012;36;100;0.99064;3.26;0.39;11.7;7\\n6.7;0.28;0.28;2.4;0.012;36;100;0.99064;3.26;0.39;11.7;7\\n10.1;0.31;0.35;1.6;0.075;9;28;0.99672;3.24;0.83;11.2;7\\n6;0.5;0.04;2.2;0.092;13;26;0.99647;3.46;0.47;10;5\\n11.1;0.42;0.47;2.65;0.085;9;34;0.99736;3.24;0.77;12.1;7\\n6.6;0.66;0;3;0.115;21;31;0.99629;3.45;0.63;10.3;5\\n10.6;0.5;0.45;2.6;0.119;34;68;0.99708;3.23;0.72;10.9;6\\n7.1;0.685;0.35;2;0.088;9;92;0.9963;3.28;0.62;9.4;5\\n9.9;0.25;0.46;1.7;0.062;26;42;0.9959;3.18;0.83;10.6;6\\n6.4;0.64;0.21;1.8;0.081;14;31;0.99689;3.59;0.66;9.8;5\\n6.4;0.64;0.21;1.8;0.081;14;31;0.99689;3.59;0.66;9.8;5\\n7.4;0.68;0.16;1.8;0.078;12;39;0.9977;3.5;0.7;9.9;6\\n6.4;0.64;0.21;1.8;0.081;14;31;0.99689;3.59;0.66;9.8;5\\n6.4;0.63;0.21;1.6;0.08;12;32;0.99689;3.58;0.66;9.8;5\\n9.3;0.43;0.44;1.9;0.085;9;22;0.99708;3.28;0.55;9.5;5\\n9.3;0.43;0.44;1.9;0.085;9;22;0.99708;3.28;0.55;9.5;5\\n8;0.42;0.32;2.5;0.08;26;122;0.99801;3.22;1.07;9.7;5\\n9.3;0.36;0.39;1.5;0.08;41;55;0.99652;3.47;0.73;10.9;6\\n9.3;0.36;0.39;1.5;0.08;41;55;0.99652;3.47;0.73;10.9;6\\n7.6;0.735;0.02;2.5;0.071;10;14;0.99538;3.51;0.71;11.7;7\\n9.3;0.36;0.39;1.5;0.08;41;55;0.99652;3.47;0.73;10.9;6\\n8.2;0.26;0.34;2.5;0.073;16;47;0.99594;3.4;0.78;11.3;7\\n11.7;0.28;0.47;1.7;0.054;17;32;0.99686;3.15;0.67;10.6;7\\n6.8;0.56;0.22;1.8;0.074;15;24;0.99438;3.4;0.82;11.2;6\\n7.2;0.62;0.06;2.7;0.077;15;85;0.99746;3.51;0.54;9.5;5\\n5.8;1.01;0.66;2;0.039;15;88;0.99357;3.66;0.6;11.5;6\\n7.5;0.42;0.32;2.7;0.067;7;25;0.99628;3.24;0.44;10.4;5\\n7.2;0.62;0.06;2.5;0.078;17;84;0.99746;3.51;0.53;9.7;5\\n7.2;0.62;0.06;2.7;0.077;15;85;0.99746;3.51;0.54;9.5;5\\n7.2;0.635;0.07;2.6;0.077;16;86;0.99748;3.51;0.54;9.7;5\\n6.8;0.49;0.22;2.3;0.071;13;24;0.99438;3.41;0.83;11.3;6\\n6.9;0.51;0.23;2;0.072;13;22;0.99438;3.4;0.84;11.2;6\\n6.8;0.56;0.22;1.8;0.074;15;24;0.99438;3.4;0.82;11.2;6\\n7.6;0.63;0.03;2;0.08;27;43;0.99578;3.44;0.64;10.9;6\\n7.7;0.715;0.01;2.1;0.064;31;43;0.99371;3.41;0.57;11.8;6\\n6.9;0.56;0.03;1.5;0.086;36;46;0.99522;3.53;0.57;10.6;5\\n7.3;0.35;0.24;2;0.067;28;48;0.99576;3.43;0.54;10;4\\n9.1;0.21;0.37;1.6;0.067;6;10;0.99552;3.23;0.58;11.1;7\\n10.4;0.38;0.46;2.1;0.104;6;10;0.99664;3.12;0.65;11.8;7\\n8.8;0.31;0.4;2.8;0.109;7;16;0.99614;3.31;0.79;11.8;7\\n7.1;0.47;0;2.2;0.067;7;14;0.99517;3.4;0.58;10.9;4\\n7.7;0.715;0.01;2.1;0.064;31;43;0.99371;3.41;0.57;11.8;6\\n8.8;0.61;0.19;4;0.094;30;69;0.99787;3.22;0.5;10;6\\n7.2;0.6;0.04;2.5;0.076;18;88;0.99745;3.53;0.55;9.5;5\\n9.2;0.56;0.18;1.6;0.078;10;21;0.99576;3.15;0.49;9.9;5\\n7.6;0.715;0;2.1;0.068;30;35;0.99533;3.48;0.65;11.4;6\\n8.4;0.31;0.29;3.1;0.194;14;26;0.99536;3.22;0.78;12;6\\n7.2;0.6;0.04;2.5;0.076;18;88;0.99745;3.53;0.55;9.5;5\\n8.8;0.61;0.19;4;0.094;30;69;0.99787;3.22;0.5;10;6\\n8.9;0.75;0.14;2.5;0.086;9;30;0.99824;3.34;0.64;10.5;5\\n9;0.8;0.12;2.4;0.083;8;28;0.99836;3.33;0.65;10.4;6\\n10.7;0.52;0.38;2.6;0.066;29;56;0.99577;3.15;0.79;12.1;7\\n6.8;0.57;0;2.5;0.072;32;64;0.99491;3.43;0.56;11.2;6\\n10.7;0.9;0.34;6.6;0.112;23;99;1.00289;3.22;0.68;9.3;5\\n7.2;0.34;0.24;2;0.071;30;52;0.99576;3.44;0.58;10.1;5\\n7.2;0.66;0.03;2.3;0.078;16;86;0.99743;3.53;0.57;9.7;5\\n10.1;0.45;0.23;1.9;0.082;10;18;0.99774;3.22;0.65;9.3;6\\n7.2;0.66;0.03;2.3;0.078;16;86;0.99743;3.53;0.57;9.7;5\\n7.2;0.63;0.03;2.2;0.08;17;88;0.99745;3.53;0.58;9.8;6\\n7.1;0.59;0.01;2.3;0.08;27;43;0.9955;3.42;0.58;10.7;6\\n8.3;0.31;0.39;2.4;0.078;17;43;0.99444;3.31;0.77;12.5;7\\n7.1;0.59;0.01;2.3;0.08;27;43;0.9955;3.42;0.58;10.7;6\\n8.3;0.31;0.39;2.4;0.078;17;43;0.99444;3.31;0.77;12.5;7\\n8.3;1.02;0.02;3.4;0.084;6;11;0.99892;3.48;0.49;11;3\\n8.9;0.31;0.36;2.6;0.056;10;39;0.99562;3.4;0.69;11.8;5\\n7.4;0.635;0.1;2.4;0.08;16;33;0.99736;3.58;0.69;10.8;7\\n7.4;0.635;0.1;2.4;0.08;16;33;0.99736;3.58;0.69;10.8;7\\n6.8;0.59;0.06;6;0.06;11;18;0.9962;3.41;0.59;10.8;7\\n6.8;0.59;0.06;6;0.06;11;18;0.9962;3.41;0.59;10.8;7\\n9.2;0.58;0.2;3;0.081;15;115;0.998;3.23;0.59;9.5;5\\n7.2;0.54;0.27;2.6;0.084;12;78;0.9964;3.39;0.71;11;5\\n6.1;0.56;0;2.2;0.079;6;9;0.9948;3.59;0.54;11.5;6\\n7.4;0.52;0.13;2.4;0.078;34;61;0.99528;3.43;0.59;10.8;6\\n7.3;0.305;0.39;1.2;0.059;7;11;0.99331;3.29;0.52;11.5;6\\n9.3;0.38;0.48;3.8;0.132;3;11;0.99577;3.23;0.57;13.2;6\\n9.1;0.28;0.46;9;0.114;3;9;0.99901;3.18;0.6;10.9;6\\n10;0.46;0.44;2.9;0.065;4;8;0.99674;3.33;0.62;12.2;6\\n9.4;0.395;0.46;4.6;0.094;3;10;0.99639;3.27;0.64;12.2;7\\n7.3;0.305;0.39;1.2;0.059;7;11;0.99331;3.29;0.52;11.5;6\\n8.6;0.315;0.4;2.2;0.079;3;6;0.99512;3.27;0.67;11.9;6\\n5.3;0.715;0.19;1.5;0.161;7;62;0.99395;3.62;0.61;11;5\\n6.8;0.41;0.31;8.8;0.084;26;45;0.99824;3.38;0.64;10.1;6\\n8.4;0.36;0.32;2.2;0.081;32;79;0.9964;3.3;0.72;11;6\\n8.4;0.62;0.12;1.8;0.072;38;46;0.99504;3.38;0.89;11.8;6\\n9.6;0.41;0.37;2.3;0.091;10;23;0.99786;3.24;0.56;10.5;5\\n8.4;0.36;0.32;2.2;0.081;32;79;0.9964;3.3;0.72;11;6\\n8.4;0.62;0.12;1.8;0.072;38;46;0.99504;3.38;0.89;11.8;6\\n6.8;0.41;0.31;8.8;0.084;26;45;0.99824;3.38;0.64;10.1;6\\n8.6;0.47;0.27;2.3;0.055;14;28;0.99516;3.18;0.8;11.2;5\\n8.6;0.22;0.36;1.9;0.064;53;77;0.99604;3.47;0.87;11;7\\n9.4;0.24;0.33;2.3;0.061;52;73;0.99786;3.47;0.9;10.2;6\\n8.4;0.67;0.19;2.2;0.093;11;75;0.99736;3.2;0.59;9.2;4\\n8.6;0.47;0.27;2.3;0.055;14;28;0.99516;3.18;0.8;11.2;5\\n8.7;0.33;0.38;3.3;0.063;10;19;0.99468;3.3;0.73;12;7\\n6.6;0.61;0.01;1.9;0.08;8;25;0.99746;3.69;0.73;10.5;5\\n7.4;0.61;0.01;2;0.074;13;38;0.99748;3.48;0.65;9.8;5\\n7.6;0.4;0.29;1.9;0.078;29;66;0.9971;3.45;0.59;9.5;6\\n7.4;0.61;0.01;2;0.074;13;38;0.99748;3.48;0.65;9.8;5\\n6.6;0.61;0.01;1.9;0.08;8;25;0.99746;3.69;0.73;10.5;5\\n8.8;0.3;0.38;2.3;0.06;19;72;0.99543;3.39;0.72;11.8;6\\n8.8;0.3;0.38;2.3;0.06;19;72;0.99543;3.39;0.72;11.8;6\\n12;0.63;0.5;1.4;0.071;6;26;0.99791;3.07;0.6;10.4;4\\n7.2;0.38;0.38;2.8;0.068;23;42;0.99356;3.34;0.72;12.9;7\\n6.2;0.46;0.17;1.6;0.073;7;11;0.99425;3.61;0.54;11.4;5\\n9.6;0.33;0.52;2.2;0.074;13;25;0.99509;3.36;0.76;12.4;7\\n9.9;0.27;0.49;5;0.082;9;17;0.99484;3.19;0.52;12.5;7\\n10.1;0.43;0.4;2.6;0.092;13;52;0.99834;3.22;0.64;10;7\\n9.8;0.5;0.34;2.3;0.094;10;45;0.99864;3.24;0.6;9.7;7\\n8.3;0.3;0.49;3.8;0.09;11;24;0.99498;3.27;0.64;12.1;7\\n10.2;0.44;0.42;2;0.071;7;20;0.99566;3.14;0.79;11.1;7\\n10.2;0.44;0.58;4.1;0.092;11;24;0.99745;3.29;0.99;12;7\\n8.3;0.28;0.48;2.1;0.093;6;12;0.99408;3.26;0.62;12.4;7\\n8.9;0.12;0.45;1.8;0.075;10;21;0.99552;3.41;0.76;11.9;7\\n8.9;0.12;0.45;1.8;0.075;10;21;0.99552;3.41;0.76;11.9;7\\n8.9;0.12;0.45;1.8;0.075;10;21;0.99552;3.41;0.76;11.9;7\\n8.3;0.28;0.48;2.1;0.093;6;12;0.99408;3.26;0.62;12.4;7\\n8.2;0.31;0.4;2.2;0.058;6;10;0.99536;3.31;0.68;11.2;7\\n10.2;0.34;0.48;2.1;0.052;5;9;0.99458;3.2;0.69;12.1;7\\n7.6;0.43;0.4;2.7;0.082;6;11;0.99538;3.44;0.54;12.2;6\\n8.5;0.21;0.52;1.9;0.09;9;23;0.99648;3.36;0.67;10.4;5\\n9;0.36;0.52;2.1;0.111;5;10;0.99568;3.31;0.62;11.3;6\\n9.5;0.37;0.52;2;0.088;12;51;0.99613;3.29;0.58;11.1;6\\n6.4;0.57;0.12;2.3;0.12;25;36;0.99519;3.47;0.71;11.3;7\\n8;0.59;0.05;2;0.089;12;32;0.99735;3.36;0.61;10;5\\n8.5;0.47;0.27;1.9;0.058;18;38;0.99518;3.16;0.85;11.1;6\\n7.1;0.56;0.14;1.6;0.078;7;18;0.99592;3.27;0.62;9.3;5\\n6.6;0.57;0.02;2.1;0.115;6;16;0.99654;3.38;0.69;9.5;5\\n8.8;0.27;0.39;2;0.1;20;27;0.99546;3.15;0.69;11.2;6\\n8.5;0.47;0.27;1.9;0.058;18;38;0.99518;3.16;0.85;11.1;6\\n8.3;0.34;0.4;2.4;0.065;24;48;0.99554;3.34;0.86;11;6\\n9;0.38;0.41;2.4;0.103;6;10;0.99604;3.13;0.58;11.9;7\\n8.5;0.66;0.2;2.1;0.097;23;113;0.99733;3.13;0.48;9.2;5\\n9;0.4;0.43;2.4;0.068;29;46;0.9943;3.2;0.6;12.2;6\\n6.7;0.56;0.09;2.9;0.079;7;22;0.99669;3.46;0.61;10.2;5\\n10.4;0.26;0.48;1.9;0.066;6;10;0.99724;3.33;0.87;10.9;6\\n10.4;0.26;0.48;1.9;0.066;6;10;0.99724;3.33;0.87;10.9;6\\n10.1;0.38;0.5;2.4;0.104;6;13;0.99643;3.22;0.65;11.6;7\\n8.5;0.34;0.44;1.7;0.079;6;12;0.99605;3.52;0.63;10.7;5\\n8.8;0.33;0.41;5.9;0.073;7;13;0.99658;3.3;0.62;12.1;7\\n7.2;0.41;0.3;2.1;0.083;35;72;0.997;3.44;0.52;9.4;5\\n7.2;0.41;0.3;2.1;0.083;35;72;0.997;3.44;0.52;9.4;5\\n8.4;0.59;0.29;2.6;0.109;31;119;0.99801;3.15;0.5;9.1;5\\n7;0.4;0.32;3.6;0.061;9;29;0.99416;3.28;0.49;11.3;7\\n12.2;0.45;0.49;1.4;0.075;3;6;0.9969;3.13;0.63;10.4;5\\n9.1;0.5;0.3;1.9;0.065;8;17;0.99774;3.32;0.71;10.5;6\\n9.5;0.86;0.26;1.9;0.079;13;28;0.99712;3.25;0.62;10;5\\n7.3;0.52;0.32;2.1;0.07;51;70;0.99418;3.34;0.82;12.9;6\\n9.1;0.5;0.3;1.9;0.065;8;17;0.99774;3.32;0.71;10.5;6\\n12.2;0.45;0.49;1.4;0.075;3;6;0.9969;3.13;0.63;10.4;5\\n7.4;0.58;0;2;0.064;7;11;0.99562;3.45;0.58;11.3;6\\n9.8;0.34;0.39;1.4;0.066;3;7;0.9947;3.19;0.55;11.4;7\\n7.1;0.36;0.3;1.6;0.08;35;70;0.99693;3.44;0.5;9.4;5\\n7.7;0.39;0.12;1.7;0.097;19;27;0.99596;3.16;0.49;9.4;5\\n9.7;0.295;0.4;1.5;0.073;14;21;0.99556;3.14;0.51;10.9;6\\n7.7;0.39;0.12;1.7;0.097;19;27;0.99596;3.16;0.49;9.4;5\\n7.1;0.34;0.28;2;0.082;31;68;0.99694;3.45;0.48;9.4;5\\n6.5;0.4;0.1;2;0.076;30;47;0.99554;3.36;0.48;9.4;6\\n7.1;0.34;0.28;2;0.082;31;68;0.99694;3.45;0.48;9.4;5\\n10;0.35;0.45;2.5;0.092;20;88;0.99918;3.15;0.43;9.4;5\\n7.7;0.6;0.06;2;0.079;19;41;0.99697;3.39;0.62;10.1;6\\n5.6;0.66;0;2.2;0.087;3;11;0.99378;3.71;0.63;12.8;7\\n5.6;0.66;0;2.2;0.087;3;11;0.99378;3.71;0.63;12.8;7\\n8.9;0.84;0.34;1.4;0.05;4;10;0.99554;3.12;0.48;9.1;6\\n6.4;0.69;0;1.65;0.055;7;12;0.99162;3.47;0.53;12.9;6\\n7.5;0.43;0.3;2.2;0.062;6;12;0.99495;3.44;0.72;11.5;7\\n9.9;0.35;0.38;1.5;0.058;31;47;0.99676;3.26;0.82;10.6;7\\n9.1;0.29;0.33;2.05;0.063;13;27;0.99516;3.26;0.84;11.7;7\\n6.8;0.36;0.32;1.8;0.067;4;8;0.9928;3.36;0.55;12.8;7\\n8.2;0.43;0.29;1.6;0.081;27;45;0.99603;3.25;0.54;10.3;5\\n6.8;0.36;0.32;1.8;0.067;4;8;0.9928;3.36;0.55;12.8;7\\n9.1;0.29;0.33;2.05;0.063;13;27;0.99516;3.26;0.84;11.7;7\\n9.1;0.3;0.34;2;0.064;12;25;0.99516;3.26;0.84;11.7;7\\n8.9;0.35;0.4;3.6;0.11;12;24;0.99549;3.23;0.7;12;7\\n9.6;0.5;0.36;2.8;0.116;26;55;0.99722;3.18;0.68;10.9;5\\n8.9;0.28;0.45;1.7;0.067;7;12;0.99354;3.25;0.55;12.3;7\\n8.9;0.32;0.31;2;0.088;12;19;0.9957;3.17;0.55;10.4;6\\n7.7;1.005;0.15;2.1;0.102;11;32;0.99604;3.23;0.48;10;5\\n7.5;0.71;0;1.6;0.092;22;31;0.99635;3.38;0.58;10;6\\n8;0.58;0.16;2;0.12;3;7;0.99454;3.22;0.58;11.2;6\\n10.5;0.39;0.46;2.2;0.075;14;27;0.99598;3.06;0.84;11.4;6\\n8.9;0.38;0.4;2.2;0.068;12;28;0.99486;3.27;0.75;12.6;7\\n8;0.18;0.37;0.9;0.049;36;109;0.99007;2.89;0.44;12.7;6\\n8;0.18;0.37;0.9;0.049;36;109;0.99007;2.89;0.44;12.7;6\\n7;0.5;0.14;1.8;0.078;10;23;0.99636;3.53;0.61;10.4;5\\n11.3;0.36;0.66;2.4;0.123;3;8;0.99642;3.2;0.53;11.9;6\\n11.3;0.36;0.66;2.4;0.123;3;8;0.99642;3.2;0.53;11.9;6\\n7;0.51;0.09;2.1;0.062;4;9;0.99584;3.35;0.54;10.5;5\\n8.2;0.32;0.42;2.3;0.098;3;9;0.99506;3.27;0.55;12.3;6\\n7.7;0.58;0.01;1.8;0.088;12;18;0.99568;3.32;0.56;10.5;7\\n8.6;0.83;0;2.8;0.095;17;43;0.99822;3.33;0.6;10.4;6\\n7.9;0.31;0.32;1.9;0.066;14;36;0.99364;3.41;0.56;12.6;6\\n6.4;0.795;0;2.2;0.065;28;52;0.99378;3.49;0.52;11.6;5\\n7.2;0.34;0.21;2.5;0.075;41;68;0.99586;3.37;0.54;10.1;6\\n7.7;0.58;0.01;1.8;0.088;12;18;0.99568;3.32;0.56;10.5;7\\n7.1;0.59;0;2.1;0.091;9;14;0.99488;3.42;0.55;11.5;7\\n7.3;0.55;0.01;1.8;0.093;9;15;0.99514;3.35;0.58;11;7\\n8.1;0.82;0;4.1;0.095;5;14;0.99854;3.36;0.53;9.6;5\\n7.5;0.57;0.08;2.6;0.089;14;27;0.99592;3.3;0.59;10.4;6\\n8.9;0.745;0.18;2.5;0.077;15;48;0.99739;3.2;0.47;9.7;6\\n10.1;0.37;0.34;2.4;0.085;5;17;0.99683;3.17;0.65;10.6;7\\n7.6;0.31;0.34;2.5;0.082;26;35;0.99356;3.22;0.59;12.5;7\\n7.3;0.91;0.1;1.8;0.074;20;56;0.99672;3.35;0.56;9.2;5\\n8.7;0.41;0.41;6.2;0.078;25;42;0.9953;3.24;0.77;12.6;7\\n8.9;0.5;0.21;2.2;0.088;21;39;0.99692;3.33;0.83;11.1;6\\n7.4;0.965;0;2.2;0.088;16;32;0.99756;3.58;0.67;10.2;5\\n6.9;0.49;0.19;1.7;0.079;13;26;0.99547;3.38;0.64;9.8;6\\n8.9;0.5;0.21;2.2;0.088;21;39;0.99692;3.33;0.83;11.1;6\\n9.5;0.39;0.41;8.9;0.069;18;39;0.99859;3.29;0.81;10.9;7\\n6.4;0.39;0.33;3.3;0.046;12;53;0.99294;3.36;0.62;12.2;6\\n6.9;0.44;0;1.4;0.07;32;38;0.99438;3.32;0.58;11.4;6\\n7.6;0.78;0;1.7;0.076;33;45;0.99612;3.31;0.62;10.7;6\\n7.1;0.43;0.17;1.8;0.082;27;51;0.99634;3.49;0.64;10.4;5\\n9.3;0.49;0.36;1.7;0.081;3;14;0.99702;3.27;0.78;10.9;6\\n9.3;0.5;0.36;1.8;0.084;6;17;0.99704;3.27;0.77;10.8;6\\n7.1;0.43;0.17;1.8;0.082;27;51;0.99634;3.49;0.64;10.4;5\\n8.5;0.46;0.59;1.4;0.414;16;45;0.99702;3.03;1.34;9.2;5\\n5.6;0.605;0.05;2.4;0.073;19;25;0.99258;3.56;0.55;12.9;5\\n8.3;0.33;0.42;2.3;0.07;9;20;0.99426;3.38;0.77;12.7;7\\n8.2;0.64;0.27;2;0.095;5;77;0.99747;3.13;0.62;9.1;6\\n8.2;0.64;0.27;2;0.095;5;77;0.99747;3.13;0.62;9.1;6\\n8.9;0.48;0.53;4;0.101;3;10;0.99586;3.21;0.59;12.1;7\\n7.6;0.42;0.25;3.9;0.104;28;90;0.99784;3.15;0.57;9.1;5\\n9.9;0.53;0.57;2.4;0.093;30;52;0.9971;3.19;0.76;11.6;7\\n8.9;0.48;0.53;4;0.101;3;10;0.99586;3.21;0.59;12.1;7\\n11.6;0.23;0.57;1.8;0.074;3;8;0.9981;3.14;0.7;9.9;6\\n9.1;0.4;0.5;1.8;0.071;7;16;0.99462;3.21;0.69;12.5;8\\n8;0.38;0.44;1.9;0.098;6;15;0.9956;3.3;0.64;11.4;6\\n10.2;0.29;0.65;2.4;0.075;6;17;0.99565;3.22;0.63;11.8;6\\n8.2;0.74;0.09;2;0.067;5;10;0.99418;3.28;0.57;11.8;6\\n7.7;0.61;0.18;2.4;0.083;6;20;0.9963;3.29;0.6;10.2;6\\n6.6;0.52;0.08;2.4;0.07;13;26;0.99358;3.4;0.72;12.5;7\\n11.1;0.31;0.53;2.2;0.06;3;10;0.99572;3.02;0.83;10.9;7\\n11.1;0.31;0.53;2.2;0.06;3;10;0.99572;3.02;0.83;10.9;7\\n8;0.62;0.35;2.8;0.086;28;52;0.997;3.31;0.62;10.8;5\\n9.3;0.33;0.45;1.5;0.057;19;37;0.99498;3.18;0.89;11.1;7\\n7.5;0.77;0.2;8.1;0.098;30;92;0.99892;3.2;0.58;9.2;5\\n7.2;0.35;0.26;1.8;0.083;33;75;0.9968;3.4;0.58;9.5;6\\n8;0.62;0.33;2.7;0.088;16;37;0.9972;3.31;0.58;10.7;6\\n7.5;0.77;0.2;8.1;0.098;30;92;0.99892;3.2;0.58;9.2;5\\n9.1;0.25;0.34;2;0.071;45;67;0.99769;3.44;0.86;10.2;7\\n9.9;0.32;0.56;2;0.073;3;8;0.99534;3.15;0.73;11.4;6\\n8.6;0.37;0.65;6.4;0.08;3;8;0.99817;3.27;0.58;11;5\\n8.6;0.37;0.65;6.4;0.08;3;8;0.99817;3.27;0.58;11;5\\n7.9;0.3;0.68;8.3;0.05;37.5;278;0.99316;3.01;0.51;12.3;7\\n10.3;0.27;0.56;1.4;0.047;3;8;0.99471;3.16;0.51;11.8;6\\n7.9;0.3;0.68;8.3;0.05;37.5;289;0.99316;3.01;0.51;12.3;7\\n7.2;0.38;0.3;1.8;0.073;31;70;0.99685;3.42;0.59;9.5;6\\n8.7;0.42;0.45;2.4;0.072;32;59;0.99617;3.33;0.77;12;6\\n7.2;0.38;0.3;1.8;0.073;31;70;0.99685;3.42;0.59;9.5;6\\n6.8;0.48;0.08;1.8;0.074;40;64;0.99529;3.12;0.49;9.6;5\\n8.5;0.34;0.4;4.7;0.055;3;9;0.99738;3.38;0.66;11.6;7\\n7.9;0.19;0.42;1.6;0.057;18;30;0.994;3.29;0.69;11.2;6\\n11.6;0.41;0.54;1.5;0.095;22;41;0.99735;3.02;0.76;9.9;7\\n11.6;0.41;0.54;1.5;0.095;22;41;0.99735;3.02;0.76;9.9;7\\n10;0.26;0.54;1.9;0.083;42;74;0.99451;2.98;0.63;11.8;8\\n7.9;0.34;0.42;2;0.086;8;19;0.99546;3.35;0.6;11.4;6\\n7;0.54;0.09;2;0.081;10;16;0.99479;3.43;0.59;11.5;6\\n9.2;0.31;0.36;2.2;0.079;11;31;0.99615;3.33;0.86;12;7\\n6.6;0.725;0.09;5.5;0.117;9;17;0.99655;3.35;0.49;10.8;6\\n9.4;0.4;0.47;2.5;0.087;6;20;0.99772;3.15;0.5;10.5;5\\n6.6;0.725;0.09;5.5;0.117;9;17;0.99655;3.35;0.49;10.8;6\\n8.6;0.52;0.38;1.5;0.096;5;18;0.99666;3.2;0.52;9.4;5\\n8;0.31;0.45;2.1;0.216;5;16;0.99358;3.15;0.81;12.5;7\\n8.6;0.52;0.38;1.5;0.096;5;18;0.99666;3.2;0.52;9.4;5\\n8.4;0.34;0.42;2.1;0.072;23;36;0.99392;3.11;0.78;12.4;6\\n7.4;0.49;0.27;2.1;0.071;14;25;0.99388;3.35;0.63;12;6\\n6.1;0.48;0.09;1.7;0.078;18;30;0.99402;3.45;0.54;11.2;6\\n7.4;0.49;0.27;2.1;0.071;14;25;0.99388;3.35;0.63;12;6\\n8;0.48;0.34;2.2;0.073;16;25;0.9936;3.28;0.66;12.4;6\\n6.3;0.57;0.28;2.1;0.048;13;49;0.99374;3.41;0.6;12.8;5\\n8.2;0.23;0.42;1.9;0.069;9;17;0.99376;3.21;0.54;12.3;6\\n9.1;0.3;0.41;2;0.068;10;24;0.99523;3.27;0.85;11.7;7\\n8.1;0.78;0.1;3.3;0.09;4;13;0.99855;3.36;0.49;9.5;5\\n10.8;0.47;0.43;2.1;0.171;27;66;0.9982;3.17;0.76;10.8;6\\n8.3;0.53;0;1.4;0.07;6;14;0.99593;3.25;0.64;10;6\\n5.4;0.42;0.27;2;0.092;23;55;0.99471;3.78;0.64;12.3;7\\n7.9;0.33;0.41;1.5;0.056;6;35;0.99396;3.29;0.71;11;6\\n8.9;0.24;0.39;1.6;0.074;3;10;0.99698;3.12;0.59;9.5;6\\n5;0.4;0.5;4.3;0.046;29;80;0.9902;3.49;0.66;13.6;6\\n7;0.69;0.07;2.5;0.091;15;21;0.99572;3.38;0.6;11.3;6\\n7;0.69;0.07;2.5;0.091;15;21;0.99572;3.38;0.6;11.3;6\\n7;0.69;0.07;2.5;0.091;15;21;0.99572;3.38;0.6;11.3;6\\n7.1;0.39;0.12;2.1;0.065;14;24;0.99252;3.3;0.53;13.3;6\\n5.6;0.66;0;2.5;0.066;7;15;0.99256;3.52;0.58;12.9;5\\n7.9;0.54;0.34;2.5;0.076;8;17;0.99235;3.2;0.72;13.1;8\\n6.6;0.5;0;1.8;0.062;21;28;0.99352;3.44;0.55;12.3;6\\n6.3;0.47;0;1.4;0.055;27;33;0.9922;3.45;0.48;12.3;6\\n10.7;0.4;0.37;1.9;0.081;17;29;0.99674;3.12;0.65;11.2;6\\n6.5;0.58;0;2.2;0.096;3;13;0.99557;3.62;0.62;11.5;4\\n8.8;0.24;0.35;1.7;0.055;13;27;0.99394;3.14;0.59;11.3;7\\n5.8;0.29;0.26;1.7;0.063;3;11;0.9915;3.39;0.54;13.5;6\\n6.3;0.76;0;2.9;0.072;26;52;0.99379;3.51;0.6;11.5;6\\n10;0.43;0.33;2.7;0.095;28;89;0.9984;3.22;0.68;10;5\\n10.5;0.43;0.35;3.3;0.092;24;70;0.99798;3.21;0.69;10.5;6\\n9.1;0.6;0;1.9;0.058;5;10;0.9977;3.18;0.63;10.4;6\\n5.9;0.19;0.21;1.7;0.045;57;135;0.99341;3.32;0.44;9.5;5\\n7.4;0.36;0.34;1.8;0.075;18;38;0.9933;3.38;0.88;13.6;7\\n7.2;0.48;0.07;5.5;0.089;10;18;0.99684;3.37;0.68;11.2;7\\n8.5;0.28;0.35;1.7;0.061;6;15;0.99524;3.3;0.74;11.8;7\\n8;0.25;0.43;1.7;0.067;22;50;0.9946;3.38;0.6;11.9;6\\n10.4;0.52;0.45;2;0.08;6;13;0.99774;3.22;0.76;11.4;6\\n10.4;0.52;0.45;2;0.08;6;13;0.99774;3.22;0.76;11.4;6\\n7.5;0.41;0.15;3.7;0.104;29;94;0.99786;3.14;0.58;9.1;5\\n8.2;0.51;0.24;2;0.079;16;86;0.99764;3.34;0.64;9.5;6\\n7.3;0.4;0.3;1.7;0.08;33;79;0.9969;3.41;0.65;9.5;6\\n8.2;0.38;0.32;2.5;0.08;24;71;0.99624;3.27;0.85;11;6\\n6.9;0.45;0.11;2.4;0.043;6;12;0.99354;3.3;0.65;11.4;6\\n7;0.22;0.3;1.8;0.065;16;20;0.99672;3.61;0.82;10;6\\n7.3;0.32;0.23;2.3;0.066;35;70;0.99588;3.43;0.62;10.1;5\\n8.2;0.2;0.43;2.5;0.076;31;51;0.99672;3.53;0.81;10.4;6\\n7.8;0.5;0.12;1.8;0.178;6;21;0.996;3.28;0.87;9.8;6\\n10;0.41;0.45;6.2;0.071;6;14;0.99702;3.21;0.49;11.8;7\\n7.8;0.39;0.42;2;0.086;9;21;0.99526;3.39;0.66;11.6;6\\n10;0.35;0.47;2;0.061;6;11;0.99585;3.23;0.52;12;6\\n8.2;0.33;0.32;2.8;0.067;4;12;0.99473;3.3;0.76;12.8;7\\n6.1;0.58;0.23;2.5;0.044;16;70;0.99352;3.46;0.65;12.5;6\\n8.3;0.6;0.25;2.2;0.118;9;38;0.99616;3.15;0.53;9.8;5\\n9.6;0.42;0.35;2.1;0.083;17;38;0.99622;3.23;0.66;11.1;6\\n6.6;0.58;0;2.2;0.1;50;63;0.99544;3.59;0.68;11.4;6\\n8.3;0.6;0.25;2.2;0.118;9;38;0.99616;3.15;0.53;9.8;5\\n8.5;0.18;0.51;1.75;0.071;45;88;0.99524;3.33;0.76;11.8;7\\n5.1;0.51;0.18;2.1;0.042;16;101;0.9924;3.46;0.87;12.9;7\\n6.7;0.41;0.43;2.8;0.076;22;54;0.99572;3.42;1.16;10.6;6\\n10.2;0.41;0.43;2.2;0.11;11;37;0.99728;3.16;0.67;10.8;5\\n10.6;0.36;0.57;2.3;0.087;6;20;0.99676;3.14;0.72;11.1;7\\n8.8;0.45;0.43;1.4;0.076;12;21;0.99551;3.21;0.75;10.2;6\\n8.5;0.32;0.42;2.3;0.075;12;19;0.99434;3.14;0.71;11.8;7\\n9;0.785;0.24;1.7;0.078;10;21;0.99692;3.29;0.67;10;5\\n9;0.785;0.24;1.7;0.078;10;21;0.99692;3.29;0.67;10;5\\n8.5;0.44;0.5;1.9;0.369;15;38;0.99634;3.01;1.1;9.4;5\\n9.9;0.54;0.26;2;0.111;7;60;0.99709;2.94;0.98;10.2;5\\n8.2;0.33;0.39;2.5;0.074;29;48;0.99528;3.32;0.88;12.4;7\\n6.5;0.34;0.27;2.8;0.067;8;44;0.99384;3.21;0.56;12;6\\n7.6;0.5;0.29;2.3;0.086;5;14;0.99502;3.32;0.62;11.5;6\\n9.2;0.36;0.34;1.6;0.062;5;12;0.99667;3.2;0.67;10.5;6\\n7.1;0.59;0;2.2;0.078;26;44;0.99522;3.42;0.68;10.8;6\\n9.7;0.42;0.46;2.1;0.074;5;16;0.99649;3.27;0.74;12.3;6\\n7.6;0.36;0.31;1.7;0.079;26;65;0.99716;3.46;0.62;9.5;6\\n7.6;0.36;0.31;1.7;0.079;26;65;0.99716;3.46;0.62;9.5;6\\n6.5;0.61;0;2.2;0.095;48;59;0.99541;3.61;0.7;11.5;6\\n6.5;0.88;0.03;5.6;0.079;23;47;0.99572;3.58;0.5;11.2;4\\n7.1;0.66;0;2.4;0.052;6;11;0.99318;3.35;0.66;12.7;7\\n5.6;0.915;0;2.1;0.041;17;78;0.99346;3.68;0.73;11.4;5\\n8.2;0.35;0.33;2.4;0.076;11;47;0.99599;3.27;0.81;11;6\\n8.2;0.35;0.33;2.4;0.076;11;47;0.99599;3.27;0.81;11;6\\n9.8;0.39;0.43;1.65;0.068;5;11;0.99478;3.19;0.46;11.4;5\\n10.2;0.4;0.4;2.5;0.068;41;54;0.99754;3.38;0.86;10.5;6\\n6.8;0.66;0.07;1.6;0.07;16;61;0.99572;3.29;0.6;9.3;5\\n6.7;0.64;0.23;2.1;0.08;11;119;0.99538;3.36;0.7;10.9;5\\n7;0.43;0.3;2;0.085;6;39;0.99346;3.33;0.46;11.9;6\\n6.6;0.8;0.03;7.8;0.079;6;12;0.9963;3.52;0.5;12.2;5\\n7;0.43;0.3;2;0.085;6;39;0.99346;3.33;0.46;11.9;6\\n6.7;0.64;0.23;2.1;0.08;11;119;0.99538;3.36;0.7;10.9;5\\n8.8;0.955;0.05;1.8;0.075;5;19;0.99616;3.3;0.44;9.6;4\\n9.1;0.4;0.57;4.6;0.08;6;20;0.99652;3.28;0.57;12.5;6\\n6.5;0.885;0;2.3;0.166;6;12;0.99551;3.56;0.51;10.8;5\\n7.2;0.25;0.37;2.5;0.063;11;41;0.99439;3.52;0.8;12.4;7\\n6.4;0.885;0;2.3;0.166;6;12;0.99551;3.56;0.51;10.8;5\\n7;0.745;0.12;1.8;0.114;15;64;0.99588;3.22;0.59;9.5;6\\n6.2;0.43;0.22;1.8;0.078;21;56;0.99633;3.52;0.6;9.5;6\\n7.9;0.58;0.23;2.3;0.076;23;94;0.99686;3.21;0.58;9.5;6\\n7.7;0.57;0.21;1.5;0.069;4;9;0.99458;3.16;0.54;9.8;6\\n7.7;0.26;0.26;2;0.052;19;77;0.9951;3.15;0.79;10.9;6\\n7.9;0.58;0.23;2.3;0.076;23;94;0.99686;3.21;0.58;9.5;6\\n7.7;0.57;0.21;1.5;0.069;4;9;0.99458;3.16;0.54;9.8;6\\n7.9;0.34;0.36;1.9;0.065;5;10;0.99419;3.27;0.54;11.2;7\\n8.6;0.42;0.39;1.8;0.068;6;12;0.99516;3.35;0.69;11.7;8\\n9.9;0.74;0.19;5.8;0.111;33;76;0.99878;3.14;0.55;9.4;5\\n7.2;0.36;0.46;2.1;0.074;24;44;0.99534;3.4;0.85;11;7\\n7.2;0.36;0.46;2.1;0.074;24;44;0.99534;3.4;0.85;11;7\\n7.2;0.36;0.46;2.1;0.074;24;44;0.99534;3.4;0.85;11;7\\n9.9;0.72;0.55;1.7;0.136;24;52;0.99752;3.35;0.94;10;5\\n7.2;0.36;0.46;2.1;0.074;24;44;0.99534;3.4;0.85;11;7\\n6.2;0.39;0.43;2;0.071;14;24;0.99428;3.45;0.87;11.2;7\\n6.8;0.65;0.02;2.1;0.078;8;15;0.99498;3.35;0.62;10.4;6\\n6.6;0.44;0.15;2.1;0.076;22;53;0.9957;3.32;0.62;9.3;5\\n6.8;0.65;0.02;2.1;0.078;8;15;0.99498;3.35;0.62;10.4;6\\n9.6;0.38;0.42;1.9;0.071;5;13;0.99659;3.15;0.75;10.5;6\\n10.2;0.33;0.46;1.9;0.081;6;9;0.99628;3.1;0.48;10.4;6\\n8.8;0.27;0.46;2.1;0.095;20;29;0.99488;3.26;0.56;11.3;6\\n7.9;0.57;0.31;2;0.079;10;79;0.99677;3.29;0.69;9.5;6\\n8.2;0.34;0.37;1.9;0.057;43;74;0.99408;3.23;0.81;12;6\\n8.2;0.4;0.31;1.9;0.082;8;24;0.996;3.24;0.69;10.6;6\\n9;0.39;0.4;1.3;0.044;25;50;0.99478;3.2;0.83;10.9;6\\n10.9;0.32;0.52;1.8;0.132;17;44;0.99734;3.28;0.77;11.5;6\\n10.9;0.32;0.52;1.8;0.132;17;44;0.99734;3.28;0.77;11.5;6\\n8.1;0.53;0.22;2.2;0.078;33;89;0.99678;3.26;0.46;9.6;6\\n10.5;0.36;0.47;2.2;0.074;9;23;0.99638;3.23;0.76;12;6\\n12.6;0.39;0.49;2.5;0.08;8;20;0.9992;3.07;0.82;10.3;6\\n9.2;0.46;0.23;2.6;0.091;18;77;0.99922;3.15;0.51;9.4;5\\n7.5;0.58;0.03;4.1;0.08;27;46;0.99592;3.02;0.47;9.2;5\\n9;0.58;0.25;2;0.104;8;21;0.99769;3.27;0.72;9.6;5\\n5.1;0.42;0;1.8;0.044;18;88;0.99157;3.68;0.73;13.6;7\\n7.6;0.43;0.29;2.1;0.075;19;66;0.99718;3.4;0.64;9.5;5\\n7.7;0.18;0.34;2.7;0.066;15;58;0.9947;3.37;0.78;11.8;6\\n7.8;0.815;0.01;2.6;0.074;48;90;0.99621;3.38;0.62;10.8;5\\n7.6;0.43;0.29;2.1;0.075;19;66;0.99718;3.4;0.64;9.5;5\\n10.2;0.23;0.37;2.2;0.057;14;36;0.99614;3.23;0.49;9.3;4\\n7.1;0.75;0.01;2.2;0.059;11;18;0.99242;3.39;0.4;12.8;6\\n6;0.33;0.32;12.9;0.054;6;113;0.99572;3.3;0.56;11.5;4\\n7.8;0.55;0;1.7;0.07;7;17;0.99659;3.26;0.64;9.4;6\\n7.1;0.75;0.01;2.2;0.059;11;18;0.99242;3.39;0.4;12.8;6\\n8.1;0.73;0;2.5;0.081;12;24;0.99798;3.38;0.46;9.6;4\\n6.5;0.67;0;4.3;0.057;11;20;0.99488;3.45;0.56;11.8;4\\n7.5;0.61;0.2;1.7;0.076;36;60;0.99494;3.1;0.4;9.3;5\\n9.8;0.37;0.39;2.5;0.079;28;65;0.99729;3.16;0.59;9.8;5\\n9;0.4;0.41;2;0.058;15;40;0.99414;3.22;0.6;12.2;6\\n8.3;0.56;0.22;2.4;0.082;10;86;0.9983;3.37;0.62;9.5;5\\n5.9;0.29;0.25;13.4;0.067;72;160;0.99721;3.33;0.54;10.3;6\\n7.4;0.55;0.19;1.8;0.082;15;34;0.99655;3.49;0.68;10.5;5\\n7.4;0.74;0.07;'"
     ]
    }
   ],
   "source": [
    "dbutils.fs.head(\"/databricks-datasets/wine-quality/winequality-red.csv\")"
   ]
  },
  {
   "cell_type": "code",
   "execution_count": 0,
   "metadata": {
    "application/vnd.databricks.v1+cell": {
     "cellMetadata": {
      "byteLimit": 2048000,
      "rowLimit": 10000
     },
     "inputWidgets": {},
     "nuid": "b7bc100b-248a-4db7-9ea8-f0649282380a",
     "showTitle": false,
     "title": ""
    }
   },
   "outputs": [
    {
     "output_type": "stream",
     "name": "stdout",
     "output_type": "stream",
     "text": [
      "[Truncated to first 65536 bytes]\nOut[16]: '\"fixed acidity\";\"volatile acidity\";\"citric acid\";\"residual sugar\";\"chlorides\";\"free sulfur dioxide\";\"total sulfur dioxide\";\"density\";\"pH\";\"sulphates\";\"alcohol\";\"quality\"\\n7;0.27;0.36;20.7;0.045;45;170;1.001;3;0.45;8.8;6\\n6.3;0.3;0.34;1.6;0.049;14;132;0.994;3.3;0.49;9.5;6\\n8.1;0.28;0.4;6.9;0.05;30;97;0.9951;3.26;0.44;10.1;6\\n7.2;0.23;0.32;8.5;0.058;47;186;0.9956;3.19;0.4;9.9;6\\n7.2;0.23;0.32;8.5;0.058;47;186;0.9956;3.19;0.4;9.9;6\\n8.1;0.28;0.4;6.9;0.05;30;97;0.9951;3.26;0.44;10.1;6\\n6.2;0.32;0.16;7;0.045;30;136;0.9949;3.18;0.47;9.6;6\\n7;0.27;0.36;20.7;0.045;45;170;1.001;3;0.45;8.8;6\\n6.3;0.3;0.34;1.6;0.049;14;132;0.994;3.3;0.49;9.5;6\\n8.1;0.22;0.43;1.5;0.044;28;129;0.9938;3.22;0.45;11;6\\n8.1;0.27;0.41;1.45;0.033;11;63;0.9908;2.99;0.56;12;5\\n8.6;0.23;0.4;4.2;0.035;17;109;0.9947;3.14;0.53;9.7;5\\n7.9;0.18;0.37;1.2;0.04;16;75;0.992;3.18;0.63;10.8;5\\n6.6;0.16;0.4;1.5;0.044;48;143;0.9912;3.54;0.52;12.4;7\\n8.3;0.42;0.62;19.25;0.04;41;172;1.0002;2.98;0.67;9.7;5\\n6.6;0.17;0.38;1.5;0.032;28;112;0.9914;3.25;0.55;11.4;7\\n6.3;0.48;0.04;1.1;0.046;30;99;0.9928;3.24;0.36;9.6;6\\n6.2;0.66;0.48;1.2;0.029;29;75;0.9892;3.33;0.39;12.8;8\\n7.4;0.34;0.42;1.1;0.033;17;171;0.9917;3.12;0.53;11.3;6\\n6.5;0.31;0.14;7.5;0.044;34;133;0.9955;3.22;0.5;9.5;5\\n6.2;0.66;0.48;1.2;0.029;29;75;0.9892;3.33;0.39;12.8;8\\n6.4;0.31;0.38;2.9;0.038;19;102;0.9912;3.17;0.35;11;7\\n6.8;0.26;0.42;1.7;0.049;41;122;0.993;3.47;0.48;10.5;8\\n7.6;0.67;0.14;1.5;0.074;25;168;0.9937;3.05;0.51;9.3;5\\n6.6;0.27;0.41;1.3;0.052;16;142;0.9951;3.42;0.47;10;6\\n7;0.25;0.32;9;0.046;56;245;0.9955;3.25;0.5;10.4;6\\n6.9;0.24;0.35;1;0.052;35;146;0.993;3.45;0.44;10;6\\n7;0.28;0.39;8.7;0.051;32;141;0.9961;3.38;0.53;10.5;6\\n7.4;0.27;0.48;1.1;0.047;17;132;0.9914;3.19;0.49;11.6;6\\n7.2;0.32;0.36;2;0.033;37;114;0.9906;3.1;0.71;12.3;7\\n8.5;0.24;0.39;10.4;0.044;20;142;0.9974;3.2;0.53;10;6\\n8.3;0.14;0.34;1.1;0.042;7;47;0.9934;3.47;0.4;10.2;6\\n7.4;0.25;0.36;2.05;0.05;31;100;0.992;3.19;0.44;10.8;6\\n6.2;0.12;0.34;1.5;0.045;43;117;0.9939;3.42;0.51;9;6\\n5.8;0.27;0.2;14.95;0.044;22;179;0.9962;3.37;0.37;10.2;5\\n7.3;0.28;0.43;1.7;0.08;21;123;0.9905;3.19;0.42;12.8;5\\n6.5;0.39;0.23;5.4;0.051;25;149;0.9934;3.24;0.35;10;5\\n7;0.33;0.32;1.2;0.053;38;138;0.9906;3.13;0.28;11.2;6\\n7.3;0.24;0.39;17.95;0.057;45;149;0.9999;3.21;0.36;8.6;5\\n7.3;0.24;0.39;17.95;0.057;45;149;0.9999;3.21;0.36;8.6;5\\n6.7;0.23;0.39;2.5;0.172;63;158;0.9937;3.11;0.36;9.4;6\\n6.7;0.24;0.39;2.9;0.173;63;157;0.9937;3.1;0.34;9.4;6\\n7;0.31;0.26;7.4;0.069;28;160;0.9954;3.13;0.46;9.8;6\\n6.6;0.24;0.27;1.4;0.057;33;152;0.9934;3.22;0.56;9.5;6\\n6.7;0.23;0.26;1.4;0.06;33;154;0.9934;3.24;0.56;9.5;6\\n7.4;0.18;0.31;1.4;0.058;38;167;0.9931;3.16;0.53;10;7\\n6.2;0.45;0.26;4.4;0.063;63;206;0.994;3.27;0.52;9.8;4\\n6.2;0.46;0.25;4.4;0.066;62;207;0.9939;3.25;0.52;9.8;5\\n7;0.31;0.26;7.4;0.069;28;160;0.9954;3.13;0.46;9.8;6\\n6.9;0.19;0.35;5;0.067;32;150;0.995;3.36;0.48;9.8;5\\n7.2;0.19;0.31;1.6;0.062;31;173;0.9917;3.35;0.44;11.7;6\\n6.6;0.25;0.29;1.1;0.068;39;124;0.9914;3.34;0.58;11;7\\n6.2;0.16;0.33;1.1;0.057;21;82;0.991;3.32;0.46;10.9;7\\n6.4;0.18;0.35;1;0.045;39;108;0.9911;3.31;0.35;10.9;6\\n6.8;0.2;0.59;0.9;0.147;38;132;0.993;3.05;0.38;9.1;6\\n6.9;0.25;0.35;1.3;0.039;29;191;0.9908;3.13;0.52;11;6\\n7.2;0.21;0.34;11.9;0.043;37;213;0.9962;3.09;0.5;9.6;6\\n6;0.19;0.26;12.4;0.048;50;147;0.9972;3.3;0.36;8.9;6\\n6.6;0.38;0.15;4.6;0.044;25;78;0.9931;3.11;0.38;10.2;6\\n7.4;0.2;0.36;1.2;0.038;44;111;0.9926;3.36;0.34;9.9;6\\n6.8;0.22;0.24;4.9;0.092;30;123;0.9951;3.03;0.46;8.6;6\\n6;0.19;0.26;12.4;0.048;50;147;0.9972;3.3;0.36;8.9;6\\n7;0.47;0.07;1.1;0.035;17;151;0.991;3.02;0.34;10.5;5\\n6.6;0.38;0.15;4.6;0.044;25;78;0.9931;3.11;0.38;10.2;6\\n7.2;0.24;0.27;1.4;0.038;31;122;0.9927;3.15;0.46;10.3;6\\n6.2;0.35;0.03;1.2;0.064;29;120;0.9934;3.22;0.54;9.1;5\\n6.4;0.26;0.24;6.4;0.04;27;124;0.9903;3.22;0.49;12.6;7\\n6.7;0.25;0.13;1.2;0.041;81;174;0.992;3.14;0.42;9.8;5\\n6.7;0.23;0.31;2.1;0.046;30;96;0.9926;3.33;0.64;10.7;8\\n7.4;0.24;0.29;10.1;0.05;21;105;0.9962;3.13;0.35;9.5;5\\n6.2;0.27;0.43;7.8;0.056;48;244;0.9956;3.1;0.51;9;6\\n6.8;0.3;0.23;4.6;0.061;50.5;238.5;0.9958;3.32;0.6;9.5;5\\n6;0.27;0.28;4.8;0.063;31;201;0.9964;3.69;0.71;10;5\\n8.6;0.23;0.46;1;0.054;9;72;0.9941;2.95;0.49;9.1;6\\n6.7;0.23;0.31;2.1;0.046;30;96;0.9926;3.33;0.64;10.7;8\\n7.4;0.24;0.29;10.1;0.05;21;105;0.9962;3.13;0.35;9.5;5\\n7.1;0.18;0.36;1.4;0.043;31;87;0.9898;3.26;0.37;12.7;7\\n7;0.32;0.34;1.3;0.042;20;69;0.9912;3.31;0.65;12;7\\n7.4;0.18;0.3;8.8;0.064;26;103;0.9961;2.94;0.56;9.3;5\\n6.7;0.54;0.28;5.4;0.06;21;105;0.9949;3.27;0.37;9;5\\n6.8;0.22;0.31;1.4;0.053;34;114;0.9929;3.39;0.77;10.6;6\\n7.1;0.2;0.34;16;0.05;51;166;0.9985;3.21;0.6;9.2;6\\n7.1;0.34;0.2;6.1;0.063;47;164;0.9946;3.17;0.42;10;5\\n7.3;0.22;0.3;8.2;0.047;42;207;0.9966;3.33;0.46;9.5;6\\n7.1;0.43;0.61;11.8;0.045;54;155;0.9974;3.11;0.45;8.7;5\\n7.1;0.44;0.62;11.8;0.044;52;152;0.9975;3.12;0.46;8.7;6\\n7.2;0.39;0.63;11;0.044;55;156;0.9974;3.09;0.44;8.7;6\\n6.8;0.25;0.31;13.3;0.05;69;202;0.9972;3.22;0.48;9.7;6\\n7.1;0.43;0.61;11.8;0.045;54;155;0.9974;3.11;0.45;8.7;5\\n7.1;0.44;0.62;11.8;0.044;52;152;0.9975;3.12;0.46;8.7;6\\n7.2;0.39;0.63;11;0.044;55;156;0.9974;3.09;0.44;8.7;6\\n6.1;0.27;0.43;7.5;0.049;65;243;0.9957;3.12;0.47;9;5\\n6.9;0.24;0.33;1.7;0.035;47;136;0.99;3.26;0.4;12.6;7\\n6.9;0.21;0.33;1.8;0.034;48;136;0.9899;3.25;0.41;12.6;7\\n7.5;0.17;0.32;1.7;0.04;51;148;0.9916;3.21;0.44;11.5;7\\n7.1;0.26;0.29;12.4;0.044;62;240;0.9969;3.04;0.42;9.2;6\\n6;0.34;0.66;15.9;0.046;26;164;0.9979;3.14;0.5;8.8;6\\n8.6;0.265;0.36;1.2;0.034;15;80;0.9913;2.95;0.36;11.4;7\\n9.8;0.36;0.46;10.5;0.038;4;83;0.9956;2.89;0.3;10.1;4\\n6;0.34;0.66;15.9;0.046;26;164;0.9979;3.14;0.5;8.8;6\\n7.4;0.25;0.37;13.5;0.06;52;192;0.9975;3;0.44;9.1;5\\n7.1;0.12;0.32;9.6;0.054;64;162;0.9962;3.4;0.41;9.4;5\\n6;0.21;0.24;12.1;0.05;55;164;0.997;3.34;0.39;9.4;5\\n7.5;0.305;0.4;18.9;0.059;44;170;1;2.99;0.46;9;5\\n7.4;0.25;0.37;13.5;0.06;52;192;0.9975;3;0.44;9.1;5\\n7.3;0.13;0.32;14.4;0.051;34;109;0.9974;3.2;0.35;9.2;6\\n7.1;0.12;0.32;9.6;0.054;64;162;0.9962;3.4;0.41;9.4;5\\n7.1;0.23;0.35;16.5;0.04;60;171;0.999;3.16;0.59;9.1;6\\n7.1;0.23;0.35;16.5;0.04;60;171;0.999;3.16;0.59;9.1;6\\n6.9;0.33;0.28;1.3;0.051;37;187;0.9927;3.27;0.6;10.3;5\\n6.5;0.17;0.54;8.5;0.082;64;163;0.9959;2.89;0.39;8.8;6\\n7.2;0.27;0.46;18.75;0.052;45;255;1;3.04;0.52;8.9;5\\n7.2;0.31;0.5;13.3;0.056;68;195;0.9982;3.01;0.47;9.2;5\\n6.7;0.41;0.34;9.2;0.049;29;150;0.9968;3.22;0.51;9.1;5\\n6.7;0.41;0.34;9.2;0.049;29;150;0.9968;3.22;0.51;9.1;5\\n5.5;0.485;0;1.5;0.065;8;103;0.994;3.63;0.4;9.7;4\\n6;0.31;0.24;3.3;0.041;25;143;0.9914;3.31;0.44;11.3;6\\n7;0.14;0.4;1.7;0.035;16;85;0.9911;3.19;0.42;11.8;6\\n7.2;0.31;0.5;13.3;0.056;68;195;0.9982;3.01;0.47;9.2;5\\n7.3;0.32;0.48;13.3;0.06;57;196;0.9982;3.04;0.5;9.2;5\\n5.9;0.36;0.04;5.7;0.046;21;87;0.9934;3.22;0.51;10.2;5\\n7.8;0.24;0.32;12.2;0.054;42;138;0.9984;3.01;0.54;8.8;5\\n7.4;0.16;0.31;6.85;0.059;31;131;0.9952;3.29;0.34;9.7;5\\n6.9;0.19;0.28;5;0.058;14;146;0.9952;3.29;0.36;9.1;6\\n6.4;0.13;0.47;1.6;0.092;40;158;0.9928;3.21;0.36;9.8;6\\n6.7;0.19;0.36;1.1;0.026;63;143;0.9912;3.27;0.48;11;6\\n7.4;0.39;0.23;7;0.033;29;126;0.994;3.14;0.42;10.5;5\\n6.5;0.24;0.32;7.6;0.038;48;203;0.9958;3.45;0.54;9.7;7\\n6.1;0.3;0.56;2.8;0.044;47;179;0.9924;3.3;0.57;10.9;7\\n6.1;0.3;0.56;2.7;0.046;46;184;0.9924;3.31;0.57;10.9;6\\n5.7;0.26;0.25;10.4;0.02;7;57;0.994;3.39;0.37;10.6;5\\n6.5;0.24;0.32;7.6;0.038;48;203;0.9958;3.45;0.54;9.7;7\\n6.5;0.425;0.4;13.1;0.038;59;241;0.9979;3.23;0.57;9;5\\n6.6;0.24;0.27;15.8;0.035;46;188;0.9982;3.24;0.51;9.2;5\\n6.8;0.27;0.22;8.1;0.034;55;203;0.9961;3.19;0.52;8.9;5\\n6.7;0.27;0.31;15.7;0.036;44;179;0.9979;3.26;0.56;9.6;5\\n8.2;0.23;0.4;1.2;0.027;36;121;0.992;3.12;0.38;10.7;6\\n7.1;0.37;0.67;10.5;0.045;49;155;0.9975;3.16;0.44;8.7;5\\n6.8;0.19;0.36;1.9;0.035;30;96;0.9917;3.15;0.54;10.8;7\\n8.1;0.28;0.39;1.9;0.029;18;79;0.9923;3.23;0.52;11.8;6\\n6.3;0.31;0.34;2.2;0.045;20;77;0.9927;3.3;0.43;10.2;5\\n7.1;0.37;0.67;10.5;0.045;49;155;0.9975;3.16;0.44;8.7;5\\n7.9;0.21;0.4;1.2;0.039;38;107;0.992;3.21;0.54;10.8;6\\n8.5;0.21;0.41;4.3;0.036;24;99;0.9947;3.18;0.53;9.7;6\\n8.1;0.2;0.4;2;0.037;19;87;0.9921;3.12;0.54;11.2;6\\n6.3;0.255;0.37;1.1;0.04;37;114;0.9905;3;0.39;10.9;6\\n5.6;0.16;0.27;1.4;0.044;53;168;0.9918;3.28;0.37;10.1;6\\n6.4;0.595;0.14;5.2;0.058;15;97;0.9951;3.38;0.36;9;4\\n6.3;0.34;0.33;4.6;0.034;19;80;0.9917;3.38;0.58;12;7\\n6.9;0.25;0.3;4.1;0.054;23;116;0.994;2.99;0.38;9.4;6\\n7.9;0.22;0.38;8;0.043;46;152;0.9934;3.12;0.32;11.5;7\\n7.6;0.18;0.46;10.2;0.055;58;135;0.9968;3.14;0.43;9.9;6\\n6.9;0.25;0.3;4.1;0.054;23;116;0.994;2.99;0.38;9.4;6\\n7.2;0.18;0.41;1.2;0.048;41;97;0.9919;3.14;0.45;10.4;5\\n8.2;0.23;0.4;7.5;0.049;12;76;0.9966;3.06;0.84;9.7;6\\n7.4;0.24;0.42;14;0.066;48;198;0.9979;2.89;0.42;8.9;6\\n7.4;0.24;0.42;14;0.066;48;198;0.9979;2.89;0.42;8.9;6\\n6.1;0.32;0.24;1.5;0.036;38;124;0.9898;3.29;0.42;12.4;7\\n5.2;0.44;0.04;1.4;0.036;43;119;0.9894;3.36;0.33;12.1;8\\n5.2;0.44;0.04;1.4;0.036;43;119;0.9894;3.36;0.33;12.1;8\\n6.1;0.32;0.24;1.5;0.036;38;124;0.9898;3.29;0.42;12.4;7\\n6.4;0.22;0.56;14.5;0.055;27;159;0.998;2.98;0.4;9.1;5\\n6.3;0.36;0.3;4.8;0.049;14;85;0.9932;3.28;0.39;10.6;5\\n7.4;0.24;0.42;14;0.066;48;198;0.9979;2.89;0.42;8.9;6\\n6.7;0.24;0.35;13.1;0.05;64;205;0.997;3.15;0.5;9.5;5\\n7;0.23;0.36;13;0.051;72;177;0.9972;3.16;0.49;9.8;5\\n8.4;0.27;0.46;8.7;0.048;39;197;0.9974;3.14;0.59;9.6;6\\n6.7;0.46;0.18;2.4;0.034;25;98;0.9896;3.08;0.44;12.6;7\\n7.5;0.29;0.31;8.95;0.055;20;151;0.9968;3.08;0.54;9.3;5\\n9.8;0.42;0.48;9.85;0.034;5;110;0.9958;2.87;0.29;10;5\\n7.1;0.3;0.46;1.5;0.066;29;133;0.9906;3.12;0.54;12.7;6\\n7.9;0.19;0.45;1.5;0.045;17;96;0.9917;3.13;0.39;11;6\\n7.6;0.48;0.37;0.8;0.037;4;100;0.9902;3.03;0.39;11.4;4\\n6.3;0.22;0.43;4.55;0.038;31;130;0.9918;3.35;0.33;11.5;7\\n7.5;0.27;0.31;17.7;0.051;33;173;0.999;3.09;0.64;10.2;5\\n6.9;0.23;0.4;7.5;0.04;50;151;0.9927;3.11;0.27;11.4;6\\n7.2;0.32;0.47;5.1;0.044;19;65;0.991;3.03;0.41;12.6;4\\n5.9;0.23;0.3;12.9;0.054;57;170;0.9972;3.28;0.39;9.4;5\\n6;0.67;0.07;1.2;0.06;9;108;0.9931;3.11;0.35;8.7;4\\n6.4;0.25;0.32;5.5;0.049;41;176;0.995;3.19;0.68;9.2;6\\n6.4;0.33;0.31;5.5;0.048;42;173;0.9951;3.19;0.66;9.3;6\\n7.1;0.34;0.15;1.2;0.053;61;183;0.9936;3.09;0.43;9.2;5\\n6.8;0.28;0.4;22;0.048;48;167;1.001;2.93;0.5;8.7;5\\n6.9;0.27;0.4;14;0.05;64;227;0.9979;3.18;0.58;9.6;6\\n6.8;0.26;0.56;11.9;0.043;64;226;0.997;3.02;0.63;9.3;5\\n6.8;0.29;0.56;11.9;0.043;66;230;0.9972;3.02;0.63;9.3;5\\n6.7;0.24;0.41;9.4;0.04;49;166;0.9954;3.12;0.61;9.9;6\\n5.9;0.3;0.23;4.2;0.038;42;119;0.9924;3.15;0.5;11;5\\n6.8;0.53;0.35;3.8;0.034;26;109;0.9906;3.26;0.57;12.7;8\\n6.5;0.28;0.28;8.5;0.047;54;210;0.9962;3.09;0.54;8.9;4\\n6.6;0.28;0.28;8.5;0.052;55;211;0.9962;3.09;0.55;8.9;6\\n6.8;0.28;0.4;22;0.048;48;167;1.001;2.93;0.5;8.7;5\\n6.8;0.28;0.36;8;0.045;28;123;0.9928;3.02;0.37;11.4;6\\n6.6;0.15;0.34;5.1;0.055;34;125;0.9942;3.36;0.42;9.6;5\\n6.4;0.29;0.44;3.6;0.2;75;181;0.9942;3.02;0.41;9.1;5\\n6.4;0.3;0.45;3.5;0.197;76;180;0.9942;3.02;0.39;9.1;6\\n6.4;0.29;0.44;3.6;0.197;75;183;0.9942;3.01;0.38;9.1;5\\n6.8;0.26;0.24;7.8;0.052;54;214;0.9961;3.13;0.47;8.9;5\\n7.1;0.32;0.24;13.1;0.05;52;204;0.998;3.1;0.49;8.8;5\\n6.8;0.26;0.24;7.8;0.052;54;214;0.9961;3.13;0.47;8.9;5\\n6.8;0.27;0.26;16.1;0.049;55;196;0.9984;3.15;0.5;9.3;5\\n7.1;0.32;0.24;13.1;0.05;52;204;0.998;3.1;0.49;8.8;5\\n6.9;0.54;0.32;13.2;0.05;53;236;0.9973;3.2;0.5;9.6;5\\n6.8;0.26;0.34;13.9;0.034;39;134;0.9949;3.33;0.53;12;6\\n5.8;0.28;0.35;2.3;0.053;36;114;0.9924;3.28;0.5;10.2;4\\n6.4;0.21;0.5;11.6;0.042;45;153;0.9972;3.15;0.43;8.8;5\\n7;0.16;0.32;8.3;0.045;38;126;0.9958;3.21;0.34;9.2;5\\n10.2;0.44;0.88;6.2;0.049;20;124;0.9968;2.99;0.51;9.9;4\\n6.8;0.57;0.29;2.2;0.04;15;77;0.9938;3.32;0.74;10.2;5\\n6.1;0.4;0.31;0.9;0.048;23;170;0.993;3.22;0.77;9.5;6\\n5.6;0.245;0.25;9.7;0.032;12;68;0.994;3.31;0.34;10.5;5\\n6.8;0.18;0.38;1.4;0.038;35;111;0.9918;3.32;0.59;11.2;7\\n7;0.16;0.32;8.3;0.045;38;126;0.9958;3.21;0.34;9.2;5\\n6.7;0.13;0.29;5.3;0.051;31;122;0.9944;3.44;0.37;9.7;6\\n6.2;0.25;0.25;1.4;0.03;35;105;0.9912;3.3;0.44;11.1;7\\n5.8;0.26;0.24;9.2;0.044;55;152;0.9961;3.31;0.38;9.4;5\\n7.5;0.27;0.36;7;0.036;45;164;0.9939;3.03;0.33;11;5\\n5.8;0.26;0.24;9.2;0.044;55;152;0.9961;3.31;0.38;9.4;5\\n5.7;0.28;0.24;17.5;0.044;60;167;0.9989;3.31;0.44;9.4;5\\n7.5;0.23;0.36;7;0.036;43;161;0.9938;3.04;0.32;11;5\\n7.5;0.27;0.36;7;0.036;45;164;0.9939;3.03;0.33;11;5\\n7.2;0.685;0.21;9.5;0.07;33;172;0.9971;3;0.55;9.1;6\\n6.2;0.25;0.25;1.4;0.03;35;105;0.9912;3.3;0.44;11.1;7\\n6.5;0.19;0.3;0.8;0.043;33;144;0.9936;3.42;0.39;9.1;6\\n6.3;0.495;0.22;1.8;0.046;31;140;0.9929;3.39;0.54;10.4;6\\n7.1;0.24;0.41;17.8;0.046;39;145;0.9998;3.32;0.39;8.7;5\\n6.4;0.17;0.32;2.4;0.048;41;200;0.9938;3.5;0.5;9.7;6\\n7.1;0.25;0.32;10.3;0.041;66;272;0.9969;3.17;0.52;9.1;6\\n6.4;0.17;0.32;2.4;0.048;41;200;0.9938;3.5;0.5;9.7;6\\n7.1;0.24;0.41;17.8;0.046;39;145;0.9998;3.32;0.39;8.7;5\\n6.8;0.64;0.08;9.7;0.062;26;142;0.9972;3.37;0.46;8.9;4\\n8.3;0.28;0.4;7.8;0.041;38;194;0.9976;3.34;0.51;9.6;6\\n8.2;0.27;0.39;7.8;0.039;49;208;0.9976;3.31;0.51;9.5;6\\n7.2;0.23;0.38;14.3;0.058;55;194;0.9979;3.09;0.44;9;6\\n7.2;0.23;0.38;14.3;0.058;55;194;0.9979;3.09;0.44;9;6\\n7.2;0.23;0.38;14.3;0.058;55;194;0.9979;3.09;0.44;9;6\\n7.2;0.23;0.38;14.3;0.058;55;194;0.9979;3.09;0.44;9;6\\n6.8;0.52;0.32;13.2;0.044;54;221;0.9972;3.27;0.5;9.6;6\\n7;0.26;0.59;1.4;0.037;40;120;0.9918;3.34;0.41;11.1;7\\n6.2;0.25;0.21;15.55;0.039;28;159;0.9982;3.48;0.64;9.6;6\\n7.3;0.32;0.23;13.7;0.05;49;197;0.9985;3.2;0.46;8.7;5\\n7.7;0.31;0.26;7.8;0.031;23;90;0.9944;3.13;0.5;10.4;5\\n7.1;0.21;0.37;2.4;0.026;23;100;0.9903;3.15;0.38;11.4;7\\n6.8;0.24;0.34;2.7;0.047;64.5;218.5;0.9934;3.3;0.58;9.7;6\\n6.9;0.4;0.56;11.2;0.043;40;142;0.9975;3.14;0.46;8.7;5\\n6.1;0.18;0.36;2;0.038;20;249.5;0.9923;3.37;0.79;11.3;6\\n6.8;0.21;0.27;2.1;0.03;26;139;0.99;3.16;0.61;12.6;7\\n5.8;0.2;0.27;1.4;0.031;12;77;0.9905;3.25;0.36;10.9;7\\n5.6;0.19;0.26;1.4;0.03;12;76;0.9905;3.25;0.37;10.9;7\\n6.1;0.41;0.14;10.4;0.037;18;119;0.996;3.38;0.45;10;5\\n5.9;0.21;0.28;4.6;0.053;40;199;0.9964;3.72;0.7;10;4\\n8.5;0.26;0.21;16.2;0.074;41;197;0.998;3.02;0.5;9.8;3\\n6.9;0.4;0.56;11.2;0.043;40;142;0.9975;3.14;0.46;8.7;5\\n5.8;0.24;0.44;3.5;0.029;5;109;0.9913;3.53;0.43;11.7;3\\n5.8;0.24;0.39;1.5;0.054;37;158;0.9932;3.21;0.52;9.3;6\\n6.7;0.26;0.39;1.1;0.04;45;147;0.9935;3.32;0.58;9.6;8\\n6.3;0.35;0.3;5.7;0.035;8;97;0.9927;3.27;0.41;11;7\\n6.3;0.35;0.3;5.7;0.035;8;97;0.9927;3.27;0.41;11;7\\n6.4;0.23;0.39;1.8;0.032;23;118;0.9912;3.32;0.5;11.8;6\\n5.8;0.36;0.38;0.9;0.037;3;75;0.9904;3.28;0.34;11.4;4\\n6.9;0.115;0.35;5.4;0.048;36;108;0.9939;3.32;0.42;10.2;6\\n6.9;0.29;0.4;19.45;0.043;36;156;0.9996;2.93;0.47;8.9;5\\n6.9;0.28;0.4;8.2;0.036;15;95;0.9944;3.17;0.33;10.2;5\\n7.2;0.29;0.4;13.6;0.045;66;231;0.9977;3.08;0.59;9.6;6\\n6.2;0.24;0.35;1.2;0.038;22;167;0.9912;3.1;0.48;10.6;6\\n6.9;0.29;0.4;19.45;0.043;36;156;0.9996;2.93;0.47;8.9;5\\n6.9;0.32;0.26;8.3;0.053;32;180;0.9965;3.25;0.51;9.2;6\\n5.3;0.58;0.07;6.9;0.043;34;149;0.9944;3.34;0.57;9.7;5\\n5.3;0.585;0.07;7.1;0.044;34;145;0.9945;3.34;0.57;9.7;6\\n5.4;0.59;0.07;7;0.045;36;147;0.9944;3.34;0.57;9.7;6\\n6.9;0.32;0.26;8.3;0.053;32;180;0.9965;3.25;0.51;9.2;6\\n5.2;0.6;0.07;7;0.044;33;147;0.9944;3.33;0.58;9.7;5\\n5.8;0.25;0.26;13.1;0.051;44;148;0.9972;3.29;0.38;9.3;5\\n6.6;0.58;0.3;5.1;0.057;30;123;0.9949;3.24;0.38;9;5\\n7;0.29;0.54;10.7;0.046;59;234;0.9966;3.05;0.61;9.5;5\\n6.6;0.19;0.41;8.9;0.046;51;169;0.9954;3.14;0.57;9.8;6\\n6.7;0.2;0.41;9.1;0.044;50;166;0.9954;3.14;0.58;9.8;6\\n7.7;0.26;0.4;1.1;0.042;9;60;0.9915;2.89;0.5;10.6;5\\n6.8;0.32;0.34;1.2;0.044;14;67;0.9919;3.05;0.47;10.6;4\\n7;0.3;0.49;4.7;0.036;17;105;0.9916;3.26;0.68;12.4;7\\n7;0.24;0.36;2.8;0.034;22;112;0.99;3.19;0.38;12.6;8\\n6.1;0.31;0.58;5;0.039;36;114;0.9909;3.3;0.6;12.3;8\\n6.8;0.44;0.37;5.1;0.047;46;201;0.9938;3.08;0.65;10.5;4\\n6.7;0.34;0.3;15.6;0.054;51;196;0.9982;3.19;0.49;9.3;5\\n7.1;0.35;0.24;15.4;0.055;46;198;0.9988;3.12;0.49;8.8;5\\n7.3;0.32;0.25;7.2;0.056;47;180;0.9961;3.08;0.47;8.8;5\\n6.5;0.28;0.33;15.7;0.053;51;190;0.9978;3.22;0.51;9.7;6\\n7.2;0.23;0.39;14.2;0.058;49;192;0.9979;2.98;0.48;9;7\\n7.2;0.23;0.39;14.2;0.058;49;192;0.9979;2.98;0.48;9;7\\n7.2;0.23;0.39;14.2;0.058;49;192;0.9979;2.98;0.48;9;7\\n7.2;0.23;0.39;14.2;0.058;49;192;0.9979;2.98;0.48;9;7\\n5.9;0.15;0.31;5.8;0.041;53;155;0.9945;3.52;0.46;10.5;6\\n7.4;0.28;0.42;19.8;0.066;53;195;1;2.96;0.44;9.1;5\\n6.2;0.28;0.22;7.3;0.041;26;157;0.9957;3.44;0.64;9.8;7\\n9.1;0.59;0.38;1.6;0.066;34;182;0.9968;3.23;0.38;8.5;3\\n6.3;0.33;0.27;1.2;0.046;34;175;0.9934;3.37;0.54;9.4;6\\n8.3;0.39;0.7;10.6;0.045;33;169;0.9976;3.09;0.57;9.4;5\\n7.2;0.19;0.46;3.8;0.041;82;187;0.9932;3.19;0.6;11.2;7\\n7.5;0.17;0.44;11.3;0.046;65;146;0.997;3.17;0.45;10;6\\n6.7;0.17;0.5;2.1;0.043;27;122;0.9923;3.15;0.45;10.3;6\\n6.1;0.41;0;1.6;0.063;36;87;0.9914;3.27;0.67;10.8;6\\n8.3;0.2;0.35;0.9;0.05;12;74;0.992;3.13;0.38;10.5;6\\n6.1;0.41;0;1.6;0.063;36;87;0.9914;3.27;0.67;10.8;6\\n6;0.29;0.21;1.3;0.055;42;168;0.9914;3.32;0.43;11.1;6\\n7.3;0.41;0.24;6.8;0.057;41;163;0.9949;3.2;0.41;9.9;6\\n7.3;0.41;0.24;6.8;0.057;41;163;0.9949;3.2;0.41;9.9;6\\n7.2;0.43;0.24;6.7;0.058;40;163;0.995;3.2;0.41;9.9;5\\n7.3;0.4;0.24;6.7;0.058;41;166;0.995;3.2;0.41;9.9;6\\n6.2;0.33;0.27;4.9;0.036;30;134;0.9927;3.2;0.42;10.4;7\\n6.2;0.31;0.26;4.8;0.037;36;148;0.9928;3.21;0.41;10.4;6\\n6.1;0.36;0.27;2.1;0.035;16;100;0.9917;3.4;0.71;11.5;7\\n5;0.55;0.14;8.3;0.032;35;164;0.9918;3.53;0.51;12.5;8\\n7.8;0.25;0.41;3.7;0.042;37;149;0.9954;3.36;0.45;10;6\\n5.7;0.36;0.21;6.7;0.038;51;166;0.9941;3.29;0.63;10;6\\n5.8;0.34;0.21;6.6;0.04;50;167;0.9941;3.29;0.62;10;5\\n6.8;0.28;0.6;1.1;0.132;42;127;0.9934;3.09;0.44;9.1;6\\n6.8;0.25;0.34;4.7;0.031;34;134;0.9927;3.21;0.38;10.6;6\\n6.6;0.24;0.35;7.7;0.031;36;135;0.9938;3.19;0.37;10.5;5\\n5.9;0.3;0.47;7.85;0.03;19;133;0.9933;3.52;0.43;11.5;7\\n6.1;0.125;0.25;3.3;0.04;10;69;0.9934;3.54;0.59;10.1;6\\n6;0.1;0.24;1.1;0.041;15;65;0.9927;3.61;0.61;10.3;7\\n6.6;0.24;0.35;7.7;0.031;36;135;0.9938;3.19;0.37;10.5;5\\n6.8;0.25;0.34;4.7;0.031;34;134;0.9927;3.21;0.38;10.6;6\\n6.8;0.28;0.44;9.3;0.031;35;137;0.9946;3.16;0.36;10.4;6\\n8.3;0.41;0.51;2;0.046;11;207;0.993;3.02;0.55;11.4;5\\n7.5;0.27;0.31;5.8;0.057;131;313;0.9946;3.18;0.59;10.5;5\\n7.9;0.26;0.41;15.15;0.04;38;216;0.9976;2.96;0.6;10;6\\n6.4;0.34;0.23;6.3;0.039;37;143;0.9944;3.19;0.65;10;6\\n6.5;0.28;0.35;15.4;0.042;55;195;0.9978;3.23;0.5;9.6;6\\n7.2;0.21;0.41;1.3;0.036;33;85;0.992;3.17;0.51;10.4;5\\n6.4;0.32;0.35;4.8;0.03;34;101;0.9912;3.36;0.6;12.5;8\\n6.8;0.24;0.34;4.6;0.032;37;135;0.9927;3.2;0.39;10.6;5\\n6.3;0.23;0.3;1.8;0.033;16;91;0.9906;3.28;0.4;11.8;6\\n6.5;0.28;0.34;9.9;0.038;30;133;0.9954;3.11;0.44;9.8;5\\n5.6;0.26;0.26;5.7;0.031;12;80;0.9923;3.25;0.38;10.8;5\\n6.3;0.23;0.3;1.8;0.033;16;91;0.9906;3.28;0.4;11.8;6\\n6.3;0.23;0.33;1.5;0.036;15;105;0.991;3.32;0.42;11.2;6\\n5.8;0.27;0.27;12.3;0.045;55;170;0.9972;3.28;0.42;9.3;6\\n5.9;0.26;0.4;1.3;0.047;12;139;0.9945;3.45;0.53;10.4;5\\n6.6;0.18;0.35;1.5;0.049;49;141;0.9934;3.43;0.85;10.2;7\\n7.4;0.2;0.43;7.8;0.045;27;153;0.9964;3.19;0.55;9;7\\n8;0.24;0.36;1.5;0.047;17;129;0.9948;3.2;0.54;10;6\\n6.4;0.26;0.42;9.7;0.044;30;140;0.9962;3.18;0.47;9.1;6\\n5.4;0.31;0.47;3;0.053;46;144;0.9931;3.29;0.76;10;5\\n5.4;0.29;0.47;3;0.052;47;145;0.993;3.29;0.75;10;6\\n7.1;0.145;0.33;4.6;0.05;33;131;0.9942;3.28;0.4;9.6;6\\n5.6;0.34;0.1;1.3;0.031;20;68;0.9906;3.36;0.51;11.2;7\\n6.7;0.19;0.41;15.6;0.056;75;155;0.9995;3.2;0.44;8.8;6\\n7.8;0.18;0.46;13.6;0.052;38;118;0.998;3.15;0.5;10;6\\n7.6;0.17;0.45;11.2;0.054;56;137;0.997;3.15;0.47;10;5\\n6.3;0.12;0.36;2.1;0.044;47;146;0.9914;3.27;0.74;11.4;7\\n7.3;0.33;0.4;6.85;0.038;32;138;0.992;3.03;0.3;11.9;7\\n5.5;0.335;0.3;2.5;0.071;27;128;0.9924;3.14;0.51;9.6;6\\n7.3;0.33;0.4;6.85;0.038;32;138;0.992;3.03;0.3;11.9;7\\n5.8;0.4;0.42;4.4;0.047;38.5;245;0.9937;3.25;0.57;9.6;6\\n7.3;0.22;0.37;14.3;0.063;48;191;0.9978;2.89;0.38;9;6\\n7.3;0.22;0.37;14.3;0.063;48;191;0.9978;2.89;0.38;9;6\\n6.1;0.36;0.33;1.1;0.05;24;169;0.9927;3.15;0.78;9.5;6\\n10;0.2;0.39;1.4;0.05;19;152;0.994;3;0.42;10.4;6\\n6.9;0.24;0.34;4.7;0.04;43;161;0.9935;3.2;0.59;10.6;6\\n6.4;0.24;0.32;14.9;0.047;54;162;0.9968;3.28;0.5;10.2;6\\n7.1;0.365;0.14;1.2;0.055;24;84;0.9941;3.15;0.43;8.9;5\\n6.8;0.15;0.3;5.3;0.05;40;127;0.9942;3.4;0.39;9.7;6\\n7.3;0.22;0.37;14.3;0.063;48;191;0.9978;2.89;0.38;9;6\\n6.8;0.16;0.4;2.3;0.037;18;102;0.9923;3.49;0.42;11.4;7\\n6;0.26;0.32;3.5;0.028;29;113;0.9912;3.4;0.71;12.3;7\\n6;0.18;0.27;1.5;0.089;40;143;0.9923;3.49;0.62;10.8;6\\n6.9;0.33;0.21;1;0.053;39;148;0.9927;3.12;0.45;9.4;6\\n7.7;0.29;0.48;2.3;0.049;36;178;0.9931;3.17;0.64;10.6;6\\n7.1;0.39;0.35;12.5;0.044;26;72;0.9941;3.17;0.29;11.6;5\\n6.9;0.33;0.21;1;0.053;39;148;0.9927;3.12;0.45;9.4;6\\n7.7;0.29;0.48;2.3;0.049;36;178;0.9931;3.17;0.64;10.6;6\\n6.6;0.905;0.19;0.8;0.048;17;204;0.9934;3.34;0.56;10;5\\n7.2;0.27;0.27;2.4;0.048;30;149;0.9936;3.1;0.51;9.2;6\\n5.1;0.33;0.22;1.6;0.027;18;89;0.9893;3.51;0.38;12.5;7\\n5.1;0.33;0.22;1.6;0.027;18;89;0.9893;3.51;0.38;12.5;7\\n6.4;0.31;0.28;1.5;0.037;12;119;0.9919;3.32;0.51;10.4;7\\n7.3;0.2;0.44;1.4;0.045;21;98;0.9924;3.15;0.46;10;7\\n5.7;0.32;0.5;2.6;0.049;17;155;0.9927;3.22;0.64;10;6\\n6.4;0.31;0.28;1.5;0.037;12;119;0.9919;3.32;0.51;10.4;7\\n7.3;0.2;0.44;1.4;0.045;21;98;0.9924;3.15;0.46;10;7\\n7.2;0.28;0.26;12.5;0.046;48;179;0.9975;3.1;0.52;9;6\\n7.5;0.35;0.28;9.6;0.051;26;157;0.9969;3.12;0.53;9.2;6\\n7.2;0.27;0.27;2.4;0.048;30;149;0.9936;3.1;0.51;9.2;6\\n6;0.36;0.39;3.2;0.027;20;125;0.991;3.38;0.39;11.3;7\\n5.1;0.33;0.22;1.6;0.027;18;89;0.9893;3.51;0.38;12.5;7\\n5;0.17;0.56;1.5;0.026;24;115;0.9906;3.48;0.39;10.8;7\\n6.3;0.39;0.35;5.9;0.04;82.5;260;0.9941;3.12;0.66;10.1;5\\n6.7;0.21;0.32;5.4;0.047;29;140;0.995;3.39;0.46;9.7;6\\n7;0.3;0.38;14.9;0.032;60;181;0.9983;3.18;0.61;9.3;7\\n7;0.3;0.38;14.9;0.032;60;181;0.9983;3.18;0.61;9.3;7\\n6.5;0.36;0.32;1.1;0.031;13;66;0.9916;3.1;0.46;10.6;5\\n6.1;0.55;0.15;9.8;0.031;19;125;0.9957;3.36;0.47;10.2;6\\n7.3;0.24;0.43;2;0.021;20;69;0.99;3.08;0.56;12.2;6\\n6.8;0.37;0.51;11.8;0.044;62;163;0.9976;3.19;0.44;8.8;5\\n6.8;0.27;0.12;1.3;0.04;87;168;0.992;3.18;0.41;10;5\\n8.2;0.28;0.42;1.8;0.031;30;93;0.9917;3.09;0.39;11.4;5\\n6.3;0.2;0.4;1.5;0.037;35;107;0.9917;3.46;0.5;11.4;6\\n5.9;0.26;0.27;18.2;0.048;52;168;0.9993;3.35;0.44;9.4;5\\n6.4;0.19;0.42;2.9;0.032;32;83;0.9908;3.3;0.41;11.7;6\\n6.3;0.2;0.4;1.5;0.037;35;107;0.9917;3.46;0.5;11.4;6\\n6.8;0.37;0.51;11.8;0.044;62;163;0.9976;3.19;0.44;8.8;5\\n6.1;0.35;0.07;1.4;0.069;22;108;0.9934;3.23;0.52;9.2;5\\n7.1;0.27;0.31;18.2;0.046;55;252;1;3.07;0.56;8.7;5\\n6.8;0.22;0.31;6.3;0.035;33;170;0.9918;3.24;0.66;12.6;6\\n6.8;0.27;0.12;1.3;0.04;87;168;0.992;3.18;0.41;10;5\\n5.8;0.28;0.34;4;0.031;40;99;0.9896;3.39;0.39;12.8;7\\n6.9;0.49;0.24;1.2;0.049;13;125;0.9932;3.17;0.51;9.4;5\\n6.3;0.14;0.39;1.2;0.044;26;116;0.992;3.26;0.53;10.3;6\\n8.2;0.28;0.42;1.8;0.031;30;93;0.9917;3.09;0.39;11.4;5\\n7.2;0.25;0.39;18.95;0.038;42;155;0.9999;2.97;0.47;9;6\\n7.3;0.28;0.36;12.7;0.04;38;140;0.998;3.3;0.79;9.6;6\\n7.2;0.19;0.39;1.2;0.036;32;85;0.9918;3.16;0.5;10.5;5\\n7.2;0.19;0.39;1.2;0.036;32;85;0.9918;3.16;0.5;10.5;5\\n7.2;0.25;0.39;18.95;0.038;42;155;0.9999;2.97;0.47;9;6\\n7.3;0.28;0.36;12.7;0.04;38;140;0.998;3.3;0.79;9.6;6\\n7.4;0.21;0.27;1.2;0.041;27;99;0.9927;3.19;0.33;9.8;6\\n6.8;0.26;0.22;7.7;0.047;57;210;0.9959;3.1;0.47;9;5\\n7.4;0.21;0.27;1.2;0.041;27;99;0.9927;3.19;0.33;9.8;6\\n7.4;0.31;0.28;1.6;0.05;33;137;0.9929;3.31;0.56;10.5;6\\n7;0.22;0.31;2.7;0.03;41;136;0.9898;3.16;0.37;12.7;7\\n7;0.21;0.28;8.7;0.045;37;222;0.9954;3.25;0.54;10.4;6\\n7;0.21;0.28;8.6;0.045;37;221;0.9954;3.25;0.54;10.4;6\\n7;0.21;0.28;8.6;0.045;37;221;0.9954;3.25;0.54;10.4;6\\n6.9;0.23;0.38;8.3;0.047;47;162;0.9954;3.34;0.52;10.5;7\\n7;0.21;0.28;8.7;0.045;37;222;0.9954;3.25;0.54;10.4;6\\n7;0.21;0.28;8.6;0.045;37;221;0.9954;3.25;0.54;10.4;6\\n6.8;0.29;0.5;13.3;0.053;48;194;0.9974;3.09;0.45;9.4;5\\n7.8;0.21;0.27;1.2;0.051;20;89;0.9936;3.06;0.46;9.1;5\\n7.1;0.31;0.47;13.6;0.056;54;197;0.9978;3.1;0.49;9.3;5\\n6.8;0.29;0.5;13.3;0.053;48;194;0.9974;3.09;0.45;9.4;5\\n6.4;0.34;0.1;1.1;0.048;19;84;0.9927;3.21;0.38;9.8;5\\n7.4;0.155;0.34;2.3;0.045;73.5;214;0.9934;3.18;0.61;9.9;7\\n7.2;0.55;0.09;1.5;0.108;16;151;0.9938;3.07;0.57;9.2;4\\n7;0.23;0.36;7.1;0.028;31;104;0.9922;3.35;0.47;12.1;8\\n6.9;0.2;0.37;6.2;0.027;24;97;0.992;3.38;0.49;12.2;7\\n6.1;0.28;0.32;2.5;0.042;23;218.5;0.9935;3.27;0.6;9.8;5\\n6.6;0.16;0.32;1.4;0.035;49;186;0.9906;3.35;0.64;12.4;8\\n7.4;0.155;0.34;2.3;0.045;73.5;214;0.9934;3.18;0.61;9.9;7\\n6.2;0.35;0.04;1.2;0.06;23;108;0.9934;3.26;0.54;9.2;5\\n6.7;0.22;0.37;1.6;0.028;24;102;0.9913;3.29;0.59;11.6;7\\n6.1;0.38;0.2;6.6;0.033;25;137;0.9938;3.3;0.69;10.4;6\\n6;0.25;0.28;2.2;0.026;54;126;0.9898;3.43;0.65;12.9;8\\n6.6;0.52;0.44;12.2;0.048;54;245;0.9975;3.26;0.54;9.3;6\\n6.9;0.24;0.36;20.8;0.031;40;139;0.9975;3.2;0.33;11;6\\n7.1;0.32;0.32;11;0.038;16;66;0.9937;3.24;0.4;11.5;3\\n5.8;0.28;0.27;2.6;0.054;30;156;0.9914;3.53;0.42;12.4;5\\n6.5;0.41;0.24;14;0.048;24;113;0.9982;3.44;0.53;9.8;6\\n6.5;0.41;0.24;14;0.048;24;113;0.9982;3.44;0.53;9.8;6\\n6.4;0.28;0.29;1.6;0.052;34;127;0.9929;3.48;0.56;10.5;7\\n7.2;0.6;0.2;9.9;0.07;21;174;0.9971;3.03;0.54;9.1;5\\n6.1;0.2;0.25;1.2;0.038;34;128;0.9921;3.24;0.44;10.1;5\\n5.9;0.46;0.14;2.7;0.042;27;160;0.9931;3.46;0.51;10.6;7\\n6;0.27;0.27;1.6;0.046;32;113;0.9924;3.41;0.51;10.5;7\\n6.4;0.28;0.29;1.6;0.052;34;127;0.9929;3.48;0.56;10.5;7\\n6.4;0.41;0.24;14;0.048;24;113;0.9982;3.44;0.53;9.8;6\\n6.3;0.23;0.31;1.5;0.022;11;82;0.9892;3.3;0.4;12.9;7\\n7.1;0.2\n\n*** WARNING: max output size exceeded, skipping output. ***\n\n38;0.9988;3.08;0.44;9.2;5\\n6.8;0.2;0.36;1.6;0.028;7;46;0.99175;3.21;0.6;10.9;6\\n6.7;0.11;0.34;8.8;0.043;41;113;0.9962;3.42;0.4;9.3;7\\n6.7;0.11;0.34;8.8;0.043;41;113;0.9962;3.42;0.4;9.3;7\\n6.8;0.12;0.31;5.2;0.045;29;120;0.9942;3.41;0.46;9.8;7\\n6.6;0.16;0.57;1.1;0.13;58;140;0.9927;3.12;0.39;9.3;7\\n6.6;0.21;0.6;1.1;0.135;61;144;0.9927;3.12;0.39;9.3;7\\n6.1;0.27;0.3;16.7;0.039;49;172;0.99985;3.4;0.45;9.4;5\\n9.1;0.27;0.45;10.6;0.035;28;124;0.997;3.2;0.46;10.4;9\\n6.4;0.225;0.48;2.2;0.115;29;104;0.9918;3.24;0.58;12.1;6\\n8.3;0.14;0.45;1.5;0.039;18;98;0.99215;3.02;0.56;11;6\\n7.2;0.23;0.19;13.7;0.052;47;197;0.99865;3.12;0.53;9;5\\n6.9;0.22;0.37;15;0.053;59;178;0.9992;3.37;0.82;9.5;7\\n8.1;0.17;0.44;14.1;0.053;43;145;1.0006;3.28;0.75;8.8;8\\n6;0.395;0;1.4;0.042;7;55;0.99135;3.37;0.38;11.2;4\\n7.8;0.29;0.22;9.5;0.056;44;213;0.99715;3.08;0.61;9.3;6\\n6.9;0.22;0.37;15;0.053;59;178;0.9992;3.37;0.82;9.5;7\\n8.1;0.17;0.44;14.1;0.053;43;145;1.0006;3.28;0.75;8.8;8\\n7.2;0.23;0.19;13.7;0.052;47;197;0.99865;3.12;0.53;9;5\\n7.6;0.3;0.27;10.6;0.039;31;119;0.99815;3.27;0.3;9.3;6\\n7.7;0.34;0.28;11;0.04;31;117;0.99815;3.27;0.29;9.2;6\\n7.7;0.34;0.28;11;0.04;31;117;0.99815;3.27;0.29;9.2;6\\n5.8;0.34;0.16;7;0.037;26;116;0.9949;3.46;0.45;10;7\\n7.6;0.3;0.27;10.6;0.039;31;119;0.99815;3.27;0.3;9.3;6\\n7.7;0.34;0.28;11;0.04;31;117;0.99815;3.27;0.29;9.2;6\\n5.9;0.24;0.3;2;0.033;28;92;0.99225;3.39;0.69;10.9;7\\n6.4;0.46;0.08;4.9;0.046;34;144;0.99445;3.1;0.56;10;5\\n5.9;0.24;0.3;2;0.033;28;92;0.99225;3.39;0.69;10.9;7\\n7.4;0.32;0.27;1.4;0.049;38;173;0.99335;3.03;0.52;9.3;5\\n7.2;0.31;0.26;7.3;0.05;37;157;0.99625;3.09;0.43;9;5\\n7.8;0.42;0.23;8.8;0.054;42;215;0.9971;3.02;0.58;9.2;6\\n6.9;0.24;0.33;12.5;0.046;47;153;0.9983;3.28;0.77;9.6;6\\n5.4;0.18;0.24;4.8;0.041;30;113;0.99445;3.42;0.4;9.4;6\\n6;0.18;0.31;1.4;0.036;14;75;0.99085;3.34;0.58;11.1;8\\n7.8;0.27;0.58;11.2;0.036;44;161;0.9977;3.06;0.41;8.9;6\\n6;0.28;0.49;6.8;0.048;61;222;0.9953;3.19;0.47;9.3;5\\n6.8;0.39;0.35;11.6;0.044;57;220;0.99775;3.07;0.53;9.3;5\\n6.6;0.21;0.31;11.4;0.039;46;165;0.99795;3.41;0.44;9.8;7\\n7.3;0.32;0.34;6.6;0.032;24;112;0.99505;3.22;0.46;9.8;6\\n7.8;0.27;0.58;11.2;0.036;44;161;0.9977;3.06;0.41;8.9;6\\n6.4;0.31;0.26;13.2;0.046;57;205;0.9975;3.17;0.41;9.6;5\\n6.2;0.29;0.26;13.1;0.046;55;204;0.99745;3.16;0.41;9.6;6\\n6;0.39;0.17;12;0.046;65;246;0.9976;3.15;0.38;9;6\\n6.2;0.3;0.26;13.4;0.046;57;206;0.99775;3.17;0.43;9.5;6\\n6;0.28;0.49;6.8;0.048;61;222;0.9953;3.19;0.47;9.3;5\\n6;0.41;0.05;1.5;0.063;17;120;0.9932;3.21;0.56;9.2;6\\n6.4;0.35;0.28;1.1;0.055;9;160;0.99405;3.42;0.5;9.1;7\\n6.5;0.26;0.32;16.5;0.045;44;166;1;3.38;0.46;9.5;6\\n7.9;0.35;0.24;15.6;0.072;44;229;0.99785;3.03;0.59;10.5;6\\n6.2;0.3;0.17;2.8;0.04;24;125;0.9939;3.01;0.46;9;5\\n8.4;0.18;0.42;5.1;0.036;7;77;0.9939;3.16;0.52;11.7;5\\n6.6;0.56;0.22;8.9;0.034;27;133;0.99675;3.2;0.51;9.1;5\\n6.2;0.3;0.17;2.8;0.04;24;125;0.9939;3.01;0.46;9;5\\n6.6;0.56;0.22;8.9;0.034;27;133;0.99675;3.2;0.51;9.1;5\\n6.6;0.36;0.29;1.6;0.021;24;85;0.98965;3.41;0.61;12.4;9\\n7.3;0.655;0.2;10.2;0.071;28;212;0.9971;2.96;0.58;9.2;6\\n6.8;0.18;0.21;5.4;0.053;34;104;0.99445;3.3;0.43;9.4;5\\n6.7;0.19;0.23;6.2;0.047;36;117;0.9945;3.34;0.43;9.6;6\\n8.4;0.18;0.42;5.1;0.036;7;77;0.9939;3.16;0.52;11.7;5\\n7;0.21;0.37;7.2;0.042;36;167;0.9958;3.26;0.56;9.8;6\\n6.8;0.25;0.38;8.1;0.046;24;155;0.9956;3.33;0.59;10.2;6\\n7.4;0.24;0.36;2;0.031;27;139;0.99055;3.28;0.48;12.5;9\\n7.1;0.16;0.36;10.7;0.044;20;90;0.9959;3.16;0.44;10.9;7\\n7.1;0.16;0.36;1.2;0.043;21;90;0.9925;3.16;0.42;11;7\\n7.3;0.205;0.31;1.7;0.06;34;110;0.9963;3.72;0.69;10.5;6\\n7.4;0.17;0.4;5.5;0.037;34;161;0.9935;3.05;0.62;11.5;4\\n7.3;0.3;0.34;2.7;0.044;34;108;0.99105;3.36;0.53;12.8;8\\n6.9;0.25;0.34;1.3;0.035;27;82;0.99045;3.18;0.44;12.2;6\\n7.3;0.205;0.31;1.7;0.06;34;110;0.9963;3.72;0.69;10.5;6\\n7.5;0.42;0.34;4.3;0.04;34;108;0.99155;3.14;0.45;12.8;8\\n7.3;0.25;0.36;2.1;0.034;30;177;0.99085;3.25;0.4;11.9;8\\n7.3;0.25;0.36;2.1;0.034;30;177;0.99085;3.25;0.4;11.9;8\\n7.3;0.25;0.36;2.1;0.034;30;177;0.99085;3.25;0.4;11.9;8\\n7.5;0.34;0.35;6;0.034;12;126;0.9924;3.16;0.39;12;7\\n7.6;0.33;0.35;6.3;0.036;12;126;0.9924;3.16;0.39;12;7\\n8.7;0.23;0.32;13.4;0.044;35;169;0.99975;3.12;0.47;8.8;7\\n8.7;0.23;0.32;13.4;0.044;35;169;0.99975;3.12;0.47;8.8;7\\n6.9;0.19;0.35;1.7;0.036;33;101;0.99315;3.21;0.54;10.8;7\\n7.3;0.21;0.29;1.6;0.034;29;118;0.9917;3.3;0.5;11;8\\n7.3;0.21;0.29;1.6;0.034;29;118;0.9917;3.3;0.5;11;8\\n6.6;0.22;0.37;15.4;0.035;62;153;0.99845;3.02;0.4;9.3;5\\n9.2;0.34;0.27;1.2;0.026;17;73;0.9921;3.08;0.39;10.8;5\\n8.7;0.23;0.32;13.4;0.044;35;169;0.99975;3.12;0.47;8.8;7\\n6;0.2;0.24;1.8;0.03;30;105;0.9909;3.31;0.47;11.5;6\\n6.9;0.19;0.35;1.7;0.036;33;101;0.99315;3.21;0.54;10.8;7\\n8.2;0.38;0.49;13.6;0.042;58;166;0.99855;3.1;0.54;9.4;5\\n6.9;0.18;0.36;1.3;0.036;40;117;0.9934;3.27;0.95;9.5;7\\n7.7;0.34;0.58;11.1;0.039;41;151;0.9978;3.06;0.49;8.6;5\\n6.9;0.18;0.36;1.3;0.036;40;117;0.9934;3.27;0.95;9.5;7\\n7.4;0.2;0.35;2.1;0.038;30;116;0.9949;3.49;0.77;10.3;7\\n8.2;0.38;0.49;13.6;0.042;58;166;0.99855;3.1;0.54;9.4;5\\n8.2;0.4;0.48;13.7;0.042;59;169;0.9986;3.1;0.52;9.4;5\\n6.7;0.22;0.39;10.2;0.038;60;149;0.99725;3.17;0.54;10;7\\n6.6;0.3;0.3;4.8;0.17;60;166;0.9946;3.18;0.47;9.4;5\\n8.1;0.27;0.35;1.7;0.03;38;103;0.99255;3.22;0.63;10.4;8\\n7.3;0.25;0.42;14.2;0.041;57;182;0.9996;3.29;0.75;9.1;7\\n4.8;0.34;0;6.5;0.028;33;163;0.9939;3.36;0.61;9.9;6\\n6.2;0.28;0.33;1.7;0.029;24;111;0.99;3.24;0.5;12.1;6\\n4.8;0.33;0;6.5;0.028;34;163;0.9937;3.35;0.61;9.9;5\\n6.1;0.27;0.33;2.2;0.021;26;117;0.9886;3.12;0.3;12.5;6\\n6.9;0.18;0.36;1.3;0.036;40;117;0.9934;3.27;0.95;9.5;7\\n7.8;0.18;0.46;12.6;0.042;41;143;1;3.24;0.76;8.5;8\\n7.3;0.28;0.42;14.4;0.04;49;173;0.9994;3.28;0.82;9;7\\n7.3;0.24;0.29;1.2;0.037;37;97;0.9926;3.19;0.7;10.1;6\\n6;0.45;0.65;9.7;0.08;11;159;0.9956;3.04;0.48;9.4;5\\n7.7;0.34;0.58;11.1;0.039;41;151;0.9978;3.06;0.49;8.6;5\\n6.3;0.26;0.21;4;0.03;24;125;0.9915;3.06;0.34;10.7;6\\n10.3;0.17;0.47;1.4;0.037;5;33;0.9939;2.89;0.28;9.6;3\\n7.7;0.15;0.29;1.3;0.029;10;64;0.9932;3.35;0.39;10.1;5\\n7.1;0.21;0.32;2.2;0.037;28;141;0.993;3.2;0.57;10;7\\n6.9;0.36;0.34;4.2;0.018;57;119;0.9898;3.28;0.36;12.7;9\\n6;0.28;0.34;1.6;0.119;33;104;0.9921;3.19;0.38;10.2;6\\n6.2;0.16;0.54;1.4;0.126;37;110;0.9932;3.23;0.37;8.9;6\\n6.9;0.12;0.36;2.2;0.037;18;111;0.9919;3.41;0.82;11.9;8\\n7.1;0.21;0.32;2.2;0.037;28;141;0.993;3.2;0.57;10;7\\n8.8;0.36;0.44;1.9;0.04;9;121;0.9953;3.19;0.48;9.9;6\\n7.4;0.26;0.43;6;0.022;22;125;0.9928;3.13;0.55;11.5;6\\n7.4;0.26;0.43;6;0.022;22;125;0.9928;3.13;0.55;11.5;6\\n6.8;0.23;0.29;12.2;0.035;38;236;0.9976;3.35;0.52;9.8;6\\n6.1;0.34;0.27;2.6;0.024;20;105;0.9906;3.4;0.67;12.2;7\\n7.3;0.26;0.31;1.6;0.04;39;173;0.9918;3.19;0.51;11.4;6\\n6.5;0.3;0.32;2;0.044;34;90;0.99185;3.37;0.68;11;7\\n7.3;0.26;0.31;1.6;0.04;39;173;0.9918;3.19;0.51;11.4;6\\n6.5;0.3;0.32;2;0.044;34;90;0.99185;3.37;0.68;11;7\\n5;0.31;0;6.4;0.046;43;166;0.994;3.3;0.63;9.9;6\\n5.8;0.26;0.18;1.2;0.031;40;114;0.9908;3.42;0.4;11;7\\n5.9;0.26;0.3;1;0.036;38;114;0.9928;3.58;0.48;9.4;5\\n7;0.31;0.29;1.4;0.037;33;128;0.9896;3.12;0.36;12.2;7\\n5.8;0.26;0.18;1.2;0.031;40;114;0.9908;3.42;0.4;11;7\\n5.6;0.19;0.39;1.1;0.043;17;67;0.9918;3.23;0.53;10.3;6\\n6.8;0.18;0.28;8.7;0.047;52;242;0.9952;3.22;0.53;10.5;6\\n7;0.29;0.26;1.6;0.044;12;87;0.9923;3.08;0.46;10.5;6\\n6.6;0.26;0.29;1.4;0.039;13;67;0.9915;3.05;0.49;10.9;6\\n6.8;0.18;0.28;8.5;0.047;52;242;0.9952;3.22;0.53;10.5;6\\n6.6;0.2;0.38;7.9;0.052;30;145;0.9947;3.32;0.56;11;7\\n8;0.29;0.29;13.2;0.046;26;113;0.9983;3.25;0.37;9.7;6\\n6.1;0.28;0.35;12.8;0.048;63;229;0.9975;3.08;0.4;8.9;5\\n5.9;0.31;0.3;7.7;0.047;60;206;0.995;3.2;0.39;9.6;6\\n6.9;0.21;0.28;2.4;0.056;49;159;0.9944;3.02;0.47;8.8;8\\n8.4;0.19;0.42;1.6;0.047;9;101;0.994;3.06;0.65;11.1;4\\n8.3;0.27;0.45;1.3;0.048;8;72;0.9944;3.08;0.61;10.3;4\\n7.1;0.25;0.39;2.1;0.036;30;124;0.9908;3.28;0.43;12.2;8\\n8;0.23;0.37;9.6;0.054;23;159;0.99795;3.32;0.47;9.8;4\\n7.5;0.24;0.31;13;0.049;46;217;0.9985;3.08;0.53;8.8;5\\n6.3;0.33;0.2;5.8;0.04;24;144;0.99425;3.15;0.63;9.9;5\\n6.2;0.33;0.19;5.6;0.042;22;143;0.99425;3.15;0.63;9.9;5\\n6.3;0.34;0.19;5.8;0.041;22;145;0.9943;3.15;0.63;9.9;5\\n5.8;0.29;0.05;0.8;0.038;11;30;0.9924;3.36;0.35;9.2;5\\n8;0.32;0.26;1.2;0.05;11.5;88;0.9946;3.24;0.37;9.5;4\\n5.6;0.29;0.05;0.8;0.038;11;30;0.9924;3.36;0.35;9.2;5\\n7.4;0.13;0.39;4.7;0.042;36;137;0.995;3.36;0.56;10.3;7\\n7.7;0.3;0.32;1.6;0.037;23;124;0.9919;2.93;0.33;11;6\\n7;0.24;0.34;1.4;0.031;27;107;0.99;3.06;0.39;11.9;6\\n8.6;0.18;0.4;1.1;0.04;20;107;0.9923;2.94;0.32;10.2;7\\n7;0.11;0.32;4.6;0.057;59;144;0.9956;3.55;0.44;9.4;7\\n7.7;0.32;0.62;10.6;0.036;56;153;0.9978;3.13;0.44;8.9;6\\n7.7;0.32;0.62;10.6;0.036;56;153;0.9978;3.13;0.44;8.9;6\\n6.5;0.26;0.27;12.9;0.044;69;215;0.9967;3.17;0.43;10;6\\n7.9;0.28;0.41;2;0.044;50;152;0.9934;3.45;0.49;10.7;8\\n6.3;0.27;0.23;2.9;0.047;13;100;0.9936;3.28;0.43;9.8;5\\n5.4;0.595;0.1;2.8;0.042;26;80;0.9932;3.36;0.38;9.3;5\\n6.7;0.25;0.33;2.9;0.057;52;173;0.9934;3.02;0.48;9.5;7\\n6.5;0.25;0.35;12;0.055;47;179;0.998;3.58;0.47;10;5\\n6.1;0.36;0.58;15;0.044;42;115;0.9978;3.15;0.51;9;5\\n7.7;0.17;0.52;5.9;0.017;21;84;0.9929;3.14;0.4;11.9;7\\n6.4;0.26;0.43;12.6;0.033;64;230;0.9974;3.08;0.38;8.9;5\\n6.5;0.26;0.28;12.5;0.046;80;225;0.99685;3.18;0.41;10;6\\n5.9;0.29;0.33;7.4;0.037;58;205;0.99495;3.26;0.41;9.6;5\\n6.2;0.28;0.43;13;0.039;64;233;0.99745;3.08;0.38;8.9;5\\n6.1;0.27;0.44;6.7;0.041;61;230;0.99505;3.12;0.4;8.9;5\\n6.4;0.43;0.32;1.4;0.048;10;67;0.992;3.08;0.41;11.4;5\\n6.1;0.36;0.58;15;0.044;42;115;0.9978;3.15;0.51;9;5\\n6.2;0.35;0.29;7.3;0.044;56;244;0.9956;3.36;0.55;10;6\\n7.7;0.24;0.29;15.3;0.044;39;194;0.9982;3.06;0.47;9.6;7\\n6.2;0.34;0.28;7.5;0.034;40;197;0.99485;3.14;0.6;9.7;5\\n6.3;0.27;0.46;11.75;0.037;61;212;0.9971;3.25;0.53;9.5;6\\n5.4;0.415;0.19;1.6;0.039;27;88;0.99265;3.54;0.41;10;7\\n6.9;0.48;0.36;3.5;0.03;31;135;0.9904;3.14;0.38;12.2;7\\n6.5;0.18;0.33;8;0.051;16;131;0.9965;3.28;0.44;8.7;7\\n6.7;0.15;0.29;5;0.058;28;105;0.9946;3.52;0.44;10.2;7\\n8.2;0.345;1;18.2;0.047;55;205;0.99965;2.96;0.43;9.6;5\\n8.5;0.16;0.35;1.6;0.039;24;147;0.9935;2.96;0.36;10;5\\n6.8;0.705;0.25;3.2;0.048;10;57;0.996;3.36;0.52;9.5;4\\n7.3;0.25;0.39;6.4;0.034;8;84;0.9942;3.18;0.46;11.5;5\\n7.6;0.345;0.26;1.9;0.043;15;134;0.9936;3.08;0.38;9.5;5\\n7.6;0.22;0.34;9.7;0.035;26;143;0.9965;3.08;0.49;9.8;6\\n6.5;0.17;0.33;1.4;0.028;14;99;0.9928;3.23;0.55;10.1;6\\n8.2;0.23;0.37;1.3;0.042;39;117;0.9928;2.99;0.36;10;5\\n7.6;0.22;0.34;9.7;0.035;26;143;0.9965;3.08;0.49;9.8;6\\n7.6;0.345;0.26;1.9;0.043;15;134;0.9936;3.08;0.38;9.5;5\\n7.5;0.32;0.26;1.8;0.042;13;133;0.9938;3.07;0.38;9.5;5\\n6.6;0.23;0.32;0.9;0.041;25;79;0.9926;3.39;0.54;10.2;7\\n6.6;0.2;0.32;1.1;0.039;25;78;0.9926;3.39;0.54;10.2;7\\n7.3;0.24;0.34;15.4;0.05;38;174;0.9983;3.03;0.42;9;6\\n7.3;0.24;0.34;15.4;0.05;38;174;0.9983;3.03;0.42;9;6\\n8;0.42;0.36;5;0.037;34;101;0.992;3.13;0.57;12.3;7\\n7.3;0.24;0.34;15.4;0.05;38;174;0.9983;3.03;0.42;9;6\\n6.1;0.19;0.25;4;0.023;23;112;0.9923;3.37;0.51;11.6;6\\n5.9;0.26;0.21;12.5;0.034;36;152;0.9972;3.28;0.43;9.5;6\\n8.3;0.23;0.43;3.2;0.035;14;101;0.9928;3.15;0.36;11.5;5\\n6.5;0.34;0.28;1.8;0.041;43;188;0.9928;3.13;0.37;9.6;6\\n6.8;0.22;0.35;17.5;0.039;38;153;0.9994;3.24;0.42;9;6\\n6.5;0.08;0.33;1.9;0.028;23;93;0.991;3.34;0.7;12;7\\n5.5;0.42;0.09;1.6;0.019;18;68;0.9906;3.33;0.51;11.4;7\\n5.1;0.42;0.01;1.5;0.017;25;102;0.9894;3.38;0.36;12.3;7\\n6;0.27;0.19;1.7;0.02;24;110;0.9898;3.32;0.47;12.6;7\\n6.8;0.22;0.35;17.5;0.039;38;153;0.9994;3.24;0.42;9;6\\n6.5;0.08;0.33;1.9;0.028;23;93;0.991;3.34;0.7;12;7\\n7.1;0.13;0.38;1.8;0.046;14;114;0.9925;3.32;0.9;11.7;6\\n7.6;0.3;0.25;4.3;0.054;22;111;0.9956;3.12;0.49;9.2;5\\n6.6;0.13;0.3;4.9;0.058;47;131;0.9946;3.51;0.45;10.3;6\\n6.5;0.14;0.33;7.6;0.05;53;189;0.9966;3.25;0.49;8.6;5\\n7.7;0.28;0.33;6.7;0.037;32;155;0.9951;3.39;0.62;10.7;7\\n6;0.2;0.71;1.6;0.15;10;54;0.9927;3.12;0.47;9.8;5\\n6;0.19;0.71;1.5;0.152;9;55;0.9927;3.12;0.46;9.8;6\\n7.7;0.28;0.33;6.7;0.037;32;155;0.9951;3.39;0.62;10.7;7\\n5.1;0.39;0.21;1.7;0.027;15;72;0.9894;3.5;0.45;12.5;6\\n5.7;0.36;0.34;4.2;0.026;21;77;0.9907;3.41;0.45;11.9;6\\n6.9;0.19;0.33;1.6;0.043;63;149;0.9925;3.44;0.52;10.8;5\\n6;0.41;0.21;1.9;0.05;29;122;0.9928;3.42;0.52;10.5;6\\n7.4;0.28;0.3;5.3;0.054;44;161;0.9941;3.12;0.48;10.3;6\\n7.4;0.3;0.3;5.2;0.053;45;163;0.9941;3.12;0.45;10.3;6\\n6.9;0.19;0.33;1.6;0.043;63;149;0.9925;3.44;0.52;10.8;5\\n7.7;0.28;0.39;8.9;0.036;8;117;0.9935;3.06;0.38;12;7\\n8.6;0.16;0.38;3.4;0.04;41;143;0.9932;2.95;0.39;10.2;6\\n8.2;0.26;0.44;1.3;0.046;7;69;0.9944;3.14;0.62;10.2;4\\n6.5;0.25;0.27;15.2;0.049;75;217;0.9972;3.19;0.39;9.9;5\\n7;0.24;0.18;1.3;0.046;9;62;0.994;3.38;0.47;10.1;4\\n8.6;0.18;0.36;1.8;0.04;24;187;0.9956;3.25;0.55;9.5;6\\n7.8;0.27;0.34;1.6;0.046;27;154;0.9927;3.05;0.45;10.5;6\\n6;0.26;0.34;1.3;0.046;6;29;0.9924;3.29;0.63;10.4;5\\n6.1;0.24;0.27;9.8;0.062;33;152;0.9966;3.31;0.47;9.5;6\\n8;0.24;0.3;17.45;0.056;43;184;0.9997;3.05;0.5;9.2;6\\n7.6;0.21;0.6;2.1;0.046;47;165;0.9936;3.05;0.54;10.1;7\\n8;0.19;0.36;1.8;0.05;16;84;0.9936;3.15;0.45;9.8;7\\n6.4;0.28;0.41;6.8;0.045;61;216;0.9952;3.09;0.46;9.4;5\\n6.4;0.28;0.43;7.1;0.045;60;221;0.9952;3.09;0.45;9.4;6\\n6.9;0.24;0.39;1.3;0.063;18;136;0.9928;3.31;0.48;10.4;7\\n5.8;0.36;0.26;3.3;0.038;40;153;0.9911;3.34;0.55;11.3;6\\n6.6;0.18;0.28;3.3;0.044;18;91;0.993;3.42;0.64;10.8;6\\n5.8;0.36;0.26;3.3;0.038;40;153;0.9911;3.34;0.55;11.3;6\\n5.1;0.52;0.06;2.7;0.052;30;79;0.9932;3.32;0.43;9.3;5\\n6.6;0.22;0.37;1.2;0.059;45;199;0.993;3.37;0.55;10.3;7\\n8.3;0.15;0.39;1.3;0.055;32;146;0.993;3.08;0.39;10.5;6\\n7.6;0.16;0.44;1.4;0.043;25;109;0.9932;3.11;0.75;10.3;6\\n7.7;0.16;0.41;1.7;0.048;60;173;0.9932;3.24;0.66;11.2;7\\n8.3;0.16;0.48;1.7;0.057;31;98;0.9943;3.15;0.41;10.3;6\\n6.2;0.25;0.47;11.6;0.048;62;210;0.9968;3.19;0.5;9.5;5\\n6.1;0.16;0.27;12.6;0.064;63;162;0.9994;3.66;0.43;8.9;5\\n7.6;0.39;0.22;2.8;0.036;19;113;0.9926;3.03;0.29;10.2;5\\n6.8;0.37;0.47;11.2;0.071;44;136;0.9968;2.98;0.88;9.2;5\\n7.6;0.16;0.44;1.4;0.043;25;109;0.9932;3.11;0.75;10.3;6\\n7.1;0.18;0.42;1.4;0.045;47;157;0.9916;2.95;0.31;10.5;6\\n8.3;0.14;0.26;1.5;0.049;56;189;0.9946;3.21;0.62;9.5;6\\n8.6;0.2;0.42;1.5;0.041;35;125;0.9925;3.11;0.49;11.4;7\\n8.6;0.2;0.42;1.5;0.041;35;125;0.9925;3.11;0.49;11.4;7\\n6.8;0.19;0.32;7.05;0.019;54;188;0.9935;3.25;0.37;11.1;8\\n7.6;0.19;0.38;10.6;0.06;48;174;0.9962;3.13;0.38;10.5;6\\n6.8;0.34;0.74;2.8;0.088;23;185;0.9928;3.51;0.7;12;6\\n6.2;0.15;0.46;1.6;0.039;38;123;0.993;3.38;0.51;9.7;6\\n6.6;0.14;0.44;1.6;0.042;47;140;0.993;3.32;0.51;10.2;6\\n8;0.55;0.17;8.2;0.04;13;60;0.9956;3.09;0.3;9.5;4\\n7;0.24;0.35;1.5;0.052;51;128;0.9941;3.41;0.59;10.4;7\\n6.3;0.6;0.44;11;0.05;50;245;0.9972;3.19;0.57;9.3;4\\n7.1;0.2;0.41;2.1;0.054;24;166;0.9948;3.48;0.62;10.5;6\\n6.2;0.34;0.29;7.6;0.047;45;232;0.9955;3.35;0.62;10;6\\n7.1;0.3;0.36;6.8;0.055;44.5;234;0.9972;3.49;0.64;10.2;6\\n7.1;0.3;0.36;6.8;0.055;44.5;234;0.9972;3.49;0.64;10.2;6\\n7.9;0.64;0.46;10.6;0.244;33;227;0.9983;2.87;0.74;9.1;3\\n8.8;0.17;0.38;1.8;0.04;39;148;0.9942;3.16;0.67;10.2;6\\n7.5;0.17;0.37;1.5;0.06;18;75;0.9936;3.54;0.88;10.7;5\\n7.1;0.47;0.24;6;0.044;11;77;0.9956;3.21;0.56;9.7;5\\n7.1;0.15;0.34;5.3;0.034;33;104;0.9953;3.37;0.52;9.3;7\\n7.5;0.17;0.34;1.4;0.035;13;102;0.9918;3.05;0.74;11;5\\n8.2;0.68;0.3;2.1;0.047;17;138;0.995;3.22;0.71;10.8;4\\n7.7;0.275;0.3;1;0.039;19;75;0.992;3.01;0.56;10.7;5\\n7.3;0.49;0.32;5.2;0.043;18;104;0.9952;3.24;0.45;10.7;4\\n7.5;0.33;0.48;19.45;0.048;55;243;1.001;2.95;0.4;8.8;5\\n7.2;0.21;0.37;1.6;0.049;23;94;0.9924;3.16;0.48;10.9;7\\n7.3;0.15;0.4;2;0.05;24;92;0.9932;3.14;0.45;10.5;5\\n6.5;0.19;0.1;1.3;0.046;23;107;0.9937;3.29;0.45;10;5\\n7;0.31;0.52;1.7;0.029;5;61;0.9918;3.07;0.43;10.4;5\\n8.3;0.4;0.38;1.1;0.038;15;75;0.9934;3.03;0.43;9.2;5\\n6.1;0.37;0.36;4.7;0.035;36;116;0.991;3.31;0.62;12.6;6\\n7.3;0.24;0.34;7.5;0.048;29;152;0.9962;3.1;0.54;9;5\\n6.9;0.21;0.81;1.1;0.137;52;123;0.9932;3.03;0.39;9.2;6\\n7.6;0.29;0.42;1.3;0.035;18;86;0.9908;2.99;0.39;11.3;5\\n9.4;0.29;0.55;2.2;0.05;17;119;0.9962;3.12;0.69;10.3;4\\n7;0.31;0.52;1.7;0.029;5;61;0.9918;3.07;0.43;10.4;5\\n8.6;0.26;0.41;2.2;0.049;29;111;0.9941;2.96;0.44;10;5\\n7.5;0.21;0.34;1.2;0.06;26;111;0.9931;3.51;0.47;10.7;6\\n7.2;0.51;0.24;10;0.093;35;197;0.9981;3.41;0.47;9;5\\n7.5;0.21;0.34;1.2;0.06;26;111;0.9931;3.51;0.47;10.7;6\\n5.3;0.3;0.2;1.1;0.077;48;166;0.9944;3.3;0.54;8.7;4\\n8;0.26;0.36;2;0.054;30;121;0.992;3.09;0.72;11.6;7\\n7;0.21;0.28;7.5;0.07;45;185;0.9966;3.34;0.55;9.4;5\\n6.7;0.26;0.26;4;0.079;35.5;216;0.9956;3.31;0.68;9.5;5\\n6.7;0.26;0.26;4.1;0.073;36;202;0.9956;3.3;0.67;9.5;5\\n8.1;0.26;0.37;1.9;0.072;48;159;0.9949;3.37;0.7;10.9;6\\n8.3;0.22;0.38;14.8;0.054;32;126;1.0002;3.22;0.5;9.7;5\\n6.4;0.3;0.51;5.5;0.048;62;172;0.9942;3.08;0.45;9.1;6\\n7.5;0.19;0.34;2.6;0.037;33;125;0.9923;3.1;0.49;11.1;7\\n8.8;0.33;0.44;6.35;0.024;9;87;0.9917;2.96;0.4;12.6;7\\n6.9;0.2;0.36;1.5;0.031;38;147;0.9931;3.35;0.56;11;6\\n8;0.37;0.32;1.6;0.04;32;166;0.992;3;0.55;11.3;7\\n8.3;0.22;0.38;14.8;0.054;32;126;1.0002;3.22;0.5;9.7;5\\n8.2;0.29;0.33;9.1;0.036;28;118;0.9953;2.96;0.4;10.9;7\\n7.7;0.34;0.3;8;0.048;25;192;0.9951;2.97;0.47;10.9;5\\n6.2;0.55;0.45;12;0.049;27;186;0.9974;3.17;0.5;9.3;6\\n6.4;0.4;0.19;3.2;0.033;28;124;0.9904;3.22;0.54;12.7;7\\n7.5;0.28;0.33;7.7;0.048;42;180;0.9974;3.37;0.59;10.1;6\\n7.8;0.26;0.44;1.3;0.037;43;132;0.9944;3.18;0.65;10;5\\n6.5;0.26;0.34;16.3;0.051;56;197;1.0004;3.49;0.42;9.8;5\\n6.3;0.34;0.29;6.2;0.046;29;227;0.9952;3.29;0.53;10.1;6\\n6.8;0.15;0.33;4.7;0.059;31;118;0.9956;3.43;0.39;9;7\\n6.3;0.27;0.25;5.8;0.038;52;155;0.995;3.28;0.38;9.4;6\\n6.3;0.27;0.25;5.8;0.038;52;155;0.995;3.28;0.38;9.4;6\\n7.4;0.2;0.37;16.95;0.048;43;190;0.9995;3.03;0.42;9.2;6\\n6.3;0.23;0.21;5.1;0.035;29;142;0.9942;3.36;0.33;10.1;7\\n7.3;0.31;0.69;10.2;0.041;58;160;0.9977;3.06;0.45;8.6;5\\n5.2;0.24;0.45;3.8;0.027;21;128;0.992;3.55;0.49;11.2;8\\n7;0.24;0.32;1.3;0.037;39;123;0.992;3.17;0.42;11.2;8\\n7.4;0.2;0.37;16.95;0.048;43;190;0.9995;3.03;0.42;9.2;6\\n7;0.17;0.33;4;0.034;17;127;0.9934;3.19;0.39;10.6;7\\n8.3;0.21;0.58;17.1;0.049;62;213;1.0006;3.01;0.51;9.3;6\\n7.2;0.21;0.35;14.5;0.048;35;178;0.9982;3.05;0.47;8.9;6\\n7.1;0.21;0.4;1.2;0.069;24;156;0.9928;3.42;0.43;10.6;6\\n8.4;0.17;0.31;6.7;0.038;29;132;0.9945;3.1;0.32;10.6;7\\n7.4;0.24;0.31;8.4;0.045;52;183;0.9963;3.09;0.32;8.8;5\\n5.3;0.24;0.33;1.3;0.033;25;97;0.9906;3.59;0.38;11;8\\n6.5;0.28;0.26;8.8;0.04;44;139;0.9956;3.32;0.37;10.2;6\\n6.3;0.23;0.21;5.1;0.035;29;142;0.9942;3.36;0.33;10.1;7\\n6.5;0.29;0.25;10.6;0.039;32;120;0.9962;3.31;0.34;10.1;6\\n5.8;0.29;0.21;2.6;0.025;12;120;0.9894;3.39;0.79;14;7\\n6.3;0.27;0.25;5.8;0.038;52;155;0.995;3.28;0.38;9.4;6\\n6.3;0.17;0.42;2.8;0.028;45;107;0.9908;3.27;0.43;11.8;6\\n6.3;0.16;0.4;1.6;0.033;59;148;0.9914;3.44;0.53;11.4;5\\n7.9;0.29;0.39;6.7;0.036;6;117;0.9938;3.12;0.42;10.7;5\\n7.3;0.31;0.69;10.2;0.041;58;160;0.9977;3.06;0.45;8.6;5\\n5.5;0.32;0.45;4.9;0.028;25;191;0.9922;3.51;0.49;11.5;7\\n5.2;0.24;0.45;3.8;0.027;21;128;0.992;3.55;0.49;11.2;8\\n7.2;0.37;0.15;2;0.029;27;87;0.9903;3.3;0.59;12.6;7\\n6.1;0.29;0.27;1.7;0.024;13;76;0.9893;3.21;0.51;12.6;7\\n9.2;0.22;0.4;2.4;0.054;18;151;0.9952;3.04;0.46;9.3;4\\n7.2;0.37;0.15;2;0.029;27;87;0.9903;3.3;0.59;12.6;7\\n8;0.18;0.37;1.3;0.04;15;96;0.9912;3.06;0.61;12.1;6\\n6.5;0.22;0.34;12;0.053;55;177;0.9983;3.52;0.44;9.9;6\\n7.4;0.18;0.4;1.6;0.047;22;102;0.9937;3.28;0.44;10.7;5\\n6.5;0.52;0.17;1.4;0.047;5;26;0.9932;3.26;0.32;10;4\\n7;0.15;0.38;2.2;0.047;33;96;0.9928;3.13;0.39;10.4;8\\n5.9;0.415;0.13;1.4;0.04;11;64;0.9922;3.29;0.52;10.5;5\\n8.1;0.45;0.34;8.3;0.037;33;216;0.9976;3.31;0.64;9.7;5\\n5.8;0.415;0.13;1.4;0.04;11;64;0.9922;3.29;0.52;10.5;5\\n6.4;0.5;0.16;12.9;0.042;26;138;0.9974;3.28;0.33;9;5\\n6.7;0.105;0.32;12.4;0.051;34;106;0.998;3.54;0.45;9.2;6\\n6;0.4;0.3;1.6;0.047;30;117;0.9931;3.17;0.48;10.1;6\\n6.6;0.25;0.39;1.45;0.04;40;89;0.9911;3.35;0.4;11.4;7\\n9.8;0.36;0.45;1.6;0.042;11;124;0.9944;2.93;0.46;10.8;5\\n9.6;0.23;0.4;1.5;0.044;19;135;0.9937;2.96;0.49;10.9;5\\n6.3;0.55;0.45;13;0.047;33;182;0.9974;3.2;0.46;9.2;6\\n6.5;0.115;0.29;1.95;0.038;73;166;0.989;3.12;0.25;12.9;7\\n6.4;0.125;0.29;5.85;0.042;24;99;0.992;3.23;0.32;12;7\\n5.7;0.1;0.27;1.3;0.047;21;100;0.9928;3.27;0.46;9.5;5\\n7.9;0.25;0.29;5.3;0.031;33;117;0.9918;3.06;0.32;11.8;7\\n6.9;0.2;0.28;1.2;0.048;36;159;0.9936;3.19;0.43;9.1;6\\n6.9;0.23;0.34;4;0.047;24;128;0.9944;3.2;0.52;9.7;6\\n6.8;0.39;0.31;14.35;0.043;28;162;0.9988;3.17;0.54;9.1;5\\n8.7;0.22;0.42;2.3;0.053;27;114;0.994;2.99;0.43;10;5\\n7.4;0.41;0.34;4.7;0.042;19;127;0.9953;3.25;0.42;10.4;5\\n6.7;0.25;0.34;12.85;0.048;30;161;0.9986;3.44;0.47;9.5;6\\n6;0.26;0.42;5.2;0.027;70;178;0.9914;3.4;0.4;12.3;8\\n6.1;0.31;0.37;8.4;0.031;70;170;0.9934;3.42;0.4;11.7;8\\n9.2;0.28;0.46;3.2;0.058;39;133;0.996;3.14;0.58;9.5;5\\n9;0.31;0.49;6.9;0.034;26;91;0.9937;2.99;0.34;11.5;5\\n8.5;0.16;0.33;1;0.076;17;57;0.9921;3.14;0.46;10.6;6\\n9.3;0.34;0.49;7.3;0.052;30;146;0.998;3.17;0.61;10.2;5\\n9.2;0.28;0.46;3.2;0.058;39;133;0.996;3.14;0.58;9.5;5\\n7.2;0.24;0.3;1.6;0.048;27;131;0.9933;3.25;0.45;10.5;5\\n7.2;0.25;0.32;1.5;0.047;27;132;0.9933;3.26;0.44;10.5;5\\n6.8;0.32;0.18;7.5;0.041;71;223;0.9959;3.14;0.41;8.9;5\\n9.1;0.27;0.32;1.1;0.031;15;151;0.9936;3.03;0.41;10.6;5\\n8.9;0.34;0.32;1.3;0.041;12;188;0.9953;3.17;0.49;9.5;5\\n7;0.17;0.37;5.7;0.025;29;111;0.9938;3.2;0.49;10.8;6\\n6.7;0.25;0.23;7.2;0.038;61;220;0.9952;3.14;0.35;9.5;5\\n6.9;0.32;0.17;7.6;0.042;69;219;0.9959;3.13;0.4;8.9;5\\n6.8;0.32;0.18;7.5;0.041;71;223;0.9959;3.14;0.41;8.9;5\\n6.1;0.6;0;1.3;0.042;24;79;0.9937;3.31;0.38;9.4;4\\n5.3;0.395;0.07;1.3;0.035;26;102;0.992;3.5;0.35;10.6;6\\n7.9;0.16;0.3;4.8;0.037;37;171;0.9967;3.47;0.44;9;4\\n7.6;0.33;0.36;2.1;0.034;26;172;0.9944;3.42;0.48;10.5;4\\n7.8;0.3;0.29;16.85;0.054;23;135;0.9998;3.16;0.38;9;6\\n7.8;0.3;0.29;16.85;0.054;23;135;0.9998;3.16;0.38;9;6\\n5.7;0.26;0.27;4.1;0.201;73.5;189.5;0.9942;3.27;0.38;9.4;6\\n7.8;0.3;0.29;16.85;0.054;23;135;0.9998;3.16;0.38;9;6\\n7.5;0.14;0.34;1.3;0.055;50;153;0.9945;3.29;0.8;9.6;6\\n7.8;0.3;0.29;16.85;0.054;23;135;0.9998;3.16;0.38;9;6\\n6.6;0.25;0.41;7.4;0.043;29;151;0.9946;3.15;0.6;10.2;7\\n5.7;0.26;0.27;4.1;0.201;73.5;189.5;0.9942;3.27;0.38;9.4;6\\n8.2;0.23;0.49;0.9;0.057;15;73;0.9928;3.07;0.38;10.4;6\\n6;0.24;0.32;6.3;0.03;34;129;0.9946;3.52;0.41;10.4;5\\n6.1;0.45;0.27;0.8;0.039;13;82;0.9927;3.23;0.32;9.5;5\\n7.4;0.23;0.43;1.4;0.044;22;113;0.9938;3.22;0.62;10.6;6\\n7.2;0.2;0.38;1;0.037;21;74;0.9918;3.21;0.37;11;5\\n7.5;0.14;0.34;1.3;0.055;50;153;0.9945;3.29;0.8;9.6;6\\n7.7;0.25;0.43;4.5;0.062;20;115;0.9966;3.38;0.5;9.9;6\\n8.2;0.61;0.45;5.4;0.03;15;118;0.9954;3.14;0.34;9.6;5\\n7.6;0.21;0.44;1.9;0.036;10;119;0.9913;3.01;0.7;12.8;6\\n7.4;0.22;0.33;2;0.045;31;101;0.9931;3.42;0.55;11.4;5\\n7.2;0.26;0.26;12.7;0.036;49;214;0.9986;3.41;0.5;10;6\\n6.4;0.25;0.41;8.6;0.042;57;173;0.9965;3;0.44;9.1;5\\n6.3;0.32;0.35;11.1;0.039;29;198;0.9984;3.36;0.5;9.4;7\\n6.8;0.25;0.29;2;0.042;19;189;0.9952;3.46;0.54;10.2;6\\n9.8;0.44;0.4;2.8;0.036;35;167;0.9956;2.97;0.39;9.2;5\\n7.2;0.2;0.25;4.5;0.044;31;109;0.9949;3.23;0.36;9.4;5\\n8.2;0.61;0.45;5.4;0.03;15;118;0.9954;3.14;0.34;9.6;5\\n7.5;0.42;0.45;9.1;0.029;20;125;0.996;3.12;0.36;10.1;6\\n7.4;0.22;0.33;2;0.045;31;101;0.9931;3.42;0.55;11.4;5\\n6.4;0.26;0.3;2.2;0.025;33;134;0.992;3.21;0.47;10.6;6\\n7.9;0.46;0.32;4.1;0.033;40;138;0.9912;3.18;0.44;12.8;7\\n6.5;0.41;0.64;11.8;0.065;65;225;0.9978;3.12;0.51;8.9;5\\n7.5;0.32;0.37;1.2;0.048;22;184;0.9938;3.09;0.43;9.3;5\\n6.6;0.21;0.38;2.2;0.026;40;104;0.9914;3.25;0.4;11.1;8\\n7.1;0.21;0.3;1.4;0.037;45;143;0.9932;3.13;0.33;9.9;6\\n7.6;0.26;0.47;1.6;0.068;5;55;0.9944;3.1;0.45;9.6;5\\n7.6;0.21;0.44;1.9;0.036;10;119;0.9913;3.01;0.7;12.8;6\\n6.9;0.25;0.26;5.2;0.024;36;135;0.9948;3.16;0.72;10.7;7\\n7.1;0.26;0.32;14.45;0.074;29;107;0.998;2.96;0.42;9.2;6\\n7.3;0.22;0.4;14.75;0.042;44.5;129.5;0.9998;3.36;0.41;9.1;7\\n6.2;0.37;0.22;8.3;0.025;36;216;0.9964;3.33;0.6;9.6;6\\n7.9;0.22;0.45;14.2;0.038;53;141;0.9992;3.03;0.46;9.2;6\\n6.9;0.25;0.26;5.2;0.024;36;135;0.9948;3.16;0.72;10.7;7\\n7.3;0.22;0.4;14.75;0.042;44.5;129.5;0.9998;3.36;0.41;9.1;7\\n7.1;0.26;0.32;14.45;0.074;29;107;0.998;2.96;0.42;9.2;6\\n7.4;0.25;0.37;6.9;0.02;14;93;0.9939;3;0.48;10.7;7\\n6.8;0.18;0.37;1.5;0.027;37;93;0.992;3.3;0.45;10.8;6\\n7;0.17;0.37;1.5;0.028;26;75;0.9922;3.3;0.46;10.8;7\\n6.4;0.3;0.38;7.8;0.046;35;192;0.9955;3.1;0.37;9;5\\n5;0.33;0.16;1.5;0.049;10;97;0.9917;3.48;0.44;10.7;6\\n5;0.33;0.16;1.5;0.049;10;97;0.9917;3.48;0.44;10.7;6\\n8.9;0.33;0.32;1.5;0.047;11;200;0.9954;3.19;0.46;9.4;5\\n7;0.26;0.46;15.55;0.037;61;171;0.9986;2.94;0.35;8.8;6\\n6.4;0.3;0.38;7.8;0.046;35;192;0.9955;3.1;0.37;9;5\\n6.3;0.21;0.4;1.7;0.031;48;134;0.9917;3.42;0.49;11.5;6\\n8;0.23;0.46;1.5;0.03;30;125;0.9907;3.23;0.47;12.5;6\\n9.2;0.28;0.41;1;0.042;14;59;0.9922;2.96;0.25;10.5;6\\n7.3;0.27;0.39;6.7;0.064;28;188;0.9958;3.29;0.3;9.7;5\\n7.6;0.32;0.36;1.6;0.04;32;155;0.993;3.23;0.52;11.3;6\\n5;0.33;0.16;1.5;0.049;10;97;0.9917;3.48;0.44;10.7;6\\n9.7;0.24;0.45;1.2;0.033;11;59;0.9926;2.74;0.47;10.8;6\\n8;0.28;0.42;7.1;0.045;41;169;0.9959;3.17;0.43;10.6;5\\n8.2;0.37;0.36;1;0.034;17;93;0.9906;3.04;0.32;11.7;8\\n8;0.61;0.38;12.1;0.301;24;220;0.9993;2.94;0.48;9.2;5\\n7.2;0.26;0.44;7.1;0.027;25;126;0.993;3.02;0.34;11.1;8\\n8.2;0.37;0.36;1;0.034;17;93;0.9906;3.04;0.32;11.7;8\\n6.4;0.23;0.33;1.15;0.044;15.5;217.5;0.992;3.33;0.44;11;6\\n5.9;0.4;0.32;6;0.034;50;127;0.992;3.51;0.58;12.5;7\\n7.6;0.28;0.39;1.2;0.038;21;115;0.994;3.16;0.67;10;6\\n8;0.28;0.42;7.1;0.045;41;169;0.9959;3.17;0.43;10.6;5\\n7.2;0.23;0.39;2.3;0.033;29;102;0.9908;3.26;0.54;12.3;7\\n6.8;0.32;0.37;3.4;0.023;19;87;0.9902;3.14;0.53;12.7;6\\n7.2;0.23;0.39'"
     ]
    }
   ],
   "source": [
    "dbutils.fs.head(\"/databricks-datasets/wine-quality/winequality-white.csv\")"
   ]
  },
  {
   "cell_type": "markdown",
   "metadata": {
    "application/vnd.databricks.v1+cell": {
     "cellMetadata": {},
     "inputWidgets": {},
     "nuid": "fdf697ae-fe6f-4ffa-990f-38b0558d2f36",
     "showTitle": false,
     "title": ""
    }
   },
   "source": [
    "## Diretórios e arquivos"
   ]
  },
  {
   "cell_type": "code",
   "execution_count": 0,
   "metadata": {
    "application/vnd.databricks.v1+cell": {
     "cellMetadata": {
      "byteLimit": 2048000,
      "rowLimit": 10000
     },
     "inputWidgets": {},
     "nuid": "c42857cd-c213-481f-a6e9-3a0d48d68a4d",
     "showTitle": false,
     "title": ""
    }
   },
   "outputs": [
    {
     "output_type": "stream",
     "name": "stdout",
     "output_type": "stream",
     "text": [
      "Out[17]: [FileInfo(path='dbfs:/FileStore/tables/data.csv', name='data.csv', size=2781, modificationTime=1711565743000)]"
     ]
    }
   ],
   "source": [
    "dbutils.fs.ls('/FileStore/tables')"
   ]
  },
  {
   "cell_type": "code",
   "execution_count": 0,
   "metadata": {
    "application/vnd.databricks.v1+cell": {
     "cellMetadata": {
      "byteLimit": 2048000,
      "rowLimit": 10000
     },
     "inputWidgets": {},
     "nuid": "444ed0b4-8a8a-4b4a-b83b-9d924b0ce0b7",
     "showTitle": false,
     "title": ""
    }
   },
   "outputs": [
    {
     "output_type": "stream",
     "name": "stdout",
     "output_type": "stream",
     "text": [
      "Out[18]: True"
     ]
    }
   ],
   "source": [
    "dbutils.fs.mkdirs('/FileStore/tables/aula-databricks/vinhos')"
   ]
  },
  {
   "cell_type": "code",
   "execution_count": 0,
   "metadata": {
    "application/vnd.databricks.v1+cell": {
     "cellMetadata": {
      "byteLimit": 2048000,
      "rowLimit": 10000
     },
     "inputWidgets": {},
     "nuid": "a31af7d1-6574-4576-8b03-f760374a6914",
     "showTitle": false,
     "title": ""
    }
   },
   "outputs": [
    {
     "output_type": "display_data",
     "data": {
      "text/html": [
       "<style scoped>\n",
       "  .table-result-container {\n",
       "    max-height: 300px;\n",
       "    overflow: auto;\n",
       "  }\n",
       "  table, th, td {\n",
       "    border: 1px solid black;\n",
       "    border-collapse: collapse;\n",
       "  }\n",
       "  th, td {\n",
       "    padding: 5px;\n",
       "  }\n",
       "  th {\n",
       "    text-align: left;\n",
       "  }\n",
       "</style><div class='table-result-container'><table class='table-result'><thead style='background-color: white'><tr><th>path</th><th>name</th><th>size</th><th>modificationTime</th></tr></thead><tbody><tr><td>dbfs:/FileStore/tables/aula-databricks/vinhos/</td><td>vinhos/</td><td>0</td><td>0</td></tr></tbody></table></div>"
      ]
     },
     "metadata": {
      "application/vnd.databricks.v1+output": {
       "addedWidgets": {},
       "aggData": [],
       "aggError": "",
       "aggOverflow": false,
       "aggSchema": [],
       "aggSeriesLimitReached": false,
       "aggType": "",
       "arguments": {},
       "columnCustomDisplayInfos": {},
       "data": [
        [
         "dbfs:/FileStore/tables/aula-databricks/vinhos/",
         "vinhos/",
         0,
         0
        ]
       ],
       "datasetInfos": [],
       "dbfsResultPath": null,
       "isJsonSchema": true,
       "metadata": {},
       "overflow": false,
       "plotOptions": {
        "customPlotOptions": {},
        "displayType": "table",
        "pivotAggregation": null,
        "pivotColumns": null,
        "xColumns": null,
        "yColumns": null
       },
       "removedWidgets": [],
       "schema": [
        {
         "metadata": "{}",
         "name": "path",
         "type": "\"string\""
        },
        {
         "metadata": "{}",
         "name": "name",
         "type": "\"string\""
        },
        {
         "metadata": "{}",
         "name": "size",
         "type": "\"long\""
        },
        {
         "metadata": "{}",
         "name": "modificationTime",
         "type": "\"long\""
        }
       ],
       "type": "table"
      }
     },
     "output_type": "display_data"
    }
   ],
   "source": [
    "display(dbutils.fs.ls('/FileStore/tables/aula-databricks'))"
   ]
  },
  {
   "cell_type": "code",
   "execution_count": 0,
   "metadata": {
    "application/vnd.databricks.v1+cell": {
     "cellMetadata": {
      "byteLimit": 2048000,
      "rowLimit": 10000
     },
     "inputWidgets": {},
     "nuid": "92d5099d-dd34-405a-95ba-1ed8b914282e",
     "showTitle": false,
     "title": ""
    }
   },
   "outputs": [
    {
     "output_type": "stream",
     "name": "stdout",
     "output_type": "stream",
     "text": [
      "Out[20]: []"
     ]
    }
   ],
   "source": [
    "dbutils.fs.ls('/FileStore/tables/aula-databricks/vinhos')"
   ]
  },
  {
   "cell_type": "code",
   "execution_count": 0,
   "metadata": {
    "application/vnd.databricks.v1+cell": {
     "cellMetadata": {
      "byteLimit": 2048000,
      "rowLimit": 10000
     },
     "inputWidgets": {},
     "nuid": "5674624c-fb41-4beb-847d-eafd9a0b2227",
     "showTitle": false,
     "title": ""
    }
   },
   "outputs": [
    {
     "output_type": "display_data",
     "data": {
      "text/html": [
       "<div class = \"ansiout\">/**<br /> * Copies a file or directory, possibly across FileSystems..<br /> * <br /> * Example: cp(\"/mnt/my-folder/a\", \"s3n://bucket/b\")<br /> * <br /> * @param from FileSystem URI of the source file or directory<br /> * @param to FileSystem URI of the destination file or directory<br /> * @param recurse if true, all files and directories will be recursively copied<br /> * @return true if all files were successfully copied<br /> */<br /><b>cp(from: java.lang.String, to: java.lang.String, recurse: boolean = false): boolean</b></div><br />"
      ]
     },
     "metadata": {
      "application/vnd.databricks.v1+output": {
       "addedWidgets": {},
       "arguments": {},
       "data": "<div class = \"ansiout\">/**<br /> * Copies a file or directory, possibly across FileSystems..<br /> * <br /> * Example: cp(\"/mnt/my-folder/a\", \"s3n://bucket/b\")<br /> * <br /> * @param from FileSystem URI of the source file or directory<br /> * @param to FileSystem URI of the destination file or directory<br /> * @param recurse if true, all files and directories will be recursively copied<br /> * @return true if all files were successfully copied<br /> */<br /><b>cp(from: java.lang.String, to: java.lang.String, recurse: boolean = false): boolean</b></div><br />",
       "datasetInfos": [],
       "metadata": {},
       "removedWidgets": [],
       "textData": null,
       "type": "htmlSandbox"
      }
     },
     "output_type": "display_data"
    }
   ],
   "source": [
    "dbutils.fs.help('cp')"
   ]
  },
  {
   "cell_type": "code",
   "execution_count": 0,
   "metadata": {
    "application/vnd.databricks.v1+cell": {
     "cellMetadata": {
      "byteLimit": 2048000,
      "rowLimit": 10000
     },
     "inputWidgets": {},
     "nuid": "2a4d5ba6-6440-4d23-a1e4-7562398e238e",
     "showTitle": false,
     "title": ""
    }
   },
   "outputs": [
    {
     "output_type": "stream",
     "name": "stdout",
     "output_type": "stream",
     "text": [
      "Out[22]: True"
     ]
    }
   ],
   "source": [
    "dbutils.fs.cp(\n",
    "    '/databricks-datasets/wine-quality', \n",
    "    '/FileStore/tables/aula-databricks', \n",
    "    recurse=True\n",
    ")"
   ]
  },
  {
   "cell_type": "code",
   "execution_count": 0,
   "metadata": {
    "application/vnd.databricks.v1+cell": {
     "cellMetadata": {
      "byteLimit": 2048000,
      "rowLimit": 10000
     },
     "inputWidgets": {},
     "nuid": "f8e5781a-6956-48cd-8053-1c11e8504c87",
     "showTitle": false,
     "title": ""
    }
   },
   "outputs": [
    {
     "output_type": "stream",
     "name": "stdout",
     "output_type": "stream",
     "text": [
      "Out[23]: []"
     ]
    }
   ],
   "source": [
    "dbutils.fs.ls('/FileStore/tables/aula-databricks/vinhos')"
   ]
  },
  {
   "cell_type": "code",
   "execution_count": 0,
   "metadata": {
    "application/vnd.databricks.v1+cell": {
     "cellMetadata": {
      "byteLimit": 2048000,
      "rowLimit": 10000
     },
     "inputWidgets": {},
     "nuid": "b4c0d924-82b3-4aab-87fb-b871aeadc848",
     "showTitle": false,
     "title": ""
    }
   },
   "outputs": [
    {
     "output_type": "stream",
     "name": "stdout",
     "output_type": "stream",
     "text": [
      "Out[24]: [FileInfo(path='dbfs:/FileStore/tables/aula-databricks/README.md', name='README.md', size=1066, modificationTime=1711640303000),\n FileInfo(path='dbfs:/FileStore/tables/aula-databricks/vinhos/', name='vinhos/', size=0, modificationTime=0),\n FileInfo(path='dbfs:/FileStore/tables/aula-databricks/winequality-red.csv', name='winequality-red.csv', size=84199, modificationTime=1711640304000),\n FileInfo(path='dbfs:/FileStore/tables/aula-databricks/winequality-white.csv', name='winequality-white.csv', size=264426, modificationTime=1711640304000)]"
     ]
    }
   ],
   "source": [
    "dbutils.fs.ls('/FileStore/tables/aula-databricks')"
   ]
  },
  {
   "cell_type": "code",
   "execution_count": 0,
   "metadata": {
    "application/vnd.databricks.v1+cell": {
     "cellMetadata": {
      "byteLimit": 2048000,
      "rowLimit": 10000
     },
     "inputWidgets": {},
     "nuid": "18e4168c-cbe1-4301-896e-d82d00f8bf74",
     "showTitle": false,
     "title": ""
    }
   },
   "outputs": [
    {
     "output_type": "display_data",
     "data": {
      "text/html": [
       "<div class = \"ansiout\">/**<br /> * Moves a file or directory, possibly across FileSystems.<br /> * This is implemented as a copy followed by delete, even for intra-FileSystem moves.<br /> * <br /> * Example: mv(\"/mnt/my-folder/a\", \"s3n://bucket/b\")<br /> * <br /> * @param from FileSystem URI of the source file or directory<br /> * @param to FileSystem URI of the destination file or directory<br /> * @param recurse if true, all files and directories will be recursively moved<br /> * @return true if the move was successful (so 'from' is deleted and 'to' contains the data)<br /> */<br /><b>mv(from: java.lang.String, to: java.lang.String, recurse: boolean = false): boolean</b></div><br />"
      ]
     },
     "metadata": {
      "application/vnd.databricks.v1+output": {
       "addedWidgets": {},
       "arguments": {},
       "data": "<div class = \"ansiout\">/**<br /> * Moves a file or directory, possibly across FileSystems.<br /> * This is implemented as a copy followed by delete, even for intra-FileSystem moves.<br /> * <br /> * Example: mv(\"/mnt/my-folder/a\", \"s3n://bucket/b\")<br /> * <br /> * @param from FileSystem URI of the source file or directory<br /> * @param to FileSystem URI of the destination file or directory<br /> * @param recurse if true, all files and directories will be recursively moved<br /> * @return true if the move was successful (so 'from' is deleted and 'to' contains the data)<br /> */<br /><b>mv(from: java.lang.String, to: java.lang.String, recurse: boolean = false): boolean</b></div><br />",
       "datasetInfos": [],
       "metadata": {},
       "removedWidgets": [],
       "textData": null,
       "type": "htmlSandbox"
      }
     },
     "output_type": "display_data"
    }
   ],
   "source": [
    "dbutils.fs.help('mv')"
   ]
  },
  {
   "cell_type": "code",
   "execution_count": 0,
   "metadata": {
    "application/vnd.databricks.v1+cell": {
     "cellMetadata": {
      "byteLimit": 2048000,
      "rowLimit": 10000
     },
     "inputWidgets": {},
     "nuid": "667fb0c2-8b7d-4289-88f9-b9636d7e7ef5",
     "showTitle": false,
     "title": ""
    }
   },
   "outputs": [
    {
     "output_type": "display_data",
     "data": {
      "text/plain": [
       "\u001B[0;31m---------------------------------------------------------------------------\u001B[0m\n",
       "\u001B[0;31mIllegalArgumentException\u001B[0m                  Traceback (most recent call last)\n",
       "File \u001B[0;32m<command-2521796350613778>:1\u001B[0m\n",
       "\u001B[0;32m----> 1\u001B[0m \u001B[43mdbutils\u001B[49m\u001B[38;5;241;43m.\u001B[39;49m\u001B[43mfs\u001B[49m\u001B[38;5;241;43m.\u001B[39;49m\u001B[43mmv\u001B[49m\u001B[43m(\u001B[49m\n",
       "\u001B[1;32m      2\u001B[0m \u001B[43m    \u001B[49m\u001B[38;5;124;43m'\u001B[39;49m\u001B[38;5;124;43m/FileStore/tables/aula-databricks/\u001B[39;49m\u001B[38;5;124;43m'\u001B[39;49m\u001B[43m,\u001B[49m\u001B[43m \u001B[49m\n",
       "\u001B[1;32m      3\u001B[0m \u001B[43m    \u001B[49m\u001B[38;5;124;43m'\u001B[39;49m\u001B[38;5;124;43m/FileStore/tables/aula-databricks/vinhos/\u001B[39;49m\u001B[38;5;124;43m'\u001B[39;49m\u001B[43m,\u001B[49m\u001B[43m \u001B[49m\n",
       "\u001B[1;32m      4\u001B[0m \u001B[43m    \u001B[49m\u001B[43mrecurse\u001B[49m\u001B[38;5;241;43m=\u001B[39;49m\u001B[38;5;28;43;01mTrue\u001B[39;49;00m\n",
       "\u001B[1;32m      5\u001B[0m \u001B[43m)\u001B[49m\n",
       "\n",
       "File \u001B[0;32m/databricks/python_shell/dbruntime/dbutils.py:346\u001B[0m, in \u001B[0;36mDBUtils.FSHandler.prettify_exception_message.<locals>.f_with_exception_handling\u001B[0;34m(*args, **kwargs)\u001B[0m\n",
       "\u001B[1;32m    344\u001B[0m \u001B[38;5;28;01mdef\u001B[39;00m \u001B[38;5;21mf_with_exception_handling\u001B[39m(\u001B[38;5;241m*\u001B[39margs, \u001B[38;5;241m*\u001B[39m\u001B[38;5;241m*\u001B[39mkwargs):\n",
       "\u001B[1;32m    345\u001B[0m     \u001B[38;5;28;01mtry\u001B[39;00m:\n",
       "\u001B[0;32m--> 346\u001B[0m         \u001B[38;5;28;01mreturn\u001B[39;00m \u001B[43mf\u001B[49m\u001B[43m(\u001B[49m\u001B[38;5;241;43m*\u001B[39;49m\u001B[43margs\u001B[49m\u001B[43m,\u001B[49m\u001B[43m \u001B[49m\u001B[38;5;241;43m*\u001B[39;49m\u001B[38;5;241;43m*\u001B[39;49m\u001B[43mkwargs\u001B[49m\u001B[43m)\u001B[49m\n",
       "\u001B[1;32m    347\u001B[0m     \u001B[38;5;28;01mexcept\u001B[39;00m Py4JJavaError \u001B[38;5;28;01mas\u001B[39;00m e:\n",
       "\u001B[1;32m    349\u001B[0m         \u001B[38;5;28;01mclass\u001B[39;00m \u001B[38;5;21;01mExecutionError\u001B[39;00m(\u001B[38;5;167;01mException\u001B[39;00m):\n",
       "\n",
       "File \u001B[0;32m/databricks/python_shell/dbruntime/dbutils.py:401\u001B[0m, in \u001B[0;36mDBUtils.FSHandler.mv\u001B[0;34m(self, source, dest, recurse)\u001B[0m\n",
       "\u001B[1;32m    399\u001B[0m     \u001B[38;5;28;01mreturn\u001B[39;00m \u001B[38;5;28mself\u001B[39m\u001B[38;5;241m.\u001B[39mprint_return(\u001B[38;5;28mself\u001B[39m\u001B[38;5;241m.\u001B[39mfsutils_parallel\u001B[38;5;241m.\u001B[39mmvParallel(source, dest))\n",
       "\u001B[1;32m    400\u001B[0m \u001B[38;5;28;01melse\u001B[39;00m:\n",
       "\u001B[0;32m--> 401\u001B[0m     \u001B[38;5;28;01mreturn\u001B[39;00m \u001B[38;5;28mself\u001B[39m\u001B[38;5;241m.\u001B[39mprint_return(\u001B[38;5;28;43mself\u001B[39;49m\u001B[38;5;241;43m.\u001B[39;49m\u001B[43mfsutils\u001B[49m\u001B[38;5;241;43m.\u001B[39;49m\u001B[43mmv\u001B[49m\u001B[43m(\u001B[49m\u001B[43msource\u001B[49m\u001B[43m,\u001B[49m\u001B[43m \u001B[49m\u001B[43mdest\u001B[49m\u001B[43m,\u001B[49m\u001B[43m \u001B[49m\u001B[43mrecurse\u001B[49m\u001B[43m)\u001B[49m)\n",
       "\n",
       "File \u001B[0;32m/databricks/spark/python/lib/py4j-0.10.9.5-src.zip/py4j/java_gateway.py:1321\u001B[0m, in \u001B[0;36mJavaMember.__call__\u001B[0;34m(self, *args)\u001B[0m\n",
       "\u001B[1;32m   1315\u001B[0m command \u001B[38;5;241m=\u001B[39m proto\u001B[38;5;241m.\u001B[39mCALL_COMMAND_NAME \u001B[38;5;241m+\u001B[39m\\\n",
       "\u001B[1;32m   1316\u001B[0m     \u001B[38;5;28mself\u001B[39m\u001B[38;5;241m.\u001B[39mcommand_header \u001B[38;5;241m+\u001B[39m\\\n",
       "\u001B[1;32m   1317\u001B[0m     args_command \u001B[38;5;241m+\u001B[39m\\\n",
       "\u001B[1;32m   1318\u001B[0m     proto\u001B[38;5;241m.\u001B[39mEND_COMMAND_PART\n",
       "\u001B[1;32m   1320\u001B[0m answer \u001B[38;5;241m=\u001B[39m \u001B[38;5;28mself\u001B[39m\u001B[38;5;241m.\u001B[39mgateway_client\u001B[38;5;241m.\u001B[39msend_command(command)\n",
       "\u001B[0;32m-> 1321\u001B[0m return_value \u001B[38;5;241m=\u001B[39m \u001B[43mget_return_value\u001B[49m\u001B[43m(\u001B[49m\n",
       "\u001B[1;32m   1322\u001B[0m \u001B[43m    \u001B[49m\u001B[43manswer\u001B[49m\u001B[43m,\u001B[49m\u001B[43m \u001B[49m\u001B[38;5;28;43mself\u001B[39;49m\u001B[38;5;241;43m.\u001B[39;49m\u001B[43mgateway_client\u001B[49m\u001B[43m,\u001B[49m\u001B[43m \u001B[49m\u001B[38;5;28;43mself\u001B[39;49m\u001B[38;5;241;43m.\u001B[39;49m\u001B[43mtarget_id\u001B[49m\u001B[43m,\u001B[49m\u001B[43m \u001B[49m\u001B[38;5;28;43mself\u001B[39;49m\u001B[38;5;241;43m.\u001B[39;49m\u001B[43mname\u001B[49m\u001B[43m)\u001B[49m\n",
       "\u001B[1;32m   1324\u001B[0m \u001B[38;5;28;01mfor\u001B[39;00m temp_arg \u001B[38;5;129;01min\u001B[39;00m temp_args:\n",
       "\u001B[1;32m   1325\u001B[0m     temp_arg\u001B[38;5;241m.\u001B[39m_detach()\n",
       "\n",
       "File \u001B[0;32m/databricks/spark/python/pyspark/errors/exceptions.py:234\u001B[0m, in \u001B[0;36mcapture_sql_exception.<locals>.deco\u001B[0;34m(*a, **kw)\u001B[0m\n",
       "\u001B[1;32m    230\u001B[0m converted \u001B[38;5;241m=\u001B[39m convert_exception(e\u001B[38;5;241m.\u001B[39mjava_exception)\n",
       "\u001B[1;32m    231\u001B[0m \u001B[38;5;28;01mif\u001B[39;00m \u001B[38;5;129;01mnot\u001B[39;00m \u001B[38;5;28misinstance\u001B[39m(converted, UnknownException):\n",
       "\u001B[1;32m    232\u001B[0m     \u001B[38;5;66;03m# Hide where the exception came from that shows a non-Pythonic\u001B[39;00m\n",
       "\u001B[1;32m    233\u001B[0m     \u001B[38;5;66;03m# JVM exception message.\u001B[39;00m\n",
       "\u001B[0;32m--> 234\u001B[0m     \u001B[38;5;28;01mraise\u001B[39;00m converted \u001B[38;5;28;01mfrom\u001B[39;00m \u001B[38;5;28mNone\u001B[39m\n",
       "\u001B[1;32m    235\u001B[0m \u001B[38;5;28;01melse\u001B[39;00m:\n",
       "\u001B[1;32m    236\u001B[0m     \u001B[38;5;28;01mraise\u001B[39;00m\n",
       "\n",
       "\u001B[0;31mIllegalArgumentException\u001B[0m: Cannot move directory /FileStore/tables/aula-databricks into itself /FileStore/tables/aula-databricks/vinhos"
      ]
     },
     "metadata": {
      "application/vnd.databricks.v1+output": {
       "arguments": {},
       "data": "\u001B[0;31m---------------------------------------------------------------------------\u001B[0m\n\u001B[0;31mIllegalArgumentException\u001B[0m                  Traceback (most recent call last)\nFile \u001B[0;32m<command-2521796350613778>:1\u001B[0m\n\u001B[0;32m----> 1\u001B[0m \u001B[43mdbutils\u001B[49m\u001B[38;5;241;43m.\u001B[39;49m\u001B[43mfs\u001B[49m\u001B[38;5;241;43m.\u001B[39;49m\u001B[43mmv\u001B[49m\u001B[43m(\u001B[49m\n\u001B[1;32m      2\u001B[0m \u001B[43m    \u001B[49m\u001B[38;5;124;43m'\u001B[39;49m\u001B[38;5;124;43m/FileStore/tables/aula-databricks/\u001B[39;49m\u001B[38;5;124;43m'\u001B[39;49m\u001B[43m,\u001B[49m\u001B[43m \u001B[49m\n\u001B[1;32m      3\u001B[0m \u001B[43m    \u001B[49m\u001B[38;5;124;43m'\u001B[39;49m\u001B[38;5;124;43m/FileStore/tables/aula-databricks/vinhos/\u001B[39;49m\u001B[38;5;124;43m'\u001B[39;49m\u001B[43m,\u001B[49m\u001B[43m \u001B[49m\n\u001B[1;32m      4\u001B[0m \u001B[43m    \u001B[49m\u001B[43mrecurse\u001B[49m\u001B[38;5;241;43m=\u001B[39;49m\u001B[38;5;28;43;01mTrue\u001B[39;49;00m\n\u001B[1;32m      5\u001B[0m \u001B[43m)\u001B[49m\n\nFile \u001B[0;32m/databricks/python_shell/dbruntime/dbutils.py:346\u001B[0m, in \u001B[0;36mDBUtils.FSHandler.prettify_exception_message.<locals>.f_with_exception_handling\u001B[0;34m(*args, **kwargs)\u001B[0m\n\u001B[1;32m    344\u001B[0m \u001B[38;5;28;01mdef\u001B[39;00m \u001B[38;5;21mf_with_exception_handling\u001B[39m(\u001B[38;5;241m*\u001B[39margs, \u001B[38;5;241m*\u001B[39m\u001B[38;5;241m*\u001B[39mkwargs):\n\u001B[1;32m    345\u001B[0m     \u001B[38;5;28;01mtry\u001B[39;00m:\n\u001B[0;32m--> 346\u001B[0m         \u001B[38;5;28;01mreturn\u001B[39;00m \u001B[43mf\u001B[49m\u001B[43m(\u001B[49m\u001B[38;5;241;43m*\u001B[39;49m\u001B[43margs\u001B[49m\u001B[43m,\u001B[49m\u001B[43m \u001B[49m\u001B[38;5;241;43m*\u001B[39;49m\u001B[38;5;241;43m*\u001B[39;49m\u001B[43mkwargs\u001B[49m\u001B[43m)\u001B[49m\n\u001B[1;32m    347\u001B[0m     \u001B[38;5;28;01mexcept\u001B[39;00m Py4JJavaError \u001B[38;5;28;01mas\u001B[39;00m e:\n\u001B[1;32m    349\u001B[0m         \u001B[38;5;28;01mclass\u001B[39;00m \u001B[38;5;21;01mExecutionError\u001B[39;00m(\u001B[38;5;167;01mException\u001B[39;00m):\n\nFile \u001B[0;32m/databricks/python_shell/dbruntime/dbutils.py:401\u001B[0m, in \u001B[0;36mDBUtils.FSHandler.mv\u001B[0;34m(self, source, dest, recurse)\u001B[0m\n\u001B[1;32m    399\u001B[0m     \u001B[38;5;28;01mreturn\u001B[39;00m \u001B[38;5;28mself\u001B[39m\u001B[38;5;241m.\u001B[39mprint_return(\u001B[38;5;28mself\u001B[39m\u001B[38;5;241m.\u001B[39mfsutils_parallel\u001B[38;5;241m.\u001B[39mmvParallel(source, dest))\n\u001B[1;32m    400\u001B[0m \u001B[38;5;28;01melse\u001B[39;00m:\n\u001B[0;32m--> 401\u001B[0m     \u001B[38;5;28;01mreturn\u001B[39;00m \u001B[38;5;28mself\u001B[39m\u001B[38;5;241m.\u001B[39mprint_return(\u001B[38;5;28;43mself\u001B[39;49m\u001B[38;5;241;43m.\u001B[39;49m\u001B[43mfsutils\u001B[49m\u001B[38;5;241;43m.\u001B[39;49m\u001B[43mmv\u001B[49m\u001B[43m(\u001B[49m\u001B[43msource\u001B[49m\u001B[43m,\u001B[49m\u001B[43m \u001B[49m\u001B[43mdest\u001B[49m\u001B[43m,\u001B[49m\u001B[43m \u001B[49m\u001B[43mrecurse\u001B[49m\u001B[43m)\u001B[49m)\n\nFile \u001B[0;32m/databricks/spark/python/lib/py4j-0.10.9.5-src.zip/py4j/java_gateway.py:1321\u001B[0m, in \u001B[0;36mJavaMember.__call__\u001B[0;34m(self, *args)\u001B[0m\n\u001B[1;32m   1315\u001B[0m command \u001B[38;5;241m=\u001B[39m proto\u001B[38;5;241m.\u001B[39mCALL_COMMAND_NAME \u001B[38;5;241m+\u001B[39m\\\n\u001B[1;32m   1316\u001B[0m     \u001B[38;5;28mself\u001B[39m\u001B[38;5;241m.\u001B[39mcommand_header \u001B[38;5;241m+\u001B[39m\\\n\u001B[1;32m   1317\u001B[0m     args_command \u001B[38;5;241m+\u001B[39m\\\n\u001B[1;32m   1318\u001B[0m     proto\u001B[38;5;241m.\u001B[39mEND_COMMAND_PART\n\u001B[1;32m   1320\u001B[0m answer \u001B[38;5;241m=\u001B[39m \u001B[38;5;28mself\u001B[39m\u001B[38;5;241m.\u001B[39mgateway_client\u001B[38;5;241m.\u001B[39msend_command(command)\n\u001B[0;32m-> 1321\u001B[0m return_value \u001B[38;5;241m=\u001B[39m \u001B[43mget_return_value\u001B[49m\u001B[43m(\u001B[49m\n\u001B[1;32m   1322\u001B[0m \u001B[43m    \u001B[49m\u001B[43manswer\u001B[49m\u001B[43m,\u001B[49m\u001B[43m \u001B[49m\u001B[38;5;28;43mself\u001B[39;49m\u001B[38;5;241;43m.\u001B[39;49m\u001B[43mgateway_client\u001B[49m\u001B[43m,\u001B[49m\u001B[43m \u001B[49m\u001B[38;5;28;43mself\u001B[39;49m\u001B[38;5;241;43m.\u001B[39;49m\u001B[43mtarget_id\u001B[49m\u001B[43m,\u001B[49m\u001B[43m \u001B[49m\u001B[38;5;28;43mself\u001B[39;49m\u001B[38;5;241;43m.\u001B[39;49m\u001B[43mname\u001B[49m\u001B[43m)\u001B[49m\n\u001B[1;32m   1324\u001B[0m \u001B[38;5;28;01mfor\u001B[39;00m temp_arg \u001B[38;5;129;01min\u001B[39;00m temp_args:\n\u001B[1;32m   1325\u001B[0m     temp_arg\u001B[38;5;241m.\u001B[39m_detach()\n\nFile \u001B[0;32m/databricks/spark/python/pyspark/errors/exceptions.py:234\u001B[0m, in \u001B[0;36mcapture_sql_exception.<locals>.deco\u001B[0;34m(*a, **kw)\u001B[0m\n\u001B[1;32m    230\u001B[0m converted \u001B[38;5;241m=\u001B[39m convert_exception(e\u001B[38;5;241m.\u001B[39mjava_exception)\n\u001B[1;32m    231\u001B[0m \u001B[38;5;28;01mif\u001B[39;00m \u001B[38;5;129;01mnot\u001B[39;00m \u001B[38;5;28misinstance\u001B[39m(converted, UnknownException):\n\u001B[1;32m    232\u001B[0m     \u001B[38;5;66;03m# Hide where the exception came from that shows a non-Pythonic\u001B[39;00m\n\u001B[1;32m    233\u001B[0m     \u001B[38;5;66;03m# JVM exception message.\u001B[39;00m\n\u001B[0;32m--> 234\u001B[0m     \u001B[38;5;28;01mraise\u001B[39;00m converted \u001B[38;5;28;01mfrom\u001B[39;00m \u001B[38;5;28mNone\u001B[39m\n\u001B[1;32m    235\u001B[0m \u001B[38;5;28;01melse\u001B[39;00m:\n\u001B[1;32m    236\u001B[0m     \u001B[38;5;28;01mraise\u001B[39;00m\n\n\u001B[0;31mIllegalArgumentException\u001B[0m: Cannot move directory /FileStore/tables/aula-databricks into itself /FileStore/tables/aula-databricks/vinhos",
       "errorSummary": "<span class='ansi-red-fg'>IllegalArgumentException</span>: Cannot move directory /FileStore/tables/aula-databricks into itself /FileStore/tables/aula-databricks/vinhos",
       "errorTraceType": "ansi",
       "metadata": {},
       "type": "ipynbError"
      }
     },
     "output_type": "display_data"
    }
   ],
   "source": [
    "dbutils.fs.mv(\n",
    "    '/FileStore/tables/aula-databricks/', \n",
    "    '/FileStore/tables/aula-databricks/vinhos/', \n",
    "    recurse=True\n",
    ")"
   ]
  },
  {
   "cell_type": "code",
   "execution_count": 0,
   "metadata": {
    "application/vnd.databricks.v1+cell": {
     "cellMetadata": {},
     "inputWidgets": {},
     "nuid": "2d59a45f-a855-4883-82a9-4ec09c33c4eb",
     "showTitle": false,
     "title": ""
    }
   },
   "outputs": [],
   "source": [
    "display(dbutils.fs.ls('/FileStore/tables/aula-databricks'))"
   ]
  },
  {
   "cell_type": "code",
   "execution_count": 0,
   "metadata": {
    "application/vnd.databricks.v1+cell": {
     "cellMetadata": {
      "byteLimit": 2048000,
      "rowLimit": 10000
     },
     "inputWidgets": {},
     "nuid": "1d90a6e1-86ee-4f7b-bc06-670bbf8a2774",
     "showTitle": false,
     "title": ""
    }
   },
   "outputs": [],
   "source": [
    "for item in dbutils.fs.ls('/FileStore/tables/aula-databricks'):\n",
    "    if item.size!=0:\n",
    "        dbutils.fs.mv(\n",
    "          f'/FileStore/tables/aula-databricks/{item.name}', \n",
    "          '/FileStore/tables/aula-databricks/vinhos/'\n",
    "        )"
   ]
  },
  {
   "cell_type": "code",
   "execution_count": 0,
   "metadata": {
    "application/vnd.databricks.v1+cell": {
     "cellMetadata": {
      "byteLimit": 2048000,
      "rowLimit": 10000
     },
     "inputWidgets": {},
     "nuid": "07148a99-72ad-4e92-b3d4-b8f6f9e002b0",
     "showTitle": false,
     "title": ""
    }
   },
   "outputs": [
    {
     "output_type": "display_data",
     "data": {
      "text/html": [
       "<style scoped>\n",
       "  .table-result-container {\n",
       "    max-height: 300px;\n",
       "    overflow: auto;\n",
       "  }\n",
       "  table, th, td {\n",
       "    border: 1px solid black;\n",
       "    border-collapse: collapse;\n",
       "  }\n",
       "  th, td {\n",
       "    padding: 5px;\n",
       "  }\n",
       "  th {\n",
       "    text-align: left;\n",
       "  }\n",
       "</style><div class='table-result-container'><table class='table-result'><thead style='background-color: white'><tr><th>path</th><th>name</th><th>size</th><th>modificationTime</th></tr></thead><tbody><tr><td>dbfs:/FileStore/tables/aula-databricks/vinhos/</td><td>vinhos/</td><td>0</td><td>0</td></tr></tbody></table></div>"
      ]
     },
     "metadata": {
      "application/vnd.databricks.v1+output": {
       "addedWidgets": {},
       "aggData": [],
       "aggError": "",
       "aggOverflow": false,
       "aggSchema": [],
       "aggSeriesLimitReached": false,
       "aggType": "",
       "arguments": {},
       "columnCustomDisplayInfos": {},
       "data": [
        [
         "dbfs:/FileStore/tables/aula-databricks/vinhos/",
         "vinhos/",
         0,
         0
        ]
       ],
       "datasetInfos": [],
       "dbfsResultPath": null,
       "isJsonSchema": true,
       "metadata": {},
       "overflow": false,
       "plotOptions": {
        "customPlotOptions": {},
        "displayType": "table",
        "pivotAggregation": null,
        "pivotColumns": null,
        "xColumns": null,
        "yColumns": null
       },
       "removedWidgets": [],
       "schema": [
        {
         "metadata": "{}",
         "name": "path",
         "type": "\"string\""
        },
        {
         "metadata": "{}",
         "name": "name",
         "type": "\"string\""
        },
        {
         "metadata": "{}",
         "name": "size",
         "type": "\"long\""
        },
        {
         "metadata": "{}",
         "name": "modificationTime",
         "type": "\"long\""
        }
       ],
       "type": "table"
      }
     },
     "output_type": "display_data"
    }
   ],
   "source": [
    "display(dbutils.fs.ls('/FileStore/tables/aula-databricks'))"
   ]
  },
  {
   "cell_type": "code",
   "execution_count": 0,
   "metadata": {
    "application/vnd.databricks.v1+cell": {
     "cellMetadata": {
      "byteLimit": 2048000,
      "rowLimit": 10000
     },
     "inputWidgets": {},
     "nuid": "767cd435-5d88-4be2-910a-341a8d51d9e1",
     "showTitle": false,
     "title": ""
    }
   },
   "outputs": [
    {
     "output_type": "display_data",
     "data": {
      "text/html": [
       "<style scoped>\n",
       "  .table-result-container {\n",
       "    max-height: 300px;\n",
       "    overflow: auto;\n",
       "  }\n",
       "  table, th, td {\n",
       "    border: 1px solid black;\n",
       "    border-collapse: collapse;\n",
       "  }\n",
       "  th, td {\n",
       "    padding: 5px;\n",
       "  }\n",
       "  th {\n",
       "    text-align: left;\n",
       "  }\n",
       "</style><div class='table-result-container'><table class='table-result'><thead style='background-color: white'><tr><th>path</th><th>name</th><th>size</th><th>modificationTime</th></tr></thead><tbody><tr><td>dbfs:/FileStore/tables/aula-databricks/vinhos/README.md</td><td>README.md</td><td>1066</td><td>1711640581000</td></tr><tr><td>dbfs:/FileStore/tables/aula-databricks/vinhos/winequality-red.csv</td><td>winequality-red.csv</td><td>84199</td><td>1711640582000</td></tr><tr><td>dbfs:/FileStore/tables/aula-databricks/vinhos/winequality-white.csv</td><td>winequality-white.csv</td><td>264426</td><td>1711640583000</td></tr></tbody></table></div>"
      ]
     },
     "metadata": {
      "application/vnd.databricks.v1+output": {
       "addedWidgets": {},
       "aggData": [],
       "aggError": "",
       "aggOverflow": false,
       "aggSchema": [],
       "aggSeriesLimitReached": false,
       "aggType": "",
       "arguments": {},
       "columnCustomDisplayInfos": {},
       "data": [
        [
         "dbfs:/FileStore/tables/aula-databricks/vinhos/README.md",
         "README.md",
         1066,
         1711640581000
        ],
        [
         "dbfs:/FileStore/tables/aula-databricks/vinhos/winequality-red.csv",
         "winequality-red.csv",
         84199,
         1711640582000
        ],
        [
         "dbfs:/FileStore/tables/aula-databricks/vinhos/winequality-white.csv",
         "winequality-white.csv",
         264426,
         1711640583000
        ]
       ],
       "datasetInfos": [],
       "dbfsResultPath": null,
       "isJsonSchema": true,
       "metadata": {},
       "overflow": false,
       "plotOptions": {
        "customPlotOptions": {},
        "displayType": "table",
        "pivotAggregation": null,
        "pivotColumns": null,
        "xColumns": null,
        "yColumns": null
       },
       "removedWidgets": [],
       "schema": [
        {
         "metadata": "{}",
         "name": "path",
         "type": "\"string\""
        },
        {
         "metadata": "{}",
         "name": "name",
         "type": "\"string\""
        },
        {
         "metadata": "{}",
         "name": "size",
         "type": "\"long\""
        },
        {
         "metadata": "{}",
         "name": "modificationTime",
         "type": "\"long\""
        }
       ],
       "type": "table"
      }
     },
     "output_type": "display_data"
    }
   ],
   "source": [
    "display(dbutils.fs.ls('/FileStore/tables/aula-databricks/vinhos'))"
   ]
  },
  {
   "cell_type": "markdown",
   "metadata": {
    "application/vnd.databricks.v1+cell": {
     "cellMetadata": {},
     "inputWidgets": {},
     "nuid": "8dda6bc4-a054-410c-9e23-050385033d14",
     "showTitle": false,
     "title": ""
    }
   },
   "source": [
    "# Usando SQL no Databricks"
   ]
  },
  {
   "cell_type": "markdown",
   "metadata": {
    "application/vnd.databricks.v1+cell": {
     "cellMetadata": {},
     "inputWidgets": {},
     "nuid": "62c48a1f-1469-45ae-a62b-fe3504b4d351",
     "showTitle": false,
     "title": ""
    }
   },
   "source": [
    "## Visualizando databases"
   ]
  },
  {
   "cell_type": "code",
   "execution_count": 0,
   "metadata": {
    "application/vnd.databricks.v1+cell": {
     "cellMetadata": {
      "byteLimit": 2048000,
      "implicitDf": true,
      "rowLimit": 10000
     },
     "inputWidgets": {},
     "nuid": "dedf8b03-dd0a-4f97-aebb-9adc17fb1f9e",
     "showTitle": false,
     "title": ""
    }
   },
   "outputs": [
    {
     "output_type": "display_data",
     "data": {
      "text/html": [
       "<style scoped>\n",
       "  .table-result-container {\n",
       "    max-height: 300px;\n",
       "    overflow: auto;\n",
       "  }\n",
       "  table, th, td {\n",
       "    border: 1px solid black;\n",
       "    border-collapse: collapse;\n",
       "  }\n",
       "  th, td {\n",
       "    padding: 5px;\n",
       "  }\n",
       "  th {\n",
       "    text-align: left;\n",
       "  }\n",
       "</style><div class='table-result-container'><table class='table-result'><thead style='background-color: white'><tr><th>databaseName</th></tr></thead><tbody><tr><td>default</td></tr></tbody></table></div>"
      ]
     },
     "metadata": {
      "application/vnd.databricks.v1+output": {
       "addedWidgets": {},
       "aggData": [],
       "aggError": "",
       "aggOverflow": false,
       "aggSchema": [],
       "aggSeriesLimitReached": false,
       "aggType": "",
       "arguments": {},
       "columnCustomDisplayInfos": {},
       "data": [
        [
         "default"
        ]
       ],
       "datasetInfos": [],
       "dbfsResultPath": null,
       "isJsonSchema": true,
       "metadata": {},
       "overflow": false,
       "plotOptions": {
        "customPlotOptions": {},
        "displayType": "table",
        "pivotAggregation": null,
        "pivotColumns": null,
        "xColumns": null,
        "yColumns": null
       },
       "removedWidgets": [],
       "schema": [
        {
         "metadata": "{}",
         "name": "databaseName",
         "type": "\"string\""
        }
       ],
       "type": "table"
      }
     },
     "output_type": "display_data"
    }
   ],
   "source": [
    "%sql\n",
    "SHOW DATABASES"
   ]
  },
  {
   "cell_type": "markdown",
   "metadata": {
    "application/vnd.databricks.v1+cell": {
     "cellMetadata": {},
     "inputWidgets": {},
     "nuid": "f8b2b57c-a8e6-4dbd-a252-b64ece63b299",
     "showTitle": false,
     "title": ""
    }
   },
   "source": [
    "### Criando um database"
   ]
  },
  {
   "cell_type": "code",
   "execution_count": 0,
   "metadata": {
    "application/vnd.databricks.v1+cell": {
     "cellMetadata": {
      "byteLimit": 2048000,
      "implicitDf": true,
      "rowLimit": 10000
     },
     "inputWidgets": {},
     "nuid": "00122eff-208c-44be-b517-cff17c22bd3d",
     "showTitle": false,
     "title": ""
    }
   },
   "outputs": [
    {
     "output_type": "display_data",
     "data": {
      "text/html": [
       "<style scoped>\n",
       "  .table-result-container {\n",
       "    max-height: 300px;\n",
       "    overflow: auto;\n",
       "  }\n",
       "  table, th, td {\n",
       "    border: 1px solid black;\n",
       "    border-collapse: collapse;\n",
       "  }\n",
       "  th, td {\n",
       "    padding: 5px;\n",
       "  }\n",
       "  th {\n",
       "    text-align: left;\n",
       "  }\n",
       "</style><div class='table-result-container'><table class='table-result'><thead style='background-color: white'><tr></tr></thead><tbody></tbody></table></div>"
      ]
     },
     "metadata": {
      "application/vnd.databricks.v1+output": {
       "addedWidgets": {},
       "aggData": [],
       "aggError": "",
       "aggOverflow": false,
       "aggSchema": [],
       "aggSeriesLimitReached": false,
       "aggType": "",
       "arguments": {},
       "columnCustomDisplayInfos": {},
       "data": [],
       "datasetInfos": [],
       "dbfsResultPath": null,
       "isJsonSchema": true,
       "metadata": {},
       "overflow": false,
       "plotOptions": {
        "customPlotOptions": {},
        "displayType": "table",
        "pivotAggregation": null,
        "pivotColumns": null,
        "xColumns": null,
        "yColumns": null
       },
       "removedWidgets": [],
       "schema": [],
       "type": "table"
      }
     },
     "output_type": "display_data"
    }
   ],
   "source": [
    "%sql\n",
    "CREATE DATABASE IF NOT EXISTS teste"
   ]
  },
  {
   "cell_type": "code",
   "execution_count": 0,
   "metadata": {
    "application/vnd.databricks.v1+cell": {
     "cellMetadata": {
      "byteLimit": 2048000,
      "implicitDf": true,
      "rowLimit": 10000
     },
     "inputWidgets": {},
     "nuid": "d7a143d9-7464-4577-a49e-490103c2bf93",
     "showTitle": false,
     "title": ""
    }
   },
   "outputs": [
    {
     "output_type": "display_data",
     "data": {
      "text/html": [
       "<style scoped>\n",
       "  .table-result-container {\n",
       "    max-height: 300px;\n",
       "    overflow: auto;\n",
       "  }\n",
       "  table, th, td {\n",
       "    border: 1px solid black;\n",
       "    border-collapse: collapse;\n",
       "  }\n",
       "  th, td {\n",
       "    padding: 5px;\n",
       "  }\n",
       "  th {\n",
       "    text-align: left;\n",
       "  }\n",
       "</style><div class='table-result-container'><table class='table-result'><thead style='background-color: white'><tr><th>databaseName</th></tr></thead><tbody><tr><td>default</td></tr><tr><td>teste</td></tr></tbody></table></div>"
      ]
     },
     "metadata": {
      "application/vnd.databricks.v1+output": {
       "addedWidgets": {},
       "aggData": [],
       "aggError": "",
       "aggOverflow": false,
       "aggSchema": [],
       "aggSeriesLimitReached": false,
       "aggType": "",
       "arguments": {},
       "columnCustomDisplayInfos": {},
       "data": [
        [
         "default"
        ],
        [
         "teste"
        ]
       ],
       "datasetInfos": [],
       "dbfsResultPath": null,
       "isJsonSchema": true,
       "metadata": {},
       "overflow": false,
       "plotOptions": {
        "customPlotOptions": {},
        "displayType": "table",
        "pivotAggregation": null,
        "pivotColumns": null,
        "xColumns": null,
        "yColumns": null
       },
       "removedWidgets": [],
       "schema": [
        {
         "metadata": "{}",
         "name": "databaseName",
         "type": "\"string\""
        }
       ],
       "type": "table"
      }
     },
     "output_type": "display_data"
    }
   ],
   "source": [
    "%sql\n",
    "SHOW DATABASES"
   ]
  },
  {
   "cell_type": "markdown",
   "metadata": {
    "application/vnd.databricks.v1+cell": {
     "cellMetadata": {},
     "inputWidgets": {},
     "nuid": "b9102595-6b66-4c0d-a026-ef3d57b53fe7",
     "showTitle": false,
     "title": ""
    }
   },
   "source": [
    "### Criando uma tabela"
   ]
  },
  {
   "cell_type": "code",
   "execution_count": 0,
   "metadata": {
    "application/vnd.databricks.v1+cell": {
     "cellMetadata": {
      "byteLimit": 2048000,
      "implicitDf": true,
      "rowLimit": 10000
     },
     "inputWidgets": {},
     "nuid": "8c06ddb9-90b6-42e3-9bbd-361ff2e4d22c",
     "showTitle": false,
     "title": ""
    }
   },
   "outputs": [
    {
     "output_type": "display_data",
     "data": {
      "text/html": [
       "<style scoped>\n",
       "  .table-result-container {\n",
       "    max-height: 300px;\n",
       "    overflow: auto;\n",
       "  }\n",
       "  table, th, td {\n",
       "    border: 1px solid black;\n",
       "    border-collapse: collapse;\n",
       "  }\n",
       "  th, td {\n",
       "    padding: 5px;\n",
       "  }\n",
       "  th {\n",
       "    text-align: left;\n",
       "  }\n",
       "</style><div class='table-result-container'><table class='table-result'><thead style='background-color: white'><tr></tr></thead><tbody></tbody></table></div>"
      ]
     },
     "metadata": {
      "application/vnd.databricks.v1+output": {
       "addedWidgets": {},
       "aggData": [],
       "aggError": "",
       "aggOverflow": false,
       "aggSchema": [],
       "aggSeriesLimitReached": false,
       "aggType": "",
       "arguments": {},
       "columnCustomDisplayInfos": {},
       "data": [],
       "datasetInfos": [],
       "dbfsResultPath": null,
       "isJsonSchema": true,
       "metadata": {},
       "overflow": false,
       "plotOptions": {
        "customPlotOptions": {},
        "displayType": "table",
        "pivotAggregation": null,
        "pivotColumns": null,
        "xColumns": null,
        "yColumns": null
       },
       "removedWidgets": [],
       "schema": [],
       "type": "table"
      }
     },
     "output_type": "display_data"
    }
   ],
   "source": [
    "%sql\n",
    "USE teste"
   ]
  },
  {
   "cell_type": "code",
   "execution_count": 0,
   "metadata": {
    "application/vnd.databricks.v1+cell": {
     "cellMetadata": {
      "byteLimit": 2048000,
      "implicitDf": true,
      "rowLimit": 10000
     },
     "inputWidgets": {},
     "nuid": "d2999b4f-6ed0-4cd3-bcc4-d3e4d9af557c",
     "showTitle": false,
     "title": ""
    }
   },
   "outputs": [
    {
     "output_type": "display_data",
     "data": {
      "text/html": [
       "<style scoped>\n",
       "  .table-result-container {\n",
       "    max-height: 300px;\n",
       "    overflow: auto;\n",
       "  }\n",
       "  table, th, td {\n",
       "    border: 1px solid black;\n",
       "    border-collapse: collapse;\n",
       "  }\n",
       "  th, td {\n",
       "    padding: 5px;\n",
       "  }\n",
       "  th {\n",
       "    text-align: left;\n",
       "  }\n",
       "</style><div class='table-result-container'><table class='table-result'><thead style='background-color: white'><tr></tr></thead><tbody></tbody></table></div>"
      ]
     },
     "metadata": {
      "application/vnd.databricks.v1+output": {
       "addedWidgets": {},
       "aggData": [],
       "aggError": "",
       "aggOverflow": false,
       "aggSchema": [],
       "aggSeriesLimitReached": false,
       "aggType": "",
       "arguments": {},
       "columnCustomDisplayInfos": {},
       "data": [],
       "datasetInfos": [],
       "dbfsResultPath": null,
       "isJsonSchema": true,
       "metadata": {},
       "overflow": false,
       "plotOptions": {
        "customPlotOptions": {},
        "displayType": "table",
        "pivotAggregation": null,
        "pivotColumns": null,
        "xColumns": null,
        "yColumns": null
       },
       "removedWidgets": [],
       "schema": [],
       "type": "table"
      }
     },
     "output_type": "display_data"
    }
   ],
   "source": [
    "%sql\n",
    "CREATE TABLE usuarios(\n",
    "  idade int,\n",
    "  estado string,\n",
    "  salario float\n",
    ")\n",
    "  ROW FORMAT DELIMITED \n",
    "    FIELDS TERMINATED BY ','\n",
    "    LINES TERMINATED BY '\\n'\n",
    "  STORED AS textfile\n",
    "  LOCATION '/FileStore/tables/aula-databricks/usuarios/'"
   ]
  },
  {
   "cell_type": "code",
   "execution_count": 0,
   "metadata": {
    "application/vnd.databricks.v1+cell": {
     "cellMetadata": {
      "byteLimit": 2048000,
      "implicitDf": true,
      "rowLimit": 10000
     },
     "inputWidgets": {},
     "nuid": "1e087f47-f46e-4941-a2ec-0763b5027792",
     "showTitle": false,
     "title": ""
    }
   },
   "outputs": [
    {
     "output_type": "display_data",
     "data": {
      "text/html": [
       "<style scoped>\n",
       "  .table-result-container {\n",
       "    max-height: 300px;\n",
       "    overflow: auto;\n",
       "  }\n",
       "  table, th, td {\n",
       "    border: 1px solid black;\n",
       "    border-collapse: collapse;\n",
       "  }\n",
       "  th, td {\n",
       "    padding: 5px;\n",
       "  }\n",
       "  th {\n",
       "    text-align: left;\n",
       "  }\n",
       "</style><div class='table-result-container'><table class='table-result'><thead style='background-color: white'><tr><th>database</th><th>tableName</th><th>isTemporary</th></tr></thead><tbody><tr><td>teste</td><td>usuarios</td><td>false</td></tr></tbody></table></div>"
      ]
     },
     "metadata": {
      "application/vnd.databricks.v1+output": {
       "addedWidgets": {},
       "aggData": [],
       "aggError": "",
       "aggOverflow": false,
       "aggSchema": [],
       "aggSeriesLimitReached": false,
       "aggType": "",
       "arguments": {},
       "columnCustomDisplayInfos": {},
       "data": [
        [
         "teste",
         "usuarios",
         false
        ]
       ],
       "datasetInfos": [],
       "dbfsResultPath": null,
       "isJsonSchema": true,
       "metadata": {},
       "overflow": false,
       "plotOptions": {
        "customPlotOptions": {},
        "displayType": "table",
        "pivotAggregation": null,
        "pivotColumns": null,
        "xColumns": null,
        "yColumns": null
       },
       "removedWidgets": [],
       "schema": [
        {
         "metadata": "{}",
         "name": "database",
         "type": "\"string\""
        },
        {
         "metadata": "{}",
         "name": "tableName",
         "type": "\"string\""
        },
        {
         "metadata": "{}",
         "name": "isTemporary",
         "type": "\"boolean\""
        }
       ],
       "type": "table"
      }
     },
     "output_type": "display_data"
    }
   ],
   "source": [
    "%sql\n",
    "SHOW TABLES"
   ]
  },
  {
   "cell_type": "code",
   "execution_count": 0,
   "metadata": {
    "application/vnd.databricks.v1+cell": {
     "cellMetadata": {
      "byteLimit": 2048000,
      "implicitDf": true,
      "rowLimit": 10000
     },
     "inputWidgets": {},
     "nuid": "5d2fbb3b-d851-4505-9aa4-1691cd7a168e",
     "showTitle": false,
     "title": ""
    }
   },
   "outputs": [
    {
     "output_type": "display_data",
     "data": {
      "text/html": [
       "<style scoped>\n",
       "  .table-result-container {\n",
       "    max-height: 300px;\n",
       "    overflow: auto;\n",
       "  }\n",
       "  table, th, td {\n",
       "    border: 1px solid black;\n",
       "    border-collapse: collapse;\n",
       "  }\n",
       "  th, td {\n",
       "    padding: 5px;\n",
       "  }\n",
       "  th {\n",
       "    text-align: left;\n",
       "  }\n",
       "</style><div class='table-result-container'><table class='table-result'><thead style='background-color: white'><tr><th>idade</th><th>estado</th><th>salario</th></tr></thead><tbody></tbody></table></div>"
      ]
     },
     "metadata": {
      "application/vnd.databricks.v1+output": {
       "addedWidgets": {},
       "aggData": [],
       "aggError": "",
       "aggOverflow": false,
       "aggSchema": [],
       "aggSeriesLimitReached": false,
       "aggType": "",
       "arguments": {},
       "columnCustomDisplayInfos": {},
       "data": [],
       "datasetInfos": [],
       "dbfsResultPath": null,
       "isJsonSchema": true,
       "metadata": {},
       "overflow": false,
       "plotOptions": {
        "customPlotOptions": {},
        "displayType": "table",
        "pivotAggregation": null,
        "pivotColumns": null,
        "xColumns": null,
        "yColumns": null
       },
       "removedWidgets": [],
       "schema": [
        {
         "metadata": "{}",
         "name": "idade",
         "type": "\"integer\""
        },
        {
         "metadata": "{}",
         "name": "estado",
         "type": "\"string\""
        },
        {
         "metadata": "{}",
         "name": "salario",
         "type": "\"float\""
        }
       ],
       "type": "table"
      }
     },
     "output_type": "display_data"
    }
   ],
   "source": [
    "%sql\n",
    "SELECT *\n",
    "  FROM usuarios"
   ]
  },
  {
   "cell_type": "markdown",
   "metadata": {
    "application/vnd.databricks.v1+cell": {
     "cellMetadata": {},
     "inputWidgets": {},
     "nuid": "925472b6-9461-48c4-b710-aad25a94e4b2",
     "showTitle": false,
     "title": ""
    }
   },
   "source": [
    "### Inserindo registros em uma tabela"
   ]
  },
  {
   "cell_type": "code",
   "execution_count": 0,
   "metadata": {
    "application/vnd.databricks.v1+cell": {
     "cellMetadata": {
      "byteLimit": 2048000,
      "implicitDf": true,
      "rowLimit": 10000
     },
     "inputWidgets": {},
     "nuid": "1ac57aaf-5349-4e5a-8f10-01447af4ec6a",
     "showTitle": false,
     "title": ""
    }
   },
   "outputs": [
    {
     "output_type": "display_data",
     "data": {
      "text/html": [
       "<style scoped>\n",
       "  .table-result-container {\n",
       "    max-height: 300px;\n",
       "    overflow: auto;\n",
       "  }\n",
       "  table, th, td {\n",
       "    border: 1px solid black;\n",
       "    border-collapse: collapse;\n",
       "  }\n",
       "  th, td {\n",
       "    padding: 5px;\n",
       "  }\n",
       "  th {\n",
       "    text-align: left;\n",
       "  }\n",
       "</style><div class='table-result-container'><table class='table-result'><thead style='background-color: white'><tr></tr></thead><tbody></tbody></table></div>"
      ]
     },
     "metadata": {
      "application/vnd.databricks.v1+output": {
       "addedWidgets": {},
       "aggData": [],
       "aggError": "",
       "aggOverflow": false,
       "aggSchema": [],
       "aggSeriesLimitReached": false,
       "aggType": "",
       "arguments": {},
       "columnCustomDisplayInfos": {},
       "data": [],
       "datasetInfos": [],
       "dbfsResultPath": null,
       "isJsonSchema": true,
       "metadata": {},
       "overflow": false,
       "plotOptions": {
        "customPlotOptions": {},
        "displayType": "table",
        "pivotAggregation": null,
        "pivotColumns": null,
        "xColumns": null,
        "yColumns": null
       },
       "removedWidgets": [],
       "schema": [],
       "type": "table"
      }
     },
     "output_type": "display_data"
    }
   ],
   "source": [
    "%sql\n",
    "INSERT INTO usuarios VALUES (25, 'SP', 5000)"
   ]
  },
  {
   "cell_type": "code",
   "execution_count": 0,
   "metadata": {
    "application/vnd.databricks.v1+cell": {
     "cellMetadata": {
      "byteLimit": 2048000,
      "implicitDf": true,
      "rowLimit": 10000
     },
     "inputWidgets": {},
     "nuid": "e92b563f-74b2-493b-9856-fbe904f441d0",
     "showTitle": false,
     "title": ""
    }
   },
   "outputs": [
    {
     "output_type": "display_data",
     "data": {
      "text/html": [
       "<style scoped>\n",
       "  .table-result-container {\n",
       "    max-height: 300px;\n",
       "    overflow: auto;\n",
       "  }\n",
       "  table, th, td {\n",
       "    border: 1px solid black;\n",
       "    border-collapse: collapse;\n",
       "  }\n",
       "  th, td {\n",
       "    padding: 5px;\n",
       "  }\n",
       "  th {\n",
       "    text-align: left;\n",
       "  }\n",
       "</style><div class='table-result-container'><table class='table-result'><thead style='background-color: white'><tr><th>idade</th><th>estado</th><th>salario</th></tr></thead><tbody><tr><td>25</td><td>SP</td><td>5000.0</td></tr></tbody></table></div>"
      ]
     },
     "metadata": {
      "application/vnd.databricks.v1+output": {
       "addedWidgets": {},
       "aggData": [],
       "aggError": "",
       "aggOverflow": false,
       "aggSchema": [],
       "aggSeriesLimitReached": false,
       "aggType": "",
       "arguments": {},
       "columnCustomDisplayInfos": {},
       "data": [
        [
         25,
         "SP",
         5000.0
        ]
       ],
       "datasetInfos": [],
       "dbfsResultPath": null,
       "isJsonSchema": true,
       "metadata": {},
       "overflow": false,
       "plotOptions": {
        "customPlotOptions": {},
        "displayType": "table",
        "pivotAggregation": null,
        "pivotColumns": null,
        "xColumns": null,
        "yColumns": null
       },
       "removedWidgets": [],
       "schema": [
        {
         "metadata": "{}",
         "name": "idade",
         "type": "\"integer\""
        },
        {
         "metadata": "{}",
         "name": "estado",
         "type": "\"string\""
        },
        {
         "metadata": "{}",
         "name": "salario",
         "type": "\"float\""
        }
       ],
       "type": "table"
      }
     },
     "output_type": "display_data"
    }
   ],
   "source": [
    "%sql\n",
    "SELECT *\n",
    "  FROM usuarios"
   ]
  },
  {
   "cell_type": "markdown",
   "metadata": {
    "application/vnd.databricks.v1+cell": {
     "cellMetadata": {},
     "inputWidgets": {},
     "nuid": "f8c81e1b-9c35-4836-8b83-822dce361acf",
     "showTitle": false,
     "title": ""
    }
   },
   "source": [
    "## Partições\n",
    "\n",
    "Existem duas maneiras de inserir dados na tabela de partição:\n",
    "\n",
    "**Estático:** precisamos especificar o valor da coluna de partição em cada instrução que será carregada.\n",
    "\n",
    "> `PARTITION(country=\"BR\")`\n",
    "\n",
    "**Dinâmico:** Não precisamos especificar o valor da coluna da partição.\n",
    "\n",
    "> `PARTITION(country)`"
   ]
  },
  {
   "cell_type": "code",
   "execution_count": 0,
   "metadata": {
    "application/vnd.databricks.v1+cell": {
     "cellMetadata": {
      "byteLimit": 2048000,
      "implicitDf": true,
      "rowLimit": 10000
     },
     "inputWidgets": {},
     "nuid": "d61890e3-1957-4f9b-b938-f3f855ed9dd4",
     "showTitle": false,
     "title": ""
    }
   },
   "outputs": [
    {
     "output_type": "display_data",
     "data": {
      "text/html": [
       "<style scoped>\n",
       "  .table-result-container {\n",
       "    max-height: 300px;\n",
       "    overflow: auto;\n",
       "  }\n",
       "  table, th, td {\n",
       "    border: 1px solid black;\n",
       "    border-collapse: collapse;\n",
       "  }\n",
       "  th, td {\n",
       "    padding: 5px;\n",
       "  }\n",
       "  th {\n",
       "    text-align: left;\n",
       "  }\n",
       "</style><div class='table-result-container'><table class='table-result'><thead style='background-color: white'><tr><th>key</th><th>value</th></tr></thead><tbody><tr><td>hive.exec.dynamic.partition.mode</td><td>nonstrict</td></tr></tbody></table></div>"
      ]
     },
     "metadata": {
      "application/vnd.databricks.v1+output": {
       "addedWidgets": {},
       "aggData": [],
       "aggError": "",
       "aggOverflow": false,
       "aggSchema": [],
       "aggSeriesLimitReached": false,
       "aggType": "",
       "arguments": {},
       "columnCustomDisplayInfos": {},
       "data": [
        [
         "hive.exec.dynamic.partition.mode",
         "nonstrict"
        ]
       ],
       "datasetInfos": [],
       "dbfsResultPath": null,
       "isJsonSchema": true,
       "metadata": {},
       "overflow": false,
       "plotOptions": {
        "customPlotOptions": {},
        "displayType": "table",
        "pivotAggregation": null,
        "pivotColumns": null,
        "xColumns": null,
        "yColumns": null
       },
       "removedWidgets": [],
       "schema": [
        {
         "metadata": "{}",
         "name": "key",
         "type": "\"string\""
        },
        {
         "metadata": "{}",
         "name": "value",
         "type": "\"string\""
        }
       ],
       "type": "table"
      }
     },
     "output_type": "display_data"
    }
   ],
   "source": [
    "%sql\n",
    "SET hive.exec.dynamic.partition = true;\n",
    "SET hive.exec.dynamic.partition.mode = nonstrict;"
   ]
  },
  {
   "cell_type": "code",
   "execution_count": 0,
   "metadata": {
    "application/vnd.databricks.v1+cell": {
     "cellMetadata": {
      "byteLimit": 2048000,
      "implicitDf": true,
      "rowLimit": 10000
     },
     "inputWidgets": {},
     "nuid": "0f6ae3bf-56a7-4549-9e3b-a3c735a7351a",
     "showTitle": false,
     "title": ""
    }
   },
   "outputs": [
    {
     "output_type": "display_data",
     "data": {
      "text/html": [
       "<style scoped>\n",
       "  .table-result-container {\n",
       "    max-height: 300px;\n",
       "    overflow: auto;\n",
       "  }\n",
       "  table, th, td {\n",
       "    border: 1px solid black;\n",
       "    border-collapse: collapse;\n",
       "  }\n",
       "  th, td {\n",
       "    padding: 5px;\n",
       "  }\n",
       "  th {\n",
       "    text-align: left;\n",
       "  }\n",
       "</style><div class='table-result-container'><table class='table-result'><thead style='background-color: white'><tr></tr></thead><tbody></tbody></table></div>"
      ]
     },
     "metadata": {
      "application/vnd.databricks.v1+output": {
       "addedWidgets": {},
       "aggData": [],
       "aggError": "",
       "aggOverflow": false,
       "aggSchema": [],
       "aggSeriesLimitReached": false,
       "aggType": "",
       "arguments": {},
       "columnCustomDisplayInfos": {},
       "data": [],
       "datasetInfos": [],
       "dbfsResultPath": null,
       "isJsonSchema": true,
       "metadata": {},
       "overflow": false,
       "plotOptions": {
        "customPlotOptions": {},
        "displayType": "table",
        "pivotAggregation": null,
        "pivotColumns": null,
        "xColumns": null,
        "yColumns": null
       },
       "removedWidgets": [],
       "schema": [],
       "type": "table"
      }
     },
     "output_type": "display_data"
    }
   ],
   "source": [
    "%sql\n",
    "CREATE TABLE usuariosPart(\n",
    "  idade int,\n",
    "  estado string,\n",
    "  salario float\n",
    ")\n",
    "  ROW FORMAT DELIMITED \n",
    "    FIELDS TERMINATED BY ','\n",
    "    LINES TERMINATED BY '\\n'\n",
    "  STORED AS textfile\n",
    "  PARTITIONED BY (ano int)\n",
    "  LOCATION '/FileStore/tables/aula-databricks/usuariosPart/'"
   ]
  },
  {
   "cell_type": "code",
   "execution_count": 0,
   "metadata": {
    "application/vnd.databricks.v1+cell": {
     "cellMetadata": {
      "byteLimit": 2048000,
      "implicitDf": true,
      "rowLimit": 10000
     },
     "inputWidgets": {},
     "nuid": "c8c71faa-9cf7-4407-a848-27a7867eb633",
     "showTitle": false,
     "title": ""
    }
   },
   "outputs": [
    {
     "output_type": "display_data",
     "data": {
      "text/html": [
       "<style scoped>\n",
       "  .table-result-container {\n",
       "    max-height: 300px;\n",
       "    overflow: auto;\n",
       "  }\n",
       "  table, th, td {\n",
       "    border: 1px solid black;\n",
       "    border-collapse: collapse;\n",
       "  }\n",
       "  th, td {\n",
       "    padding: 5px;\n",
       "  }\n",
       "  th {\n",
       "    text-align: left;\n",
       "  }\n",
       "</style><div class='table-result-container'><table class='table-result'><thead style='background-color: white'><tr></tr></thead><tbody></tbody></table></div>"
      ]
     },
     "metadata": {
      "application/vnd.databricks.v1+output": {
       "addedWidgets": {},
       "aggData": [],
       "aggError": "",
       "aggOverflow": false,
       "aggSchema": [],
       "aggSeriesLimitReached": false,
       "aggType": "",
       "arguments": {},
       "columnCustomDisplayInfos": {},
       "data": [],
       "datasetInfos": [],
       "dbfsResultPath": null,
       "isJsonSchema": true,
       "metadata": {},
       "overflow": false,
       "plotOptions": {
        "customPlotOptions": {},
        "displayType": "table",
        "pivotAggregation": null,
        "pivotColumns": null,
        "xColumns": null,
        "yColumns": null
       },
       "removedWidgets": [],
       "schema": [],
       "type": "table"
      }
     },
     "output_type": "display_data"
    }
   ],
   "source": [
    "%sql\n",
    "INSERT INTO usuariosPart VALUES (25, 'SP', 5000, 2021)"
   ]
  },
  {
   "cell_type": "code",
   "execution_count": 0,
   "metadata": {
    "application/vnd.databricks.v1+cell": {
     "cellMetadata": {
      "byteLimit": 2048000,
      "implicitDf": true,
      "rowLimit": 10000
     },
     "inputWidgets": {},
     "nuid": "b545f800-d677-4f05-adfe-97ecc583ecfc",
     "showTitle": false,
     "title": ""
    }
   },
   "outputs": [
    {
     "output_type": "display_data",
     "data": {
      "text/html": [
       "<style scoped>\n",
       "  .table-result-container {\n",
       "    max-height: 300px;\n",
       "    overflow: auto;\n",
       "  }\n",
       "  table, th, td {\n",
       "    border: 1px solid black;\n",
       "    border-collapse: collapse;\n",
       "  }\n",
       "  th, td {\n",
       "    padding: 5px;\n",
       "  }\n",
       "  th {\n",
       "    text-align: left;\n",
       "  }\n",
       "</style><div class='table-result-container'><table class='table-result'><thead style='background-color: white'><tr><th>idade</th><th>estado</th><th>salario</th><th>ano</th></tr></thead><tbody><tr><td>25</td><td>SP</td><td>5000.0</td><td>2021</td></tr></tbody></table></div>"
      ]
     },
     "metadata": {
      "application/vnd.databricks.v1+output": {
       "addedWidgets": {},
       "aggData": [],
       "aggError": "",
       "aggOverflow": false,
       "aggSchema": [],
       "aggSeriesLimitReached": false,
       "aggType": "",
       "arguments": {},
       "columnCustomDisplayInfos": {},
       "data": [
        [
         25,
         "SP",
         5000.0,
         2021
        ]
       ],
       "datasetInfos": [],
       "dbfsResultPath": null,
       "isJsonSchema": true,
       "metadata": {},
       "overflow": false,
       "plotOptions": {
        "customPlotOptions": {},
        "displayType": "table",
        "pivotAggregation": null,
        "pivotColumns": null,
        "xColumns": null,
        "yColumns": null
       },
       "removedWidgets": [],
       "schema": [
        {
         "metadata": "{}",
         "name": "idade",
         "type": "\"integer\""
        },
        {
         "metadata": "{}",
         "name": "estado",
         "type": "\"string\""
        },
        {
         "metadata": "{}",
         "name": "salario",
         "type": "\"float\""
        },
        {
         "metadata": "{}",
         "name": "ano",
         "type": "\"integer\""
        }
       ],
       "type": "table"
      }
     },
     "output_type": "display_data"
    }
   ],
   "source": [
    "%sql\n",
    "SELECT *\n",
    "  FROM usuariosPart"
   ]
  },
  {
   "cell_type": "code",
   "execution_count": 0,
   "metadata": {
    "application/vnd.databricks.v1+cell": {
     "cellMetadata": {
      "byteLimit": 2048000,
      "implicitDf": true,
      "rowLimit": 10000
     },
     "inputWidgets": {},
     "nuid": "9d3531cf-a243-407e-830a-b590f087945b",
     "showTitle": false,
     "title": ""
    }
   },
   "outputs": [
    {
     "output_type": "display_data",
     "data": {
      "text/html": [
       "<style scoped>\n",
       "  .table-result-container {\n",
       "    max-height: 300px;\n",
       "    overflow: auto;\n",
       "  }\n",
       "  table, th, td {\n",
       "    border: 1px solid black;\n",
       "    border-collapse: collapse;\n",
       "  }\n",
       "  th, td {\n",
       "    padding: 5px;\n",
       "  }\n",
       "  th {\n",
       "    text-align: left;\n",
       "  }\n",
       "</style><div class='table-result-container'><table class='table-result'><thead style='background-color: white'><tr></tr></thead><tbody></tbody></table></div>"
      ]
     },
     "metadata": {
      "application/vnd.databricks.v1+output": {
       "addedWidgets": {},
       "aggData": [],
       "aggError": "",
       "aggOverflow": false,
       "aggSchema": [],
       "aggSeriesLimitReached": false,
       "aggType": "",
       "arguments": {},
       "columnCustomDisplayInfos": {},
       "data": [],
       "datasetInfos": [],
       "dbfsResultPath": null,
       "isJsonSchema": true,
       "metadata": {},
       "overflow": false,
       "plotOptions": {
        "customPlotOptions": {},
        "displayType": "table",
        "pivotAggregation": null,
        "pivotColumns": null,
        "xColumns": null,
        "yColumns": null
       },
       "removedWidgets": [],
       "schema": [],
       "type": "table"
      }
     },
     "output_type": "display_data"
    }
   ],
   "source": [
    "%sql\n",
    "INSERT INTO usuariosPart \n",
    "  PARTITION (ano=2020)\n",
    "    VALUES (30, 'SP', 6000)"
   ]
  },
  {
   "cell_type": "code",
   "execution_count": 0,
   "metadata": {
    "application/vnd.databricks.v1+cell": {
     "cellMetadata": {
      "byteLimit": 2048000,
      "implicitDf": true,
      "rowLimit": 10000
     },
     "inputWidgets": {},
     "nuid": "d437c6cb-3b7d-4872-aa2e-1f36239149aa",
     "showTitle": false,
     "title": ""
    }
   },
   "outputs": [
    {
     "output_type": "display_data",
     "data": {
      "text/html": [
       "<style scoped>\n",
       "  .table-result-container {\n",
       "    max-height: 300px;\n",
       "    overflow: auto;\n",
       "  }\n",
       "  table, th, td {\n",
       "    border: 1px solid black;\n",
       "    border-collapse: collapse;\n",
       "  }\n",
       "  th, td {\n",
       "    padding: 5px;\n",
       "  }\n",
       "  th {\n",
       "    text-align: left;\n",
       "  }\n",
       "</style><div class='table-result-container'><table class='table-result'><thead style='background-color: white'><tr><th>idade</th><th>estado</th><th>salario</th><th>ano</th></tr></thead><tbody><tr><td>30</td><td>SP</td><td>6000.0</td><td>2020</td></tr><tr><td>25</td><td>SP</td><td>5000.0</td><td>2021</td></tr></tbody></table></div>"
      ]
     },
     "metadata": {
      "application/vnd.databricks.v1+output": {
       "addedWidgets": {},
       "aggData": [],
       "aggError": "",
       "aggOverflow": false,
       "aggSchema": [],
       "aggSeriesLimitReached": false,
       "aggType": "",
       "arguments": {},
       "columnCustomDisplayInfos": {},
       "data": [
        [
         30,
         "SP",
         6000.0,
         2020
        ],
        [
         25,
         "SP",
         5000.0,
         2021
        ]
       ],
       "datasetInfos": [],
       "dbfsResultPath": null,
       "isJsonSchema": true,
       "metadata": {},
       "overflow": false,
       "plotOptions": {
        "customPlotOptions": {},
        "displayType": "table",
        "pivotAggregation": null,
        "pivotColumns": null,
        "xColumns": null,
        "yColumns": null
       },
       "removedWidgets": [],
       "schema": [
        {
         "metadata": "{}",
         "name": "idade",
         "type": "\"integer\""
        },
        {
         "metadata": "{}",
         "name": "estado",
         "type": "\"string\""
        },
        {
         "metadata": "{}",
         "name": "salario",
         "type": "\"float\""
        },
        {
         "metadata": "{}",
         "name": "ano",
         "type": "\"integer\""
        }
       ],
       "type": "table"
      }
     },
     "output_type": "display_data"
    }
   ],
   "source": [
    "%sql\n",
    "SELECT *\n",
    "  FROM usuariosPart"
   ]
  },
  {
   "cell_type": "code",
   "execution_count": 0,
   "metadata": {
    "application/vnd.databricks.v1+cell": {
     "cellMetadata": {
      "implicitDf": true
     },
     "inputWidgets": {},
     "nuid": "a1eb3369-06e6-40f8-ab5b-77a5ee46e5f0",
     "showTitle": false,
     "title": ""
    }
   },
   "outputs": [],
   "source": [
    "%sql\n",
    "SELECT * \n",
    "  FROM usuariosPart\n",
    "    WHERE ano=2020"
   ]
  },
  {
   "cell_type": "markdown",
   "metadata": {
    "application/vnd.databricks.v1+cell": {
     "cellMetadata": {},
     "inputWidgets": {},
     "nuid": "976ddeae-0ab5-4165-a0c3-71efedf8dc05",
     "showTitle": false,
     "title": ""
    }
   },
   "source": [
    "## Carregando dados"
   ]
  },
  {
   "cell_type": "code",
   "execution_count": 0,
   "metadata": {
    "application/vnd.databricks.v1+cell": {
     "cellMetadata": {
      "implicitDf": true
     },
     "inputWidgets": {},
     "nuid": "2f0a675f-bc4c-48fd-84bb-10fe74244417",
     "showTitle": false,
     "title": ""
    }
   },
   "outputs": [],
   "source": [
    "%sql\n",
    "CREATE DATABASE IF NOT EXISTS tabela_vinhos"
   ]
  },
  {
   "cell_type": "code",
   "execution_count": 0,
   "metadata": {
    "application/vnd.databricks.v1+cell": {
     "cellMetadata": {
      "implicitDf": true
     },
     "inputWidgets": {},
     "nuid": "f2c6c7f6-0d13-4102-93bf-3ec36a71e267",
     "showTitle": false,
     "title": ""
    }
   },
   "outputs": [],
   "source": [
    "%sql\n",
    "USE tabela_vinhos"
   ]
  },
  {
   "cell_type": "code",
   "execution_count": 0,
   "metadata": {
    "application/vnd.databricks.v1+cell": {
     "cellMetadata": {},
     "inputWidgets": {},
     "nuid": "72fe4c37-66b2-41c2-ba3c-711c6a0f9472",
     "showTitle": false,
     "title": ""
    }
   },
   "outputs": [],
   "source": [
    "dbutils.fs.head('/FileStore/tables/aula-databricks/vinhos/winequality-red.csv')"
   ]
  },
  {
   "cell_type": "code",
   "execution_count": 0,
   "metadata": {
    "application/vnd.databricks.v1+cell": {
     "cellMetadata": {
      "implicitDf": true
     },
     "inputWidgets": {},
     "nuid": "85bd96e1-b72c-4ce5-a2e8-b801ea17a3bc",
     "showTitle": false,
     "title": ""
    }
   },
   "outputs": [],
   "source": [
    "%sql\n",
    "CREATE TABLE red_wine(\n",
    "    fixed_acidity float,\n",
    "    volatile_acidity float,\n",
    "    citric_acid float,\n",
    "    residual_sugar float,\n",
    "    chlorides float,\n",
    "    free_sulfur_dioxide int,\n",
    "    total_sulfur_dioxide float,\n",
    "    density float,\n",
    "    pH float,\n",
    "    sulphates float,\n",
    "    alcohol float,\n",
    "    quality float\n",
    "    )\n",
    "      USING CSV\n",
    "        OPTIONS (\n",
    "            path '/FileStore/tables/aula-databricks/vinhos/winequality-red.csv',\n",
    "            header 'true',\n",
    "            delimiter ';'\n",
    "        )"
   ]
  },
  {
   "cell_type": "code",
   "execution_count": 0,
   "metadata": {
    "application/vnd.databricks.v1+cell": {
     "cellMetadata": {
      "implicitDf": true
     },
     "inputWidgets": {},
     "nuid": "b3302618-19a8-4208-8787-e8cf5e80ca2b",
     "showTitle": false,
     "title": ""
    }
   },
   "outputs": [],
   "source": [
    "%sql\n",
    "SHOW TABLES"
   ]
  },
  {
   "cell_type": "code",
   "execution_count": 0,
   "metadata": {
    "application/vnd.databricks.v1+cell": {
     "cellMetadata": {
      "implicitDf": true
     },
     "inputWidgets": {},
     "nuid": "104be41a-c897-43ae-8637-0b1ee082b079",
     "showTitle": false,
     "title": ""
    }
   },
   "outputs": [],
   "source": [
    "%sql\n",
    "SELECT *\n",
    "  FROM red_wine\n",
    "    LIMIT 10"
   ]
  },
  {
   "cell_type": "markdown",
   "metadata": {
    "application/vnd.databricks.v1+cell": {
     "cellMetadata": {},
     "inputWidgets": {},
     "nuid": "a0fe320e-0369-4cd2-b837-7959e078fe43",
     "showTitle": false,
     "title": ""
    }
   },
   "source": [
    "### Atividade - Faça como eu fiz\n",
    "\n",
    "Repita o mesmo procedimento feito para o arquivo de vinho tinto com o arquivo de vinho branco\n",
    "- Chame a tabela de white_wine"
   ]
  },
  {
   "cell_type": "code",
   "execution_count": 0,
   "metadata": {
    "application/vnd.databricks.v1+cell": {
     "cellMetadata": {},
     "inputWidgets": {},
     "nuid": "c7ea4cbd-1efc-40b1-837a-e8ee6f3932d6",
     "showTitle": false,
     "title": ""
    }
   },
   "outputs": [],
   "source": [
    "dbutils.fs.head('/FileStore/tables/aula-databricks/vinhos/winequality-white.csv')"
   ]
  },
  {
   "cell_type": "code",
   "execution_count": 0,
   "metadata": {
    "application/vnd.databricks.v1+cell": {
     "cellMetadata": {
      "implicitDf": true
     },
     "inputWidgets": {},
     "nuid": "8c4e84d3-7977-4e3e-9a56-44a4adb622b7",
     "showTitle": false,
     "title": ""
    }
   },
   "outputs": [],
   "source": [
    "%sql\n",
    "CREATE TABLE white_wine(\n",
    "    fixed_acidity float,\n",
    "    volatile_acidity float,\n",
    "    citric_acid float,\n",
    "    residual_sugar float,\n",
    "    chlorides float,\n",
    "    free_sulfur_dioxide int,\n",
    "    total_sulfur_dioxide float,\n",
    "    density float,\n",
    "    pH float,\n",
    "    sulphates float,\n",
    "    alcohol float,\n",
    "    quality float\n",
    "    )\n",
    "    USING CSV\n",
    "        OPTIONS (\n",
    "            path '/FileStore/tables/aula-databricks/vinhos/winequality-white.csv',\n",
    "            header 'true',\n",
    "            delimiter ';'\n",
    "        )"
   ]
  },
  {
   "cell_type": "code",
   "execution_count": 0,
   "metadata": {
    "application/vnd.databricks.v1+cell": {
     "cellMetadata": {
      "implicitDf": true
     },
     "inputWidgets": {},
     "nuid": "f2d7eff0-a6bf-42fe-821f-65e500d9fb4d",
     "showTitle": false,
     "title": ""
    }
   },
   "outputs": [],
   "source": [
    "%sql\n",
    "SHOW TABLES"
   ]
  },
  {
   "cell_type": "code",
   "execution_count": 0,
   "metadata": {
    "application/vnd.databricks.v1+cell": {
     "cellMetadata": {
      "implicitDf": true
     },
     "inputWidgets": {},
     "nuid": "9da8b20f-8e2c-498d-8c87-6ba508805b6d",
     "showTitle": false,
     "title": ""
    }
   },
   "outputs": [],
   "source": [
    "%sql\n",
    "SELECT *\n",
    "  FROM white_wine\n",
    "    LIMIT 10"
   ]
  },
  {
   "cell_type": "markdown",
   "metadata": {
    "application/vnd.databricks.v1+cell": {
     "cellMetadata": {},
     "inputWidgets": {},
     "nuid": "835ad2d4-0520-4d66-8d13-311a4dc30a2e",
     "showTitle": false,
     "title": ""
    }
   },
   "source": [
    "## Explorando os dados"
   ]
  },
  {
   "cell_type": "code",
   "execution_count": 0,
   "metadata": {
    "application/vnd.databricks.v1+cell": {
     "cellMetadata": {
      "implicitDf": true
     },
     "inputWidgets": {},
     "nuid": "b6a81199-39a4-491f-8535-c091ee3ac9c9",
     "showTitle": false,
     "title": ""
    }
   },
   "outputs": [],
   "source": [
    "%sql\n",
    "DESCRIBE red_wine"
   ]
  },
  {
   "cell_type": "code",
   "execution_count": 0,
   "metadata": {
    "application/vnd.databricks.v1+cell": {
     "cellMetadata": {
      "implicitDf": true
     },
     "inputWidgets": {},
     "nuid": "47a88241-a6d9-43af-944e-b1375265897e",
     "showTitle": false,
     "title": ""
    }
   },
   "outputs": [],
   "source": [
    "%sql\n",
    "SELECT DISTINCT (quality)\n",
    "  FROM red_wine\n",
    "    ORDER BY quality DESC"
   ]
  },
  {
   "cell_type": "code",
   "execution_count": 0,
   "metadata": {
    "application/vnd.databricks.v1+cell": {
     "cellMetadata": {
      "implicitDf": true
     },
     "inputWidgets": {},
     "nuid": "96f17b5c-83fa-4830-a50c-6d0479698c4c",
     "showTitle": false,
     "title": ""
    }
   },
   "outputs": [],
   "source": [
    "%sql\n",
    "SELECT quality, COUNT (quality) AS freq\n",
    "  FROM red_wine\n",
    "    GROUP BY quality\n",
    "      ORDER BY quality DESC"
   ]
  },
  {
   "cell_type": "code",
   "execution_count": 0,
   "metadata": {
    "application/vnd.databricks.v1+cell": {
     "cellMetadata": {
      "implicitDf": true
     },
     "inputWidgets": {},
     "nuid": "97323344-a53a-4084-b523-070515ebd41f",
     "showTitle": false,
     "title": ""
    }
   },
   "outputs": [],
   "source": [
    "%sql\n",
    "SELECT quality, MIN (pH) AS pH_mimino, MAX (pH) AS pH_maximo    \n",
    "  FROM red_wine\n",
    "    GROUP BY quality\n",
    "      ORDER BY quality DESC"
   ]
  },
  {
   "cell_type": "markdown",
   "metadata": {
    "application/vnd.databricks.v1+cell": {
     "cellMetadata": {},
     "inputWidgets": {},
     "nuid": "31549975-b8e9-4fba-aad0-8f52fcc4ec24",
     "showTitle": false,
     "title": ""
    }
   },
   "source": [
    "### Atividade - Faça como eu fiz\n",
    "\n",
    "Faz as mesmas análise com os dados de vinho branco e compare os resultados obtidos."
   ]
  },
  {
   "cell_type": "code",
   "execution_count": 0,
   "metadata": {
    "application/vnd.databricks.v1+cell": {
     "cellMetadata": {
      "implicitDf": true
     },
     "inputWidgets": {},
     "nuid": "5fef54f0-45b0-4656-b91d-3ebdc1cb5007",
     "showTitle": false,
     "title": ""
    }
   },
   "outputs": [],
   "source": [
    "%sql\n",
    "DESCRIBE white_wine"
   ]
  },
  {
   "cell_type": "code",
   "execution_count": 0,
   "metadata": {
    "application/vnd.databricks.v1+cell": {
     "cellMetadata": {
      "implicitDf": true
     },
     "inputWidgets": {},
     "nuid": "3bf32107-ad90-4cdc-a54c-d4d7ed93b6f4",
     "showTitle": false,
     "title": ""
    }
   },
   "outputs": [],
   "source": [
    "%sql\n",
    "SELECT DISTINCT (quality)\n",
    "  FROM white_wine\n",
    "    ORDER BY quality DESC"
   ]
  },
  {
   "cell_type": "code",
   "execution_count": 0,
   "metadata": {
    "application/vnd.databricks.v1+cell": {
     "cellMetadata": {
      "implicitDf": true
     },
     "inputWidgets": {},
     "nuid": "40c09671-de7a-4688-890b-61f86925022d",
     "showTitle": false,
     "title": ""
    }
   },
   "outputs": [],
   "source": [
    "%sql\n",
    "SELECT quality, COUNT (quality) AS freq\n",
    "  FROM white_wine\n",
    "    GROUP BY quality\n",
    "      ORDER BY quality DESC"
   ]
  },
  {
   "cell_type": "code",
   "execution_count": 0,
   "metadata": {
    "application/vnd.databricks.v1+cell": {
     "cellMetadata": {
      "implicitDf": true
     },
     "inputWidgets": {},
     "nuid": "a9b8789a-dd74-4d0b-abe3-4f1ec101e08a",
     "showTitle": false,
     "title": ""
    }
   },
   "outputs": [],
   "source": [
    "%sql\n",
    "SELECT quality, MIN (pH) AS pH_mimino, MAX (pH) AS pH_maximo    \n",
    "  FROM white_wine\n",
    "    GROUP BY quality\n",
    "      ORDER BY quality DESC"
   ]
  },
  {
   "cell_type": "markdown",
   "metadata": {
    "application/vnd.databricks.v1+cell": {
     "cellMetadata": {},
     "inputWidgets": {},
     "nuid": "757b8a82-c161-4060-b615-6110168ab0ed",
     "showTitle": false,
     "title": ""
    }
   },
   "source": [
    "## Juntando os dados"
   ]
  },
  {
   "cell_type": "code",
   "execution_count": 0,
   "metadata": {
    "application/vnd.databricks.v1+cell": {
     "cellMetadata": {
      "implicitDf": true
     },
     "inputWidgets": {},
     "nuid": "6ce7129f-1c1c-407e-8510-5190a137f12d",
     "showTitle": false,
     "title": ""
    }
   },
   "outputs": [],
   "source": [
    "%sql\n",
    "CREATE OR REPLACE TABLE new_red_wine \n",
    "  AS SELECT *, 'red' AS wine_type\n",
    "    FROM red_wine"
   ]
  },
  {
   "cell_type": "code",
   "execution_count": 0,
   "metadata": {
    "application/vnd.databricks.v1+cell": {
     "cellMetadata": {
      "implicitDf": true
     },
     "inputWidgets": {},
     "nuid": "e53fdfaa-a8f6-46a1-a7eb-47d87f8fb995",
     "showTitle": false,
     "title": ""
    }
   },
   "outputs": [],
   "source": [
    "%sql\n",
    "SELECT *\n",
    "  FROM new_red_wine"
   ]
  },
  {
   "cell_type": "code",
   "execution_count": 0,
   "metadata": {
    "application/vnd.databricks.v1+cell": {
     "cellMetadata": {
      "implicitDf": true
     },
     "inputWidgets": {},
     "nuid": "cd83ebba-a1f7-47ec-b744-2d7219ba59e6",
     "showTitle": false,
     "title": ""
    }
   },
   "outputs": [],
   "source": [
    "%sql\n",
    "CREATE OR REPLACE TABLE new_white_wine \n",
    "  AS select *, 'white' AS wine_type\n",
    "    FROM white_wine"
   ]
  },
  {
   "cell_type": "code",
   "execution_count": 0,
   "metadata": {
    "application/vnd.databricks.v1+cell": {
     "cellMetadata": {
      "implicitDf": true
     },
     "inputWidgets": {},
     "nuid": "79f75ec1-9fe3-443f-8847-aa4b54b12273",
     "showTitle": false,
     "title": ""
    }
   },
   "outputs": [],
   "source": [
    "%sql\n",
    "SELECT *\n",
    "  FROM new_white_wine"
   ]
  },
  {
   "cell_type": "code",
   "execution_count": 0,
   "metadata": {
    "application/vnd.databricks.v1+cell": {
     "cellMetadata": {
      "implicitDf": true
     },
     "inputWidgets": {},
     "nuid": "9a9179eb-81d8-4d9e-80be-e943e7935e1c",
     "showTitle": false,
     "title": ""
    }
   },
   "outputs": [],
   "source": [
    "%sql\n",
    "CREATE OR REPLACE TABLE combined_wines \n",
    "  AS SELECT *\n",
    "    FROM new_red_wine\n",
    "      UNION ALL SELECT *\n",
    "        FROM new_white_wine"
   ]
  },
  {
   "cell_type": "code",
   "execution_count": 0,
   "metadata": {
    "application/vnd.databricks.v1+cell": {
     "cellMetadata": {
      "implicitDf": true
     },
     "inputWidgets": {},
     "nuid": "4653d821-49f5-42cb-9046-2d413dd1781e",
     "showTitle": false,
     "title": ""
    }
   },
   "outputs": [],
   "source": [
    "%sql\n",
    "SELECT wine_type, AVG (pH) AS pH_medio    \n",
    "  FROM combined_wines\n",
    "    GROUP BY wine_type\n",
    "      ORDER BY wine_type"
   ]
  },
  {
   "cell_type": "markdown",
   "metadata": {
    "application/vnd.databricks.v1+cell": {
     "cellMetadata": {},
     "inputWidgets": {},
     "nuid": "9bf3ad21-d5d1-4164-864e-ade4f67b3909",
     "showTitle": false,
     "title": ""
    }
   },
   "source": [
    "# Apache Spark"
   ]
  },
  {
   "cell_type": "code",
   "execution_count": 0,
   "metadata": {
    "application/vnd.databricks.v1+cell": {
     "cellMetadata": {},
     "inputWidgets": {},
     "nuid": "3ab48b21-5b79-4ef3-aad1-6a221d06a592",
     "showTitle": false,
     "title": ""
    }
   },
   "outputs": [],
   "source": [
    "spark"
   ]
  },
  {
   "cell_type": "markdown",
   "metadata": {
    "application/vnd.databricks.v1+cell": {
     "cellMetadata": {},
     "inputWidgets": {},
     "nuid": "a167d8d1-60dc-46f8-bbef-b1b3abde9ef7",
     "showTitle": false,
     "title": ""
    }
   },
   "source": [
    "## Comunicação Hive-Spark"
   ]
  },
  {
   "cell_type": "code",
   "execution_count": 0,
   "metadata": {
    "application/vnd.databricks.v1+cell": {
     "cellMetadata": {
      "implicitDf": true
     },
     "inputWidgets": {},
     "nuid": "fd9b98ec-bdad-4e66-ba97-bca062629c24",
     "showTitle": false,
     "title": ""
    }
   },
   "outputs": [],
   "source": [
    "%sql\n",
    "SHOW TABLES"
   ]
  },
  {
   "cell_type": "code",
   "execution_count": 0,
   "metadata": {
    "application/vnd.databricks.v1+cell": {
     "cellMetadata": {},
     "inputWidgets": {},
     "nuid": "f6278048-06a0-4348-8431-d19f65bd8346",
     "showTitle": false,
     "title": ""
    }
   },
   "outputs": [],
   "source": [
    "tabela = spark.table('tabela_vinhos.combined_wines')"
   ]
  },
  {
   "cell_type": "code",
   "execution_count": 0,
   "metadata": {
    "application/vnd.databricks.v1+cell": {
     "cellMetadata": {},
     "inputWidgets": {},
     "nuid": "36365ad6-abd4-494e-a5f0-f4f95a988f75",
     "showTitle": false,
     "title": ""
    }
   },
   "outputs": [],
   "source": [
    "tabela"
   ]
  },
  {
   "cell_type": "code",
   "execution_count": 0,
   "metadata": {
    "application/vnd.databricks.v1+cell": {
     "cellMetadata": {},
     "inputWidgets": {},
     "nuid": "46e222e0-7c72-4846-9419-524e27755ed9",
     "showTitle": false,
     "title": ""
    }
   },
   "outputs": [],
   "source": [
    "tabela.show()"
   ]
  },
  {
   "cell_type": "code",
   "execution_count": 0,
   "metadata": {
    "application/vnd.databricks.v1+cell": {
     "cellMetadata": {},
     "inputWidgets": {},
     "nuid": "145f0b8d-c98c-42e0-89a8-2087ace16330",
     "showTitle": false,
     "title": ""
    }
   },
   "outputs": [],
   "source": [
    "display(tabela)"
   ]
  },
  {
   "cell_type": "markdown",
   "metadata": {
    "application/vnd.databricks.v1+cell": {
     "cellMetadata": {},
     "inputWidgets": {},
     "nuid": "28951a40-ec4a-4f1e-bc07-17cde63656d4",
     "showTitle": false,
     "title": ""
    }
   },
   "source": [
    "### SQL com Spark\n",
    "\n",
    "```spark.sql('query').show()```\n",
    "\n",
    "ou \n",
    "\n",
    "```display(spark.sql('query'))```\n",
    "\n",
    "Se quisermos pular linhas na query temos que utilizar 3 aspas simples:\n",
    "```\n",
    "spark.sql( '''\n",
    "  query\n",
    "''' ).show()\n",
    "```"
   ]
  },
  {
   "cell_type": "code",
   "execution_count": 0,
   "metadata": {
    "application/vnd.databricks.v1+cell": {
     "cellMetadata": {},
     "inputWidgets": {},
     "nuid": "c92113fc-5457-4839-a00f-ea4d8dbb5ad8",
     "showTitle": false,
     "title": ""
    }
   },
   "outputs": [],
   "source": [
    "spark.sql('''\n",
    "    SELECT DISTINCT (quality)\n",
    "        FROM combined_wines\n",
    "            ORDER BY quality DESC \n",
    "''').show()"
   ]
  },
  {
   "cell_type": "code",
   "execution_count": 0,
   "metadata": {
    "application/vnd.databricks.v1+cell": {
     "cellMetadata": {},
     "inputWidgets": {},
     "nuid": "38c901b1-5195-4ae6-99aa-8bf539c76201",
     "showTitle": false,
     "title": ""
    }
   },
   "outputs": [],
   "source": [
    "spark.sql('SELECT AVG (pH) FROM combined_wines').show()"
   ]
  },
  {
   "cell_type": "markdown",
   "metadata": {
    "application/vnd.databricks.v1+cell": {
     "cellMetadata": {},
     "inputWidgets": {},
     "nuid": "bf91a1ce-7f1c-4caa-82dc-997dbb272b01",
     "showTitle": false,
     "title": ""
    }
   },
   "source": [
    "### Registrando uma tabela"
   ]
  },
  {
   "cell_type": "code",
   "execution_count": 0,
   "metadata": {
    "application/vnd.databricks.v1+cell": {
     "cellMetadata": {},
     "inputWidgets": {},
     "nuid": "d933f8e0-0502-49da-9558-a5794b2adca3",
     "showTitle": false,
     "title": ""
    }
   },
   "outputs": [],
   "source": [
    "resultado = spark.sql(''' \n",
    "    SELECT *\n",
    "        FROM combined_wines\n",
    "            WHERE pH < 3\n",
    "''')"
   ]
  },
  {
   "cell_type": "code",
   "execution_count": 0,
   "metadata": {
    "application/vnd.databricks.v1+cell": {
     "cellMetadata": {},
     "inputWidgets": {},
     "nuid": "362e6b15-4a90-4019-b855-9f709b2a70d2",
     "showTitle": false,
     "title": ""
    }
   },
   "outputs": [],
   "source": [
    "type(resultado)"
   ]
  },
  {
   "cell_type": "code",
   "execution_count": 0,
   "metadata": {
    "application/vnd.databricks.v1+cell": {
     "cellMetadata": {},
     "inputWidgets": {},
     "nuid": "ff75bd84-505e-41e0-9d62-042f314d7471",
     "showTitle": false,
     "title": ""
    }
   },
   "outputs": [],
   "source": [
    "resultado.createOrReplaceTempView('nova_tabela')"
   ]
  },
  {
   "cell_type": "code",
   "execution_count": 0,
   "metadata": {
    "application/vnd.databricks.v1+cell": {
     "cellMetadata": {},
     "inputWidgets": {},
     "nuid": "16d15e63-d253-43a0-89c7-9284d58906f9",
     "showTitle": false,
     "title": ""
    }
   },
   "outputs": [],
   "source": [
    "spark.sql('''\n",
    "    SELECT quality, COUNT (quality) AS Freq\n",
    "        FROM nova_tabela\n",
    "            GROUP BY quality\n",
    "''').show()"
   ]
  },
  {
   "cell_type": "markdown",
   "metadata": {
    "application/vnd.databricks.v1+cell": {
     "cellMetadata": {},
     "inputWidgets": {},
     "nuid": "52cc9db7-95cb-4a8a-9eb9-38cf5b6cd988",
     "showTitle": false,
     "title": ""
    }
   },
   "source": [
    "## PySpark"
   ]
  },
  {
   "cell_type": "code",
   "execution_count": 0,
   "metadata": {
    "application/vnd.databricks.v1+cell": {
     "cellMetadata": {},
     "inputWidgets": {},
     "nuid": "7292effe-83dc-4c0f-807f-9cf347d57224",
     "showTitle": false,
     "title": ""
    }
   },
   "outputs": [],
   "source": [
    "import pyspark\n",
    "from pyspark.sql.functions import lit"
   ]
  },
  {
   "cell_type": "code",
   "execution_count": 0,
   "metadata": {
    "application/vnd.databricks.v1+cell": {
     "cellMetadata": {},
     "inputWidgets": {},
     "nuid": "42c6a1fc-1b66-4b57-b6f0-5b617700d600",
     "showTitle": false,
     "title": ""
    }
   },
   "outputs": [],
   "source": [
    "display(dbutils.fs.ls('/databricks-datasets/wine-quality/'))"
   ]
  },
  {
   "cell_type": "code",
   "execution_count": 0,
   "metadata": {
    "application/vnd.databricks.v1+cell": {
     "cellMetadata": {},
     "inputWidgets": {},
     "nuid": "4883b1d3-b2ae-4e50-b645-3c3a3c86775f",
     "showTitle": false,
     "title": ""
    }
   },
   "outputs": [],
   "source": [
    "red_wine_df = spark.read.format('csv')\\\n",
    "    .option('inferSchema', 'true')\\\n",
    "    .option('sep', ';')\\\n",
    "    .option('header', 'true')\\\n",
    "    .load('/databricks-datasets/wine-quality/winequality-red.csv')\n",
    "\n",
    "display(red_wine_df)"
   ]
  },
  {
   "cell_type": "code",
   "execution_count": 0,
   "metadata": {
    "application/vnd.databricks.v1+cell": {
     "cellMetadata": {},
     "inputWidgets": {},
     "nuid": "4df0bca4-e760-4bf6-a906-75e6c97b18ad",
     "showTitle": false,
     "title": ""
    }
   },
   "outputs": [],
   "source": [
    "type(red_wine_df)"
   ]
  },
  {
   "cell_type": "code",
   "execution_count": 0,
   "metadata": {
    "application/vnd.databricks.v1+cell": {
     "cellMetadata": {},
     "inputWidgets": {},
     "nuid": "12d13c36-c4cc-4894-97a5-f26a8972a10c",
     "showTitle": false,
     "title": ""
    }
   },
   "outputs": [],
   "source": [
    "white_wine_df = (spark.read.format('csv')\n",
    "    .option('inferSchema', 'true')\n",
    "    .option('sep', ';')\n",
    "    .option('header', 'true')\n",
    "    .load('/databricks-datasets/wine-quality/winequality-white.csv')\n",
    ")\n",
    "\n",
    "display(white_wine_df)"
   ]
  },
  {
   "cell_type": "code",
   "execution_count": 0,
   "metadata": {
    "application/vnd.databricks.v1+cell": {
     "cellMetadata": {},
     "inputWidgets": {},
     "nuid": "a97fc9e6-2d82-4032-9d7c-8e287bb5e903",
     "showTitle": false,
     "title": ""
    }
   },
   "outputs": [],
   "source": [
    "red_wine_df = red_wine_df.withColumn('wine_type', lit('red'))\n",
    "red_wine_df.show()"
   ]
  },
  {
   "cell_type": "code",
   "execution_count": 0,
   "metadata": {
    "application/vnd.databricks.v1+cell": {
     "cellMetadata": {},
     "inputWidgets": {},
     "nuid": "e0e98f30-9c51-4e13-b9e6-c0a74792e9c5",
     "showTitle": false,
     "title": ""
    }
   },
   "outputs": [],
   "source": [
    "white_wine_df = white_wine_df.withColumn('wine_type', lit('white'))\n",
    "white_wine_df.show()"
   ]
  },
  {
   "cell_type": "code",
   "execution_count": 0,
   "metadata": {
    "application/vnd.databricks.v1+cell": {
     "cellMetadata": {},
     "inputWidgets": {},
     "nuid": "ddda32c7-6464-4bb7-aacb-3e42c004936c",
     "showTitle": false,
     "title": ""
    }
   },
   "outputs": [],
   "source": [
    "combined_wines = red_wine_df.union(white_wine_df)\n",
    "display(combined_wines)"
   ]
  },
  {
   "cell_type": "code",
   "execution_count": 0,
   "metadata": {
    "application/vnd.databricks.v1+cell": {
     "cellMetadata": {},
     "inputWidgets": {},
     "nuid": "434f6f10-6ac2-471e-8ecb-89f37f82c316",
     "showTitle": false,
     "title": ""
    }
   },
   "outputs": [],
   "source": [
    "combined_wines = combined_wines.withColumnRenamed('quality', 'nota')\n",
    "display(combined_wines)"
   ]
  },
  {
   "cell_type": "code",
   "execution_count": 0,
   "metadata": {
    "application/vnd.databricks.v1+cell": {
     "cellMetadata": {},
     "inputWidgets": {},
     "nuid": "9fe7d90a-0f6e-4b62-81b7-1a532a216f85",
     "showTitle": false,
     "title": ""
    }
   },
   "outputs": [],
   "source": [
    "(\n",
    "    combined_wines\n",
    "        .select(['nota', 'wine_type'])\n",
    "        .show()\n",
    ")"
   ]
  },
  {
   "cell_type": "code",
   "execution_count": 0,
   "metadata": {
    "application/vnd.databricks.v1+cell": {
     "cellMetadata": {},
     "inputWidgets": {},
     "nuid": "3b7f74e2-a056-4635-8cf1-578eb7698c77",
     "showTitle": false,
     "title": ""
    }
   },
   "outputs": [],
   "source": [
    "(\n",
    "    combined_wines\n",
    "        .groupBy(['nota', 'wine_type'])\n",
    "        .count()\n",
    "        .show()\n",
    ")"
   ]
  },
  {
   "cell_type": "code",
   "execution_count": 0,
   "metadata": {
    "application/vnd.databricks.v1+cell": {
     "cellMetadata": {},
     "inputWidgets": {},
     "nuid": "29eea61c-58e4-4557-978c-2bed9c1dd308",
     "showTitle": false,
     "title": ""
    }
   },
   "outputs": [],
   "source": [
    "combined_wines.printSchema()"
   ]
  },
  {
   "cell_type": "code",
   "execution_count": 0,
   "metadata": {
    "application/vnd.databricks.v1+cell": {
     "cellMetadata": {},
     "inputWidgets": {},
     "nuid": "26f92f1d-63ed-40bf-84cc-550c3679709c",
     "showTitle": false,
     "title": ""
    }
   },
   "outputs": [],
   "source": [
    "(\n",
    "    combined_wines\n",
    "        .write\n",
    "        .option('header', True)\n",
    "        .mode('overwrite')\n",
    "        .csv('/FileStore/tables/aula-databricks/vinhos/pyspark')\n",
    ")"
   ]
  },
  {
   "cell_type": "code",
   "execution_count": 0,
   "metadata": {
    "application/vnd.databricks.v1+cell": {
     "cellMetadata": {},
     "inputWidgets": {},
     "nuid": "e8aa4225-10cb-447f-89a2-d122b1a412c5",
     "showTitle": false,
     "title": ""
    }
   },
   "outputs": [],
   "source": []
  }
 ],
 "metadata": {
  "application/vnd.databricks.v1+notebook": {
   "dashboards": [],
   "language": "python",
   "notebookMetadata": {
    "mostRecentlyExecutedCommandWithImplicitDF": {
     "commandId": 2521796350613803,
     "dataframes": [
      "_sqldf"
     ]
    },
    "pythonIndentUnit": 4
   },
   "notebookName": "projeto-aula",
   "widgets": {}
  },
  "language_info": {
   "name": "python"
  }
 },
 "nbformat": 4,
 "nbformat_minor": 0
}
